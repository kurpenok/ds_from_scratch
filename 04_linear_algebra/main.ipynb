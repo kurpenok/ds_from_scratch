{
 "cells": [
  {
   "cell_type": "markdown",
   "id": "0de1eb95-19e0-40bb-896c-d6c0fb28bc63",
   "metadata": {},
   "source": [
    "# 04. Linear Algebra"
   ]
  },
  {
   "cell_type": "code",
   "execution_count": 1,
   "id": "26763fd2-1dc6-4705-9ebd-96cf2f5ee844",
   "metadata": {},
   "outputs": [],
   "source": [
    "import math"
   ]
  },
  {
   "cell_type": "markdown",
   "id": "d5575e18-13c8-49d0-b968-bf1311a8f1ba",
   "metadata": {},
   "source": [
    "## Vectors"
   ]
  },
  {
   "cell_type": "code",
   "execution_count": 2,
   "id": "107bcc28-b940-48f8-a7bb-017729705d24",
   "metadata": {},
   "outputs": [],
   "source": [
    "Vector = list[float]"
   ]
  },
  {
   "cell_type": "code",
   "execution_count": 3,
   "id": "e28cecc9-4279-4210-8e4e-672a9a87195b",
   "metadata": {},
   "outputs": [],
   "source": [
    "height_weight_age: Vector = [175, 68, 40]"
   ]
  },
  {
   "cell_type": "code",
   "execution_count": 4,
   "id": "338f8a85-61e1-4862-9f3e-edc86659e4aa",
   "metadata": {},
   "outputs": [],
   "source": [
    "grades: Vector = [95, 80, 75, 62]"
   ]
  },
  {
   "cell_type": "markdown",
   "id": "b1841177-7afd-4162-9666-7bbd5ca25e7d",
   "metadata": {},
   "source": [
    "Vector addition function"
   ]
  },
  {
   "cell_type": "code",
   "execution_count": 5,
   "id": "0b06d129-4d8e-4f1e-8133-5037f0bffff3",
   "metadata": {},
   "outputs": [],
   "source": [
    "def add(v: Vector, w: Vector) -> Vector:\n",
    "    assert len(v) == len(w), \"[-] Vectors must have same length!\"\n",
    "\n",
    "    return [v_i + w_i for v_i, w_i in zip(v, w)]\n",
    "\n",
    "\n",
    "assert add([1, 2, 3], [4, 5, 6]) == [5, 7, 9]"
   ]
  },
  {
   "cell_type": "markdown",
   "id": "4639b967-cb84-4302-976b-1df120589be3",
   "metadata": {},
   "source": [
    "Vector substraction function"
   ]
  },
  {
   "cell_type": "code",
   "execution_count": 6,
   "id": "606f442c-c571-4e5a-a1b5-67276d0cbd39",
   "metadata": {},
   "outputs": [],
   "source": [
    "def substract(v: Vector, w: Vector) -> Vector:\n",
    "    assert len(v) == len(w), \"[-] Vectors must have same length!\"\n",
    "\n",
    "    return [v_i - w_i for v_i, w_i in zip(v, w)]\n",
    "\n",
    "\n",
    "assert substract([5, 7, 9], [4, 5, 6]) == [1, 2, 3]"
   ]
  },
  {
   "cell_type": "markdown",
   "id": "0c6b0f49-927b-4dc8-a64a-e4edc155751f",
   "metadata": {},
   "source": [
    "Component-by-component vector addition function"
   ]
  },
  {
   "cell_type": "code",
   "execution_count": 7,
   "id": "0adf2418-f7a3-4e4c-9e4b-027d8953f960",
   "metadata": {},
   "outputs": [],
   "source": [
    "def vector_sum(vectors: list[Vector]) -> Vector:\n",
    "    assert vectors, \"[-] Vectors are not provided!\"\n",
    "    \n",
    "    assert all(len(v) == len(vectors[0]) for v in vectors), \"[-] Vectors must have same length!\"\n",
    "\n",
    "    return [sum(v[i] for v in vectors) for i in range(len(vectors[0]))]\n",
    "\n",
    "\n",
    "assert vector_sum([[1, 2], [3, 4], [5, 6], [7, 8]]) == [16, 20]"
   ]
  },
  {
   "cell_type": "markdown",
   "id": "028cf726-9d0b-4d0b-8bdc-717f882e3168",
   "metadata": {},
   "source": [
    "Multiplying vector by scalar"
   ]
  },
  {
   "cell_type": "code",
   "execution_count": 8,
   "id": "15120229-e358-463f-8da1-dcc55add42cb",
   "metadata": {},
   "outputs": [],
   "source": [
    "def scalar_multiply(c: float, v: Vector) -> Vector:\n",
    "    return [c * v_i for v_i in v]\n",
    "\n",
    "\n",
    "assert scalar_multiply(2, [1, 2, 3]) == [2, 4, 6]"
   ]
  },
  {
   "cell_type": "markdown",
   "id": "e8119efe-8708-4159-a0ae-dd33a2b350b7",
   "metadata": {},
   "source": [
    "Component-by-component average values of vector"
   ]
  },
  {
   "cell_type": "code",
   "execution_count": 9,
   "id": "f1a14d2c-c05a-4f57-bacd-170fc50ef9c5",
   "metadata": {},
   "outputs": [],
   "source": [
    "def vector_mean(vectors: list[Vector]) -> Vector:\n",
    "    return scalar_multiply(1 / len(vectors), vector_sum(vectors))\n",
    "\n",
    "\n",
    "assert vector_mean([[1, 2], [3, 4], [5, 6]]) == [3, 4]"
   ]
  },
  {
   "cell_type": "markdown",
   "id": "abccce26-43a4-4273-bf2a-044b8d0b0259",
   "metadata": {},
   "source": [
    "Vectors scalar product"
   ]
  },
  {
   "cell_type": "code",
   "execution_count": 10,
   "id": "bc41faf3-15ce-4ed1-b6cb-5cf84b11e099",
   "metadata": {},
   "outputs": [],
   "source": [
    "def dot(v: Vector, w: Vector) -> float:\n",
    "    assert len(v) == len(w), \"[-] Vectors must have same length!\"\n",
    "\n",
    "    return sum(v_i * w_i for v_i, w_i in zip(v, w))\n",
    "\n",
    "\n",
    "assert dot([1, 2, 3], [4, 5, 6]) == 32"
   ]
  },
  {
   "cell_type": "markdown",
   "id": "996e1028-96a1-43bb-86bd-f979ffbe7809",
   "metadata": {},
   "source": [
    "Vector sum squares"
   ]
  },
  {
   "cell_type": "code",
   "execution_count": 11,
   "id": "bd054e7d-48d5-48e0-bbea-fb206376526d",
   "metadata": {},
   "outputs": [],
   "source": [
    "def sum_of_squares(v: Vector) -> float:\n",
    "    return dot(v, v)\n",
    "\n",
    "\n",
    "assert sum_of_squares([1, 2, 3]) == 14"
   ]
  },
  {
   "cell_type": "markdown",
   "id": "3d2e0108-a15d-41ec-9776-240918059c7c",
   "metadata": {},
   "source": [
    "Vector length"
   ]
  },
  {
   "cell_type": "code",
   "execution_count": 12,
   "id": "a2600d28-e40d-420b-a36f-ff1f1d7edc45",
   "metadata": {},
   "outputs": [],
   "source": [
    "def magnitude(v: Vector) -> float:\n",
    "    return math.sqrt(sum_of_squares(v))\n",
    "\n",
    "\n",
    "assert magnitude([3, 4]) == 5"
   ]
  },
  {
   "cell_type": "markdown",
   "id": "461c7684-0c10-47a0-aaf3-024b449db5b3",
   "metadata": {},
   "source": [
    "Square of distance between two vectors"
   ]
  },
  {
   "cell_type": "code",
   "execution_count": 13,
   "id": "d2d17380-aa17-4af3-83e4-ecb41f5006a2",
   "metadata": {},
   "outputs": [],
   "source": [
    "def squared_distance(v: Vector, w: Vector) -> float:\n",
    "    return sum_of_squares(substract(v, w))"
   ]
  },
  {
   "cell_type": "markdown",
   "id": "77d3f711-1471-4c9c-adbd-55a640c8ef15",
   "metadata": {},
   "source": [
    "Distance between two vectors"
   ]
  },
  {
   "cell_type": "code",
   "execution_count": 14,
   "id": "d104a284-abbf-4751-bb54-30a7367a43a2",
   "metadata": {},
   "outputs": [],
   "source": [
    "def distance(v: Vector, w: Vector) -> float:\n",
    "    return math.sqrt(squared_distance(v, w))\n",
    "\n",
    "\n",
    "# def distance(v: Vector, w: Vector) -> float:\n",
    "#     return magnitude(substract(v, w))"
   ]
  }
 ],
 "metadata": {
  "kernelspec": {
   "display_name": "Python 3 (ipykernel)",
   "language": "python",
   "name": "python3"
  },
  "language_info": {
   "codemirror_mode": {
    "name": "ipython",
    "version": 3
   },
   "file_extension": ".py",
   "mimetype": "text/x-python",
   "name": "python",
   "nbconvert_exporter": "python",
   "pygments_lexer": "ipython3",
   "version": "3.12.2"
  }
 },
 "nbformat": 4,
 "nbformat_minor": 5
}
