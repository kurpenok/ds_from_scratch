{
 "cells": [
  {
   "cell_type": "markdown",
   "id": "0de1eb95-19e0-40bb-896c-d6c0fb28bc63",
   "metadata": {},
   "source": [
    "# 04. Linear Algebra"
   ]
  },
  {
   "cell_type": "markdown",
   "id": "05e70bb6-3487-4b77-9c2f-732848eca235",
   "metadata": {},
   "source": [
    "## Imports"
   ]
  },
  {
   "cell_type": "code",
   "execution_count": 1,
   "id": "26763fd2-1dc6-4705-9ebd-96cf2f5ee844",
   "metadata": {},
   "outputs": [],
   "source": [
    "import math\n",
    "\n",
    "from typing import Callable, Tuple"
   ]
  },
  {
   "cell_type": "markdown",
   "id": "d5575e18-13c8-49d0-b968-bf1311a8f1ba",
   "metadata": {},
   "source": [
    "## Vectors"
   ]
  },
  {
   "cell_type": "code",
   "execution_count": 2,
   "id": "107bcc28-b940-48f8-a7bb-017729705d24",
   "metadata": {},
   "outputs": [],
   "source": [
    "Vector = list[float]"
   ]
  },
  {
   "cell_type": "code",
   "execution_count": 3,
   "id": "e28cecc9-4279-4210-8e4e-672a9a87195b",
   "metadata": {},
   "outputs": [],
   "source": [
    "height_weight_age: Vector = [175, 68, 40]"
   ]
  },
  {
   "cell_type": "code",
   "execution_count": 4,
   "id": "338f8a85-61e1-4862-9f3e-edc86659e4aa",
   "metadata": {},
   "outputs": [],
   "source": [
    "grades: Vector = [95, 80, 75, 62]"
   ]
  },
  {
   "cell_type": "markdown",
   "id": "b1841177-7afd-4162-9666-7bbd5ca25e7d",
   "metadata": {},
   "source": [
    "Vector addition function"
   ]
  },
  {
   "cell_type": "code",
   "execution_count": 5,
   "id": "0b06d129-4d8e-4f1e-8133-5037f0bffff3",
   "metadata": {},
   "outputs": [],
   "source": [
    "def add(v: Vector, w: Vector) -> Vector:\n",
    "    assert len(v) == len(w), \"[-] Vectors must have same length!\"\n",
    "\n",
    "    return [v_i + w_i for v_i, w_i in zip(v, w)]\n",
    "\n",
    "\n",
    "assert add([1, 2, 3], [4, 5, 6]) == [5, 7, 9]"
   ]
  },
  {
   "cell_type": "markdown",
   "id": "4639b967-cb84-4302-976b-1df120589be3",
   "metadata": {},
   "source": [
    "Vector substraction function"
   ]
  },
  {
   "cell_type": "code",
   "execution_count": 6,
   "id": "606f442c-c571-4e5a-a1b5-67276d0cbd39",
   "metadata": {},
   "outputs": [],
   "source": [
    "def substract(v: Vector, w: Vector) -> Vector:\n",
    "    assert len(v) == len(w), \"[-] Vectors must have same length!\"\n",
    "\n",
    "    return [v_i - w_i for v_i, w_i in zip(v, w)]\n",
    "\n",
    "\n",
    "assert substract([5, 7, 9], [4, 5, 6]) == [1, 2, 3]"
   ]
  },
  {
   "cell_type": "markdown",
   "id": "0c6b0f49-927b-4dc8-a64a-e4edc155751f",
   "metadata": {},
   "source": [
    "Component-by-component vector addition function"
   ]
  },
  {
   "cell_type": "code",
   "execution_count": 7,
   "id": "0adf2418-f7a3-4e4c-9e4b-027d8953f960",
   "metadata": {},
   "outputs": [],
   "source": [
    "def vector_sum(vectors: list[Vector]) -> Vector:\n",
    "    assert vectors, \"[-] Vectors are not provided!\"\n",
    "    \n",
    "    assert all(len(v) == len(vectors[0]) for v in vectors), \"[-] Vectors must have same length!\"\n",
    "\n",
    "    return [sum(v[i] for v in vectors) for i in range(len(vectors[0]))]\n",
    "\n",
    "\n",
    "assert vector_sum([[1, 2], [3, 4], [5, 6], [7, 8]]) == [16, 20]"
   ]
  },
  {
   "cell_type": "markdown",
   "id": "028cf726-9d0b-4d0b-8bdc-717f882e3168",
   "metadata": {},
   "source": [
    "Multiplying vector by scalar"
   ]
  },
  {
   "cell_type": "code",
   "execution_count": 8,
   "id": "15120229-e358-463f-8da1-dcc55add42cb",
   "metadata": {},
   "outputs": [],
   "source": [
    "def scalar_multiply(c: float, v: Vector) -> Vector:\n",
    "    return [c * v_i for v_i in v]\n",
    "\n",
    "\n",
    "assert scalar_multiply(2, [1, 2, 3]) == [2, 4, 6]"
   ]
  },
  {
   "cell_type": "markdown",
   "id": "e8119efe-8708-4159-a0ae-dd33a2b350b7",
   "metadata": {},
   "source": [
    "Component-by-component average values of vector"
   ]
  },
  {
   "cell_type": "code",
   "execution_count": 9,
   "id": "f1a14d2c-c05a-4f57-bacd-170fc50ef9c5",
   "metadata": {},
   "outputs": [],
   "source": [
    "def vector_mean(vectors: list[Vector]) -> Vector:\n",
    "    return scalar_multiply(1 / len(vectors), vector_sum(vectors))\n",
    "\n",
    "\n",
    "assert vector_mean([[1, 2], [3, 4], [5, 6]]) == [3, 4]"
   ]
  },
  {
   "cell_type": "markdown",
   "id": "abccce26-43a4-4273-bf2a-044b8d0b0259",
   "metadata": {},
   "source": [
    "Vectors scalar product"
   ]
  },
  {
   "cell_type": "code",
   "execution_count": 10,
   "id": "bc41faf3-15ce-4ed1-b6cb-5cf84b11e099",
   "metadata": {},
   "outputs": [],
   "source": [
    "def dot(v: Vector, w: Vector) -> float:\n",
    "    assert len(v) == len(w), \"[-] Vectors must have same length!\"\n",
    "\n",
    "    return sum(v_i * w_i for v_i, w_i in zip(v, w))\n",
    "\n",
    "\n",
    "assert dot([1, 2, 3], [4, 5, 6]) == 32"
   ]
  },
  {
   "cell_type": "markdown",
   "id": "996e1028-96a1-43bb-86bd-f979ffbe7809",
   "metadata": {},
   "source": [
    "Vector sum squares"
   ]
  },
  {
   "cell_type": "code",
   "execution_count": 11,
   "id": "bd054e7d-48d5-48e0-bbea-fb206376526d",
   "metadata": {},
   "outputs": [],
   "source": [
    "def sum_of_squares(v: Vector) -> float:\n",
    "    return dot(v, v)\n",
    "\n",
    "\n",
    "assert sum_of_squares([1, 2, 3]) == 14"
   ]
  },
  {
   "cell_type": "markdown",
   "id": "3d2e0108-a15d-41ec-9776-240918059c7c",
   "metadata": {},
   "source": [
    "Vector length"
   ]
  },
  {
   "cell_type": "code",
   "execution_count": 12,
   "id": "a2600d28-e40d-420b-a36f-ff1f1d7edc45",
   "metadata": {},
   "outputs": [],
   "source": [
    "def magnitude(v: Vector) -> float:\n",
    "    return math.sqrt(sum_of_squares(v))\n",
    "\n",
    "\n",
    "assert magnitude([3, 4]) == 5"
   ]
  },
  {
   "cell_type": "markdown",
   "id": "461c7684-0c10-47a0-aaf3-024b449db5b3",
   "metadata": {},
   "source": [
    "Square of distance between two vectors"
   ]
  },
  {
   "cell_type": "code",
   "execution_count": 13,
   "id": "d2d17380-aa17-4af3-83e4-ecb41f5006a2",
   "metadata": {},
   "outputs": [],
   "source": [
    "def squared_distance(v: Vector, w: Vector) -> float:\n",
    "    return sum_of_squares(substract(v, w))"
   ]
  },
  {
   "cell_type": "markdown",
   "id": "77d3f711-1471-4c9c-adbd-55a640c8ef15",
   "metadata": {},
   "source": [
    "Distance between two vectors"
   ]
  },
  {
   "cell_type": "code",
   "execution_count": 14,
   "id": "d104a284-abbf-4751-bb54-30a7367a43a2",
   "metadata": {},
   "outputs": [],
   "source": [
    "def distance(v: Vector, w: Vector) -> float:\n",
    "    return math.sqrt(squared_distance(v, w))\n",
    "\n",
    "\n",
    "# def distance(v: Vector, w: Vector) -> float:\n",
    "#     return magnitude(substract(v, w))"
   ]
  },
  {
   "cell_type": "markdown",
   "id": "e292e55f-2e5f-4ecf-a2a2-9871490fdae7",
   "metadata": {},
   "source": [
    "## Matrices"
   ]
  },
  {
   "cell_type": "code",
   "execution_count": 15,
   "id": "15094343-f00e-4430-bedb-8e72c3dbbecb",
   "metadata": {},
   "outputs": [],
   "source": [
    "Matrix = list[list[float]]"
   ]
  },
  {
   "cell_type": "code",
   "execution_count": 16,
   "id": "bb47d559-a69b-44c9-85cb-f5bd7777ad50",
   "metadata": {},
   "outputs": [],
   "source": [
    "A = [[1, 2, 3],\n",
    "     [4, 5, 6]]"
   ]
  },
  {
   "cell_type": "code",
   "execution_count": 17,
   "id": "6add8ac6-3e06-4ee5-a8c3-331fd9972e3f",
   "metadata": {},
   "outputs": [],
   "source": [
    "B = [[1, 2],\n",
    "     [3, 4],\n",
    "     [5, 6]]"
   ]
  },
  {
   "cell_type": "markdown",
   "id": "8ec050c6-5f9a-4d7a-81c1-31af1de0c82a",
   "metadata": {},
   "source": [
    "Function-getter shape of matrix"
   ]
  },
  {
   "cell_type": "code",
   "execution_count": 18,
   "id": "50831dae-4df3-4bd9-94be-ad731f44b49d",
   "metadata": {},
   "outputs": [],
   "source": [
    "def shape(A: Matrix) -> Tuple[int, int]:\n",
    "    num_rows = len(A)\n",
    "    num_cols = len(A[0]) if A else 0\n",
    "    return num_rows, num_cols\n",
    "\n",
    "\n",
    "assert shape([[1, 2, 3], [4, 5, 6]]) == (2, 3)"
   ]
  },
  {
   "cell_type": "markdown",
   "id": "e67d4af7-93b8-46de-8b74-76dbd0cac8e2",
   "metadata": {},
   "source": [
    "Function-getter row from matrix"
   ]
  },
  {
   "cell_type": "code",
   "execution_count": 19,
   "id": "ef8db7e0-779c-4790-9004-0bf53c47e7a9",
   "metadata": {},
   "outputs": [],
   "source": [
    "def get_row(A: Matrix, i: int) -> Vector:\n",
    "    return A[i]"
   ]
  },
  {
   "cell_type": "markdown",
   "id": "190f6da7-2157-4ead-98cc-27651a2fa8a7",
   "metadata": {},
   "source": [
    "Function-getter column from matrix"
   ]
  },
  {
   "cell_type": "code",
   "execution_count": 20,
   "id": "35600980-c2d8-45d6-bbe0-43e672bdf9ab",
   "metadata": {},
   "outputs": [],
   "source": [
    "def get_column(A: Matrix, j: int) -> Vector:\n",
    "    return [A_i[j] for A_i in A]"
   ]
  },
  {
   "cell_type": "markdown",
   "id": "41501356-ee11-477d-8e73-7367242773d0",
   "metadata": {},
   "source": [
    "Function-maker matrix"
   ]
  },
  {
   "cell_type": "code",
   "execution_count": 21,
   "id": "da2a2569-8bf4-4e79-ae19-aa86d9cb76ea",
   "metadata": {},
   "outputs": [],
   "source": [
    "def make_matrix(num_rows: int, num_cols: int, entry_fn: Callable[[int, int], float]) -> Matrix:\n",
    "    return [[entry_fn(i, j) for j in range(num_cols)] for i in range(num_rows)]"
   ]
  },
  {
   "cell_type": "markdown",
   "id": "9a45db9d-4593-475d-91c3-bb37d50d9976",
   "metadata": {},
   "source": [
    "Function-maker identity matrix"
   ]
  },
  {
   "cell_type": "code",
   "execution_count": 22,
   "id": "caceb500-3b48-48d9-acad-3b595f01cecd",
   "metadata": {},
   "outputs": [],
   "source": [
    "def identity_matrix(n: int) -> Matrix:\n",
    "    return make_matrix(n, n, lambda i, j: 1 if i == j else 0)\n",
    "\n",
    "\n",
    "assert identity_matrix(5) == [\n",
    "    [1, 0, 0, 0, 0],\n",
    "    [0, 1, 0, 0, 0],\n",
    "    [0, 0, 1, 0, 0],\n",
    "    [0, 0, 0, 1, 0],\n",
    "    [0, 0, 0, 0, 1],\n",
    "]"
   ]
  }
 ],
 "metadata": {
  "kernelspec": {
   "display_name": "Python 3 (ipykernel)",
   "language": "python",
   "name": "python3"
  },
  "language_info": {
   "codemirror_mode": {
    "name": "ipython",
    "version": 3
   },
   "file_extension": ".py",
   "mimetype": "text/x-python",
   "name": "python",
   "nbconvert_exporter": "python",
   "pygments_lexer": "ipython3",
   "version": "3.12.2"
  }
 },
 "nbformat": 4,
 "nbformat_minor": 5
}
