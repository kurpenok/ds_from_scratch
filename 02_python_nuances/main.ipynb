{
 "cells": [
  {
   "cell_type": "markdown",
   "id": "135d9bd1-04ce-469f-83ca-f4207d292357",
   "metadata": {},
   "source": [
    "# 02. Python Nuances"
   ]
  },
  {
   "cell_type": "markdown",
   "id": "66cede9e-e10f-4321-9cfe-3ce9181b4508",
   "metadata": {},
   "source": [
    "## Defaultdict"
   ]
  },
  {
   "cell_type": "markdown",
   "id": "da791085-5adf-48f3-a371-a81329419628",
   "metadata": {},
   "source": [
    "Without using defaultdict"
   ]
  },
  {
   "cell_type": "code",
   "execution_count": 1,
   "id": "ce772036-a9fd-4475-9270-6c75232df036",
   "metadata": {},
   "outputs": [],
   "source": [
    "word_counts = {}\n",
    "document = {}\n",
    "\n",
    "for word in document:\n",
    "    if word in word_counts:\n",
    "        word_counts[word] += 1\n",
    "    else:\n",
    "        word_counts[word] = 1"
   ]
  },
  {
   "cell_type": "code",
   "execution_count": 2,
   "id": "875da11e-aeb1-47c8-9dd6-e8ab9c68947f",
   "metadata": {},
   "outputs": [],
   "source": [
    "word_count = {}\n",
    "\n",
    "for word in document:\n",
    "    try:\n",
    "        word_counts[word] += 1\n",
    "    except KeyError:\n",
    "        word_counts[word] = 1"
   ]
  },
  {
   "cell_type": "code",
   "execution_count": 3,
   "id": "c3dfc4be-ce57-4da2-b722-b0c1bc1079e9",
   "metadata": {},
   "outputs": [],
   "source": [
    "word_counts = {}\n",
    "\n",
    "for word in document:\n",
    "    previous_count = word_counts.get(word, 0)\n",
    "    word_counts[word] = previous_count + 1"
   ]
  },
  {
   "cell_type": "markdown",
   "id": "8f82b752-42f4-4cf6-88f0-1753a6d3230a",
   "metadata": {},
   "source": [
    "Using defaultdict"
   ]
  },
  {
   "cell_type": "code",
   "execution_count": 4,
   "id": "3aa3299b-728b-42bc-8ac7-6abc9d8cfab9",
   "metadata": {},
   "outputs": [],
   "source": [
    "from collections import defaultdict"
   ]
  },
  {
   "cell_type": "code",
   "execution_count": 5,
   "id": "906b7d38-8f0a-4f4f-a808-adc47711bf5d",
   "metadata": {},
   "outputs": [],
   "source": [
    "word_counts = defaultdict(int)\n",
    "\n",
    "for word in document:\n",
    "    word_counts[word] += 1"
   ]
  },
  {
   "cell_type": "code",
   "execution_count": 6,
   "id": "02a1db12-4970-4c0c-9386-67ac58d41920",
   "metadata": {},
   "outputs": [
    {
     "data": {
      "text/plain": [
       "defaultdict(list, {2: [1]})"
      ]
     },
     "execution_count": 6,
     "metadata": {},
     "output_type": "execute_result"
    }
   ],
   "source": [
    "dd_list = defaultdict(list)\n",
    "dd_list[2].append(1)\n",
    "\n",
    "dd_list"
   ]
  },
  {
   "cell_type": "markdown",
   "id": "5dcaab40-55e2-4c3f-ac86-d6bbb00e3366",
   "metadata": {},
   "source": [
    "## Counter"
   ]
  },
  {
   "cell_type": "code",
   "execution_count": 7,
   "id": "c8693caf-9eb3-465c-9305-0722a64c7d15",
   "metadata": {},
   "outputs": [],
   "source": [
    "from collections import Counter"
   ]
  },
  {
   "cell_type": "code",
   "execution_count": 8,
   "id": "b7140c13-ac52-43e2-ac8b-e7739c18ff81",
   "metadata": {},
   "outputs": [
    {
     "data": {
      "text/plain": [
       "Counter({0: 2, 1: 1, 2: 1})"
      ]
     },
     "execution_count": 8,
     "metadata": {},
     "output_type": "execute_result"
    }
   ],
   "source": [
    "c = Counter([0, 1, 2, 0])\n",
    "\n",
    "c"
   ]
  },
  {
   "cell_type": "markdown",
   "id": "531d02d2-2905-472b-835a-225f8f80a1e0",
   "metadata": {},
   "source": [
    "Best way to count words"
   ]
  },
  {
   "cell_type": "code",
   "execution_count": 9,
   "id": "2027cd73-dc5d-4ee6-830b-43378e1e45a8",
   "metadata": {},
   "outputs": [],
   "source": [
    "word_counts = Counter(document)"
   ]
  },
  {
   "cell_type": "markdown",
   "id": "ce1f99da-334b-4aaf-a7ce-a0be88a8de4d",
   "metadata": {},
   "source": [
    "Get most common elements"
   ]
  },
  {
   "cell_type": "code",
   "execution_count": 10,
   "id": "7df8b6e2-9006-4cc6-af2d-0f9e69f9fa41",
   "metadata": {},
   "outputs": [],
   "source": [
    "for word, count in word_counts.most_common(10):\n",
    "    print(word, count)"
   ]
  },
  {
   "cell_type": "markdown",
   "id": "56817cf2-dfee-4434-946a-94da5edd18d3",
   "metadata": {},
   "source": [
    "## List comprehension"
   ]
  },
  {
   "cell_type": "code",
   "execution_count": 11,
   "id": "4db471b6-f4cd-4fed-a406-e2c4d085a7f3",
   "metadata": {},
   "outputs": [
    {
     "data": {
      "text/plain": [
       "[0, 2, 4]"
      ]
     },
     "execution_count": 11,
     "metadata": {},
     "output_type": "execute_result"
    }
   ],
   "source": [
    "even_numbers = [x for x in range(5) if not (x % 2)]\n",
    "\n",
    "even_numbers"
   ]
  },
  {
   "cell_type": "code",
   "execution_count": 12,
   "id": "87f4811d-2520-4de3-bd8b-089085a25c78",
   "metadata": {},
   "outputs": [
    {
     "data": {
      "text/plain": [
       "[0, 1, 4, 9, 16]"
      ]
     },
     "execution_count": 12,
     "metadata": {},
     "output_type": "execute_result"
    }
   ],
   "source": [
    "squares = [x * x for x in range(5)]\n",
    "\n",
    "squares"
   ]
  },
  {
   "cell_type": "code",
   "execution_count": 13,
   "id": "796d2db6-63e3-4e50-aa35-31653b809583",
   "metadata": {},
   "outputs": [
    {
     "data": {
      "text/plain": [
       "{0: 0, 1: 1, 2: 4, 3: 9, 4: 16}"
      ]
     },
     "execution_count": 13,
     "metadata": {},
     "output_type": "execute_result"
    }
   ],
   "source": [
    "square_dict = {x: x * x for x in range(5)}\n",
    "\n",
    "square_dict"
   ]
  },
  {
   "cell_type": "markdown",
   "id": "768e5dc7-e1f8-4ad7-8cf5-0390a62dfe9c",
   "metadata": {},
   "source": [
    "## Testing"
   ]
  },
  {
   "cell_type": "code",
   "execution_count": 14,
   "id": "43bfd87b-d7f5-4b46-97f4-4a401d41f4e3",
   "metadata": {},
   "outputs": [],
   "source": [
    "assert 1 + 1 == 2"
   ]
  },
  {
   "cell_type": "code",
   "execution_count": 15,
   "id": "c501291a-5c99-4178-a2f1-982e564b556b",
   "metadata": {},
   "outputs": [],
   "source": [
    "assert 1 + 1 == 2, \"Assert with comment\""
   ]
  }
 ],
 "metadata": {
  "kernelspec": {
   "display_name": "Python 3 (ipykernel)",
   "language": "python",
   "name": "python3"
  },
  "language_info": {
   "codemirror_mode": {
    "name": "ipython",
    "version": 3
   },
   "file_extension": ".py",
   "mimetype": "text/x-python",
   "name": "python",
   "nbconvert_exporter": "python",
   "pygments_lexer": "ipython3",
   "version": "3.12.2"
  }
 },
 "nbformat": 4,
 "nbformat_minor": 5
}
