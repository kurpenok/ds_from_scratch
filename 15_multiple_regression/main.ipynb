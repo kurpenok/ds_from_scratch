{
 "cells": [
  {
   "cell_type": "markdown",
   "id": "5412a820-e48c-4dad-900a-15ac8c59e606",
   "metadata": {},
   "source": [
    "# 15. Multiple Regression"
   ]
  },
  {
   "cell_type": "markdown",
   "id": "1ceb1c44-421e-4a43-af76-01972de9b69e",
   "metadata": {},
   "source": [
    "## Imports"
   ]
  },
  {
   "cell_type": "code",
   "execution_count": 1,
   "id": "5668c8cc-570f-4cf6-8d10-8570eb1c4c21",
   "metadata": {},
   "outputs": [],
   "source": [
    "import datetime\n",
    "import random\n",
    "import sys\n",
    "from typing import Callable, TypeVar\n",
    "\n",
    "import numpy as np\n",
    "import plotly.graph_objects as go\n",
    "import tqdm\n",
    "from sklearn.datasets import make_regression"
   ]
  },
  {
   "cell_type": "code",
   "execution_count": 2,
   "id": "abacbbda-0fcb-41bc-9478-fa062d68a683",
   "metadata": {},
   "outputs": [],
   "source": [
    "# Importing functions from another notebook with supress graph rendering\n",
    "\n",
    "_print = print\n",
    "globals()[\"print\"] = lambda *args, **kwargs: None\n",
    "\n",
    "_show = go.Figure.show\n",
    "go.Figure.show = lambda *args, **kwargs: None\n",
    "\n",
    "_stdout = sys.stdout\n",
    "_stderr = sys.stderr\n",
    "\n",
    "\n",
    "class SupressTqdm(object):\n",
    "    def write(self, x):\n",
    "        pass\n",
    "\n",
    "\n",
    "sys.stdout = SupressTqdm()\n",
    "sys.stderr = SupressTqdm()\n",
    "\n",
    "%run -i ../04_linear_algebra/main.ipynb\n",
    "%run -i ../05_statistics/main.ipynb\n",
    "%run -i ../06_probability/main.ipynb\n",
    "%run -i ../08_gradient_descent/main.ipynb\n",
    "%run -i ../14_simple_linear_regression/main.ipynb\n",
    "\n",
    "globals()[\"print\"] = _print\n",
    "go.Figure.show = _show\n",
    "sys.stdout = _stdout\n",
    "sys.stderr = _stderr"
   ]
  },
  {
   "cell_type": "code",
   "execution_count": 3,
   "id": "3e759aa1-e326-4c5c-a9d8-3578eb357f1e",
   "metadata": {},
   "outputs": [],
   "source": [
    "random.seed(0)"
   ]
  },
  {
   "cell_type": "markdown",
   "id": "d8d0913b-5339-459b-9bc5-9682d85ebbf6",
   "metadata": {},
   "source": [
    "## Model"
   ]
  },
  {
   "cell_type": "code",
   "execution_count": 4,
   "id": "e0a8e8f7-c160-4f87-bd01-f80df53b41f9",
   "metadata": {},
   "outputs": [],
   "source": [
    "def predict(x: Vector, beta: Vector) -> float:\n",
    "    return dot(x, beta)"
   ]
  },
  {
   "cell_type": "markdown",
   "id": "5df84f8e-723b-432f-8311-3d620c872ddb",
   "metadata": {},
   "source": [
    "## Fitting Model"
   ]
  },
  {
   "cell_type": "code",
   "execution_count": 5,
   "id": "6ee7fa18-7058-4c42-ab81-702511b72879",
   "metadata": {},
   "outputs": [],
   "source": [
    "def error(x: Vector, y: float, beta: Vector) -> float:\n",
    "    return predict(x, beta) - y"
   ]
  },
  {
   "cell_type": "code",
   "execution_count": 6,
   "id": "426edc2a-1b7a-4b4f-b258-cfa77087f504",
   "metadata": {},
   "outputs": [],
   "source": [
    "def squared_error(x: Vector, y: float, beta: Vector) -> float:\n",
    "    return error(x, y, beta)**2"
   ]
  },
  {
   "cell_type": "code",
   "execution_count": 7,
   "id": "d04edf2e-b9f2-4372-973d-aec7a782dfe8",
   "metadata": {},
   "outputs": [],
   "source": [
    "x = [1, 2, 3]\n",
    "y = 30\n",
    "beta = [4, 4, 4]\n",
    "\n",
    "assert error(x, y, beta) == -6\n",
    "assert squared_error(x, y, beta) == 36"
   ]
  },
  {
   "cell_type": "code",
   "execution_count": 8,
   "id": "6f505131-e233-4797-a927-3ff56826d1ee",
   "metadata": {},
   "outputs": [],
   "source": [
    "def sqerror_gradient(x: Vector, y: float, beta: Vector) -> Vector:\n",
    "    err = error(x, y, beta)\n",
    "    return [2 * err * x_i for x_i in x]\n",
    "\n",
    "\n",
    "assert sqerror_gradient(x, y, beta) == [-12, -24, -36]"
   ]
  },
  {
   "cell_type": "code",
   "execution_count": 9,
   "id": "d1e3801a-0c93-47f3-98c0-bcd87a337b94",
   "metadata": {},
   "outputs": [],
   "source": [
    "def least_squares_fit(xs: list[Vector], ys: Vector, learning_rate: float = 0.001, num_steps: int = 1000, batch_size: int = 1) -> Vector:\n",
    "    guess = [random.random() for _ in xs[0]]\n",
    "\n",
    "    for _ in tqdm.trange(num_steps, desc=\"[+] Least squares fitting: \", bar_format=\"{desc}|{bar:50}|\"):\n",
    "        for start in range(0, len(xs), batch_size):\n",
    "            batch_xs = xs[start:start + batch_size]\n",
    "            batch_ys = ys[start:start + batch_size]\n",
    "\n",
    "            gradient = vector_mean([sqerror_gradient(x, y, guess) for x, y in zip(batch_xs, batch_ys)])\n",
    "            guess = gradient_step(guess, gradient, -learning_rate)\n",
    "\n",
    "    return guess"
   ]
  },
  {
   "cell_type": "code",
   "execution_count": 10,
   "id": "e451d97c-858d-40be-92f4-c5014e1bbd61",
   "metadata": {},
   "outputs": [],
   "source": [
    "learning_rate = 0.001"
   ]
  },
  {
   "cell_type": "code",
   "execution_count": 11,
   "id": "4042e75f-b5d2-478c-8161-1dd5b480da08",
   "metadata": {},
   "outputs": [],
   "source": [
    "X, y = make_regression(n_samples=100, n_features=3, noise=42, random_state=0)"
   ]
  },
  {
   "cell_type": "code",
   "execution_count": 12,
   "id": "cb6d9df6-0245-41c4-b065-999ec50378da",
   "metadata": {},
   "outputs": [],
   "source": [
    "X = np.insert(X, 0, 1.0, axis=1)"
   ]
  },
  {
   "cell_type": "code",
   "execution_count": 13,
   "id": "51a07a00-dec3-436b-9633-e4dbffe50bda",
   "metadata": {},
   "outputs": [
    {
     "name": "stderr",
     "output_type": "stream",
     "text": [
      "[+] Least squares fitting: |██████████████████████████████████████████████████|\n"
     ]
    }
   ],
   "source": [
    "beta = least_squares_fit(X, y, learning_rate, 5000, 25)"
   ]
  },
  {
   "cell_type": "code",
   "execution_count": 14,
   "id": "f6b23759-fc7a-4cb8-84a1-42ed5e8b1710",
   "metadata": {},
   "outputs": [
    {
     "name": "stdout",
     "output_type": "stream",
     "text": [
      "[+] Coefficients: [np.float64(-10.0923), np.float64(41.4454), np.float64(13.9702), np.float64(58.0754)]\n"
     ]
    }
   ],
   "source": [
    "print(f\"[+] Coefficients: {[round(b, 4) for b in beta]}\")"
   ]
  },
  {
   "cell_type": "markdown",
   "id": "86c0a8ba-bbd9-4601-9243-3729a6594541",
   "metadata": {},
   "source": [
    "## Quality of Fitting"
   ]
  },
  {
   "cell_type": "code",
   "execution_count": 15,
   "id": "245720b5-4495-4919-84e4-58f8e54c3f30",
   "metadata": {},
   "outputs": [],
   "source": [
    "def multiple_r_squared(xs: list[Vector], ys: Vector, beta: Vector) -> float:\n",
    "    sum_of_squared_errors = sum(error(x, y, beta)**2 for x, y in zip(xs, ys))\n",
    "    return 1.0 - sum_of_squared_errors / total_sum_of_squares(ys)"
   ]
  },
  {
   "cell_type": "code",
   "execution_count": 16,
   "id": "144e9845-8e9e-489e-8e66-a0c3ec5735da",
   "metadata": {},
   "outputs": [
    {
     "name": "stdout",
     "output_type": "stream",
     "text": [
      "[+] R2-score: 0.7609\n"
     ]
    }
   ],
   "source": [
    "print(f\"[+] R2-score: {multiple_r_squared(X, y, beta):.4f}\")"
   ]
  },
  {
   "cell_type": "markdown",
   "id": "673b6a17-6807-46ca-868c-76c1d14843cb",
   "metadata": {},
   "source": [
    "## Samples Reproduction"
   ]
  },
  {
   "cell_type": "code",
   "execution_count": 17,
   "id": "02d3b760-6274-4262-a17c-5e47a5d5bdd8",
   "metadata": {},
   "outputs": [],
   "source": [
    "x = TypeVar(\"X\")\n",
    "stat = TypeVar(\"Stat\")"
   ]
  },
  {
   "cell_type": "code",
   "execution_count": 18,
   "id": "82fdec84-a314-4c83-9833-ba01c75f4878",
   "metadata": {},
   "outputs": [],
   "source": [
    "def bootstrap_sample(data: list[x]) -> list[x]:\n",
    "    return [random.choice(data) for _ in data]"
   ]
  },
  {
   "cell_type": "code",
   "execution_count": 19,
   "id": "9033b5e9-bad9-4c40-b14e-dbd6a6b9d6a4",
   "metadata": {},
   "outputs": [],
   "source": [
    "def bootstrap_statistic(data: list[x], stats_fn: Callable[[list[x]], stat], num_samples: int) -> list[stat]:\n",
    "    return [stats_fn(bootstrap_sample(data)) for _ in range(101)]"
   ]
  },
  {
   "cell_type": "code",
   "execution_count": 20,
   "id": "3114da45-b3ea-4d85-8aae-753c2fcd2ab7",
   "metadata": {},
   "outputs": [],
   "source": [
    "close_to_100 = [99.5 + random.random() for _ in range(101)]"
   ]
  },
  {
   "cell_type": "code",
   "execution_count": 21,
   "id": "e4493004-ea43-4d04-b513-f6bf51104014",
   "metadata": {},
   "outputs": [],
   "source": [
    "far_from_100 = ([99.5 + random.random()] + [random.random() for _ in range(50)] + [200 + random.random() for _ in range(50)])"
   ]
  },
  {
   "cell_type": "code",
   "execution_count": 22,
   "id": "7818a819-984a-4ace-8b7e-1d39c6a5e6c7",
   "metadata": {},
   "outputs": [],
   "source": [
    "medians_close = bootstrap_statistic(close_to_100, median, 100)\n",
    "\n",
    "assert standard_deviation(medians_close) < 1"
   ]
  },
  {
   "cell_type": "code",
   "execution_count": 23,
   "id": "6d837748-9eed-4ece-b180-c26743520ba4",
   "metadata": {},
   "outputs": [],
   "source": [
    "medians_far = bootstrap_statistic(far_from_100, median, 100)\n",
    "\n",
    "assert standard_deviation(medians_far) > 90"
   ]
  },
  {
   "cell_type": "markdown",
   "id": "01e7a262-805a-4f83-a232-59e9ea9635f3",
   "metadata": {},
   "source": [
    "## Standard Errors of Regression Coefficients"
   ]
  },
  {
   "cell_type": "code",
   "execution_count": 24,
   "id": "4edbda02-b7a0-4de0-a00b-accf43cf2163",
   "metadata": {},
   "outputs": [],
   "source": [
    "def estimate_sample_beta(pairs: list[tuple[Vector, float]]) -> Vector:\n",
    "    x_sample = [x for x, _ in pairs]\n",
    "    y_sapmle = [y for _, y in pairs]\n",
    "    beta = least_squares_fit(x_sample, y_sapmle, learning_rate, 5000, 25)\n",
    "    print(f\"[+] Bootstrap selection: {[round(b, 4) for b in beta]}\")\n",
    "    return beta"
   ]
  },
  {
   "cell_type": "code",
   "execution_count": 25,
   "id": "19348455-e27d-4750-998d-11774bf48aa7",
   "metadata": {
    "scrolled": true
   },
   "outputs": [
    {
     "name": "stderr",
     "output_type": "stream",
     "text": [
      "[+] Least squares fitting: |██████████████████████████████████████████████████|\n"
     ]
    },
    {
     "name": "stdout",
     "output_type": "stream",
     "text": [
      "[+] Bootstrap selection: [np.float64(-2.7188), np.float64(41.4377), np.float64(13.4025), np.float64(59.0156)]\n"
     ]
    },
    {
     "name": "stderr",
     "output_type": "stream",
     "text": [
      "[+] Least squares fitting: |██████████████████████████████████████████████████|\n"
     ]
    },
    {
     "name": "stdout",
     "output_type": "stream",
     "text": [
      "[+] Bootstrap selection: [np.float64(-7.7463), np.float64(42.3037), np.float64(15.6438), np.float64(56.4657)]\n"
     ]
    },
    {
     "name": "stderr",
     "output_type": "stream",
     "text": [
      "[+] Least squares fitting: |██████████████████████████████████████████████████|\n"
     ]
    },
    {
     "name": "stdout",
     "output_type": "stream",
     "text": [
      "[+] Bootstrap selection: [np.float64(-6.9171), np.float64(39.9924), np.float64(13.5681), np.float64(64.0523)]\n"
     ]
    },
    {
     "name": "stderr",
     "output_type": "stream",
     "text": [
      "[+] Least squares fitting: |██████████████████████████████████████████████████|\n"
     ]
    },
    {
     "name": "stdout",
     "output_type": "stream",
     "text": [
      "[+] Bootstrap selection: [np.float64(-6.4749), np.float64(40.02), np.float64(8.0039), np.float64(58.9258)]\n"
     ]
    },
    {
     "name": "stderr",
     "output_type": "stream",
     "text": [
      "[+] Least squares fitting: |██████████████████████████████████████████████████|\n"
     ]
    },
    {
     "name": "stdout",
     "output_type": "stream",
     "text": [
      "[+] Bootstrap selection: [np.float64(-5.62), np.float64(41.096), np.float64(7.0504), np.float64(56.4893)]\n"
     ]
    },
    {
     "name": "stderr",
     "output_type": "stream",
     "text": [
      "[+] Least squares fitting: |██████████████████████████████████████████████████|\n"
     ]
    },
    {
     "name": "stdout",
     "output_type": "stream",
     "text": [
      "[+] Bootstrap selection: [np.float64(-16.2884), np.float64(51.7653), np.float64(7.7193), np.float64(62.5027)]\n"
     ]
    },
    {
     "name": "stderr",
     "output_type": "stream",
     "text": [
      "[+] Least squares fitting: |██████████████████████████████████████████████████|\n"
     ]
    },
    {
     "name": "stdout",
     "output_type": "stream",
     "text": [
      "[+] Bootstrap selection: [np.float64(3.506), np.float64(38.7795), np.float64(23.2955), np.float64(55.1777)]\n"
     ]
    },
    {
     "name": "stderr",
     "output_type": "stream",
     "text": [
      "[+] Least squares fitting: |██████████████████████████████████████████████████|\n"
     ]
    },
    {
     "name": "stdout",
     "output_type": "stream",
     "text": [
      "[+] Bootstrap selection: [np.float64(-15.0909), np.float64(48.4148), np.float64(13.7523), np.float64(57.5836)]\n"
     ]
    },
    {
     "name": "stderr",
     "output_type": "stream",
     "text": [
      "[+] Least squares fitting: |██████████████████████████████████████████████████|\n"
     ]
    },
    {
     "name": "stdout",
     "output_type": "stream",
     "text": [
      "[+] Bootstrap selection: [np.float64(-7.9605), np.float64(46.4848), np.float64(14.0479), np.float64(55.8431)]\n"
     ]
    },
    {
     "name": "stderr",
     "output_type": "stream",
     "text": [
      "[+] Least squares fitting: |██████████████████████████████████████████████████|\n"
     ]
    },
    {
     "name": "stdout",
     "output_type": "stream",
     "text": [
      "[+] Bootstrap selection: [np.float64(-11.0055), np.float64(41.8034), np.float64(18.2931), np.float64(58.5875)]\n"
     ]
    },
    {
     "name": "stderr",
     "output_type": "stream",
     "text": [
      "[+] Least squares fitting: |██████████████████████████████████████████████████|\n"
     ]
    },
    {
     "name": "stdout",
     "output_type": "stream",
     "text": [
      "[+] Bootstrap selection: [np.float64(-12.3416), np.float64(40.981), np.float64(5.2176), np.float64(63.5615)]\n"
     ]
    },
    {
     "name": "stderr",
     "output_type": "stream",
     "text": [
      "[+] Least squares fitting: |██████████████████████████████████████████████████|\n"
     ]
    },
    {
     "name": "stdout",
     "output_type": "stream",
     "text": [
      "[+] Bootstrap selection: [np.float64(-10.1416), np.float64(42.5831), np.float64(15.5124), np.float64(50.8931)]\n"
     ]
    },
    {
     "name": "stderr",
     "output_type": "stream",
     "text": [
      "[+] Least squares fitting: |██████████████████████████████████████████████████|\n"
     ]
    },
    {
     "name": "stdout",
     "output_type": "stream",
     "text": [
      "[+] Bootstrap selection: [np.float64(-5.8816), np.float64(35.6085), np.float64(16.5242), np.float64(60.9064)]\n"
     ]
    },
    {
     "name": "stderr",
     "output_type": "stream",
     "text": [
      "[+] Least squares fitting: |██████████████████████████████████████████████████|\n"
     ]
    },
    {
     "name": "stdout",
     "output_type": "stream",
     "text": [
      "[+] Bootstrap selection: [np.float64(-11.2982), np.float64(44.1726), np.float64(14.3263), np.float64(61.0714)]\n"
     ]
    },
    {
     "name": "stderr",
     "output_type": "stream",
     "text": [
      "[+] Least squares fitting: |██████████████████████████████████████████████████|\n"
     ]
    },
    {
     "name": "stdout",
     "output_type": "stream",
     "text": [
      "[+] Bootstrap selection: [np.float64(-19.4245), np.float64(49.4279), np.float64(13.9504), np.float64(61.114)]\n"
     ]
    },
    {
     "name": "stderr",
     "output_type": "stream",
     "text": [
      "[+] Least squares fitting: |██████████████████████████████████████████████████|\n"
     ]
    },
    {
     "name": "stdout",
     "output_type": "stream",
     "text": [
      "[+] Bootstrap selection: [np.float64(-15.132), np.float64(46.5109), np.float64(15.2934), np.float64(61.0367)]\n"
     ]
    },
    {
     "name": "stderr",
     "output_type": "stream",
     "text": [
      "[+] Least squares fitting: |██████████████████████████████████████████████████|\n"
     ]
    },
    {
     "name": "stdout",
     "output_type": "stream",
     "text": [
      "[+] Bootstrap selection: [np.float64(-8.1008), np.float64(44.8722), np.float64(17.6984), np.float64(58.1619)]\n"
     ]
    },
    {
     "name": "stderr",
     "output_type": "stream",
     "text": [
      "[+] Least squares fitting: |██████████████████████████████████████████████████|\n"
     ]
    },
    {
     "name": "stdout",
     "output_type": "stream",
     "text": [
      "[+] Bootstrap selection: [np.float64(-7.2328), np.float64(45.2951), np.float64(15.4793), np.float64(61.2301)]\n"
     ]
    },
    {
     "name": "stderr",
     "output_type": "stream",
     "text": [
      "[+] Least squares fitting: |██████████████████████████████████████████████████|\n"
     ]
    },
    {
     "name": "stdout",
     "output_type": "stream",
     "text": [
      "[+] Bootstrap selection: [np.float64(-9.3605), np.float64(40.1889), np.float64(9.9829), np.float64(61.3937)]\n"
     ]
    },
    {
     "name": "stderr",
     "output_type": "stream",
     "text": [
      "[+] Least squares fitting: |██████████████████████████████████████████████████|\n"
     ]
    },
    {
     "name": "stdout",
     "output_type": "stream",
     "text": [
      "[+] Bootstrap selection: [np.float64(-11.226), np.float64(41.9874), np.float64(13.4888), np.float64(62.0385)]\n"
     ]
    },
    {
     "name": "stderr",
     "output_type": "stream",
     "text": [
      "[+] Least squares fitting: |██████████████████████████████████████████████████|\n"
     ]
    },
    {
     "name": "stdout",
     "output_type": "stream",
     "text": [
      "[+] Bootstrap selection: [np.float64(-12.2817), np.float64(40.7917), np.float64(22.8085), np.float64(57.7441)]\n"
     ]
    },
    {
     "name": "stderr",
     "output_type": "stream",
     "text": [
      "[+] Least squares fitting: |██████████████████████████████████████████████████|\n"
     ]
    },
    {
     "name": "stdout",
     "output_type": "stream",
     "text": [
      "[+] Bootstrap selection: [np.float64(-9.6747), np.float64(42.1321), np.float64(7.2691), np.float64(50.8493)]\n"
     ]
    },
    {
     "name": "stderr",
     "output_type": "stream",
     "text": [
      "[+] Least squares fitting: |██████████████████████████████████████████████████|\n"
     ]
    },
    {
     "name": "stdout",
     "output_type": "stream",
     "text": [
      "[+] Bootstrap selection: [np.float64(-23.7311), np.float64(46.3607), np.float64(7.4488), np.float64(56.4677)]\n"
     ]
    },
    {
     "name": "stderr",
     "output_type": "stream",
     "text": [
      "[+] Least squares fitting: |██████████████████████████████████████████████████|\n"
     ]
    },
    {
     "name": "stdout",
     "output_type": "stream",
     "text": [
      "[+] Bootstrap selection: [np.float64(-15.8497), np.float64(37.0244), np.float64(8.7125), np.float64(60.9608)]\n"
     ]
    },
    {
     "name": "stderr",
     "output_type": "stream",
     "text": [
      "[+] Least squares fitting: |██████████████████████████████████████████████████|\n"
     ]
    },
    {
     "name": "stdout",
     "output_type": "stream",
     "text": [
      "[+] Bootstrap selection: [np.float64(-10.5764), np.float64(45.1946), np.float64(5.8754), np.float64(58.4819)]\n"
     ]
    },
    {
     "name": "stderr",
     "output_type": "stream",
     "text": [
      "[+] Least squares fitting: |██████████████████████████████████████████████████|\n"
     ]
    },
    {
     "name": "stdout",
     "output_type": "stream",
     "text": [
      "[+] Bootstrap selection: [np.float64(-8.6041), np.float64(43.6625), np.float64(17.3629), np.float64(58.3257)]\n"
     ]
    },
    {
     "name": "stderr",
     "output_type": "stream",
     "text": [
      "[+] Least squares fitting: |██████████████████████████████████████████████████|\n"
     ]
    },
    {
     "name": "stdout",
     "output_type": "stream",
     "text": [
      "[+] Bootstrap selection: [np.float64(-3.642), np.float64(41.1779), np.float64(10.1427), np.float64(57.7034)]\n"
     ]
    },
    {
     "name": "stderr",
     "output_type": "stream",
     "text": [
      "[+] Least squares fitting: |██████████████████████████████████████████████████|\n"
     ]
    },
    {
     "name": "stdout",
     "output_type": "stream",
     "text": [
      "[+] Bootstrap selection: [np.float64(-6.9832), np.float64(38.9156), np.float64(18.8344), np.float64(57.3058)]\n"
     ]
    },
    {
     "name": "stderr",
     "output_type": "stream",
     "text": [
      "[+] Least squares fitting: |██████████████████████████████████████████████████|\n"
     ]
    },
    {
     "name": "stdout",
     "output_type": "stream",
     "text": [
      "[+] Bootstrap selection: [np.float64(-15.1353), np.float64(43.1864), np.float64(8.3974), np.float64(57.5556)]\n"
     ]
    },
    {
     "name": "stderr",
     "output_type": "stream",
     "text": [
      "[+] Least squares fitting: |██████████████████████████████████████████████████|\n"
     ]
    },
    {
     "name": "stdout",
     "output_type": "stream",
     "text": [
      "[+] Bootstrap selection: [np.float64(-9.259), np.float64(34.967), np.float64(22.5823), np.float64(56.3476)]\n"
     ]
    },
    {
     "name": "stderr",
     "output_type": "stream",
     "text": [
      "[+] Least squares fitting: |██████████████████████████████████████████████████|\n"
     ]
    },
    {
     "name": "stdout",
     "output_type": "stream",
     "text": [
      "[+] Bootstrap selection: [np.float64(-9.5705), np.float64(44.9087), np.float64(13.5597), np.float64(60.8349)]\n"
     ]
    },
    {
     "name": "stderr",
     "output_type": "stream",
     "text": [
      "[+] Least squares fitting: |██████████████████████████████████████████████████|\n"
     ]
    },
    {
     "name": "stdout",
     "output_type": "stream",
     "text": [
      "[+] Bootstrap selection: [np.float64(-2.597), np.float64(42.3567), np.float64(11.7955), np.float64(55.1277)]\n"
     ]
    },
    {
     "name": "stderr",
     "output_type": "stream",
     "text": [
      "[+] Least squares fitting: |██████████████████████████████████████████████████|\n"
     ]
    },
    {
     "name": "stdout",
     "output_type": "stream",
     "text": [
      "[+] Bootstrap selection: [np.float64(-11.8189), np.float64(36.4045), np.float64(10.8443), np.float64(62.8556)]\n"
     ]
    },
    {
     "name": "stderr",
     "output_type": "stream",
     "text": [
      "[+] Least squares fitting: |██████████████████████████████████████████████████|\n"
     ]
    },
    {
     "name": "stdout",
     "output_type": "stream",
     "text": [
      "[+] Bootstrap selection: [np.float64(-10.7345), np.float64(39.31), np.float64(19.0893), np.float64(59.0377)]\n"
     ]
    },
    {
     "name": "stderr",
     "output_type": "stream",
     "text": [
      "[+] Least squares fitting: |██████████████████████████████████████████████████|\n"
     ]
    },
    {
     "name": "stdout",
     "output_type": "stream",
     "text": [
      "[+] Bootstrap selection: [np.float64(-14.7512), np.float64(39.0327), np.float64(16.5502), np.float64(60.1092)]\n"
     ]
    },
    {
     "name": "stderr",
     "output_type": "stream",
     "text": [
      "[+] Least squares fitting: |██████████████████████████████████████████████████|\n"
     ]
    },
    {
     "name": "stdout",
     "output_type": "stream",
     "text": [
      "[+] Bootstrap selection: [np.float64(-5.9258), np.float64(40.5055), np.float64(14.2679), np.float64(63.538)]\n"
     ]
    },
    {
     "name": "stderr",
     "output_type": "stream",
     "text": [
      "[+] Least squares fitting: |██████████████████████████████████████████████████|\n"
     ]
    },
    {
     "name": "stdout",
     "output_type": "stream",
     "text": [
      "[+] Bootstrap selection: [np.float64(-11.3488), np.float64(38.9724), np.float64(16.295), np.float64(61.9328)]\n"
     ]
    },
    {
     "name": "stderr",
     "output_type": "stream",
     "text": [
      "[+] Least squares fitting: |██████████████████████████████████████████████████|\n"
     ]
    },
    {
     "name": "stdout",
     "output_type": "stream",
     "text": [
      "[+] Bootstrap selection: [np.float64(-10.3936), np.float64(40.4386), np.float64(5.707), np.float64(57.3447)]\n"
     ]
    },
    {
     "name": "stderr",
     "output_type": "stream",
     "text": [
      "[+] Least squares fitting: |██████████████████████████████████████████████████|\n"
     ]
    },
    {
     "name": "stdout",
     "output_type": "stream",
     "text": [
      "[+] Bootstrap selection: [np.float64(-11.8969), np.float64(31.6253), np.float64(22.0649), np.float64(52.6728)]\n"
     ]
    },
    {
     "name": "stderr",
     "output_type": "stream",
     "text": [
      "[+] Least squares fitting: |██████████████████████████████████████████████████|\n"
     ]
    },
    {
     "name": "stdout",
     "output_type": "stream",
     "text": [
      "[+] Bootstrap selection: [np.float64(-8.6781), np.float64(43.796), np.float64(13.3528), np.float64(58.8387)]\n"
     ]
    },
    {
     "name": "stderr",
     "output_type": "stream",
     "text": [
      "[+] Least squares fitting: |██████████████████████████████████████████████████|\n"
     ]
    },
    {
     "name": "stdout",
     "output_type": "stream",
     "text": [
      "[+] Bootstrap selection: [np.float64(-14.601), np.float64(39.2684), np.float64(9.4846), np.float64(59.6591)]\n"
     ]
    },
    {
     "name": "stderr",
     "output_type": "stream",
     "text": [
      "[+] Least squares fitting: |██████████████████████████████████████████████████|\n"
     ]
    },
    {
     "name": "stdout",
     "output_type": "stream",
     "text": [
      "[+] Bootstrap selection: [np.float64(-19.8461), np.float64(37.7437), np.float64(13.6127), np.float64(59.5095)]\n"
     ]
    },
    {
     "name": "stderr",
     "output_type": "stream",
     "text": [
      "[+] Least squares fitting: |██████████████████████████████████████████████████|\n"
     ]
    },
    {
     "name": "stdout",
     "output_type": "stream",
     "text": [
      "[+] Bootstrap selection: [np.float64(-7.8946), np.float64(30.5719), np.float64(10.3508), np.float64(54.786)]\n"
     ]
    },
    {
     "name": "stderr",
     "output_type": "stream",
     "text": [
      "[+] Least squares fitting: |██████████████████████████████████████████████████|\n"
     ]
    },
    {
     "name": "stdout",
     "output_type": "stream",
     "text": [
      "[+] Bootstrap selection: [np.float64(-12.5109), np.float64(37.3125), np.float64(7.2957), np.float64(59.7586)]\n"
     ]
    },
    {
     "name": "stderr",
     "output_type": "stream",
     "text": [
      "[+] Least squares fitting: |██████████████████████████████████████████████████|\n"
     ]
    },
    {
     "name": "stdout",
     "output_type": "stream",
     "text": [
      "[+] Bootstrap selection: [np.float64(-16.3314), np.float64(46.6444), np.float64(22.1039), np.float64(55.3587)]\n"
     ]
    },
    {
     "name": "stderr",
     "output_type": "stream",
     "text": [
      "[+] Least squares fitting: |██████████████████████████████████████████████████|\n"
     ]
    },
    {
     "name": "stdout",
     "output_type": "stream",
     "text": [
      "[+] Bootstrap selection: [np.float64(-2.3019), np.float64(38.5043), np.float64(20.376), np.float64(58.1776)]\n"
     ]
    },
    {
     "name": "stderr",
     "output_type": "stream",
     "text": [
      "[+] Least squares fitting: |██████████████████████████████████████████████████|\n"
     ]
    },
    {
     "name": "stdout",
     "output_type": "stream",
     "text": [
      "[+] Bootstrap selection: [np.float64(-7.4704), np.float64(36.8258), np.float64(6.9711), np.float64(55.8163)]\n"
     ]
    },
    {
     "name": "stderr",
     "output_type": "stream",
     "text": [
      "[+] Least squares fitting: |██████████████████████████████████████████████████|\n"
     ]
    },
    {
     "name": "stdout",
     "output_type": "stream",
     "text": [
      "[+] Bootstrap selection: [np.float64(-5.6912), np.float64(38.1296), np.float64(13.0162), np.float64(55.0112)]\n"
     ]
    },
    {
     "name": "stderr",
     "output_type": "stream",
     "text": [
      "[+] Least squares fitting: |██████████████████████████████████████████████████|\n"
     ]
    },
    {
     "name": "stdout",
     "output_type": "stream",
     "text": [
      "[+] Bootstrap selection: [np.float64(-9.7458), np.float64(45.8178), np.float64(11.0112), np.float64(64.7516)]\n"
     ]
    },
    {
     "name": "stderr",
     "output_type": "stream",
     "text": [
      "[+] Least squares fitting: |██████████████████████████████████████████████████|\n"
     ]
    },
    {
     "name": "stdout",
     "output_type": "stream",
     "text": [
      "[+] Bootstrap selection: [np.float64(-8.3067), np.float64(36.8514), np.float64(8.9808), np.float64(56.5162)]\n"
     ]
    },
    {
     "name": "stderr",
     "output_type": "stream",
     "text": [
      "[+] Least squares fitting: |██████████████████████████████████████████████████|\n"
     ]
    },
    {
     "name": "stdout",
     "output_type": "stream",
     "text": [
      "[+] Bootstrap selection: [np.float64(-12.9676), np.float64(43.6766), np.float64(18.3149), np.float64(56.7248)]\n"
     ]
    },
    {
     "name": "stderr",
     "output_type": "stream",
     "text": [
      "[+] Least squares fitting: |██████████████████████████████████████████████████|\n"
     ]
    },
    {
     "name": "stdout",
     "output_type": "stream",
     "text": [
      "[+] Bootstrap selection: [np.float64(-10.0841), np.float64(38.2216), np.float64(17.6837), np.float64(56.8)]\n"
     ]
    },
    {
     "name": "stderr",
     "output_type": "stream",
     "text": [
      "[+] Least squares fitting: |██████████████████████████████████████████████████|\n"
     ]
    },
    {
     "name": "stdout",
     "output_type": "stream",
     "text": [
      "[+] Bootstrap selection: [np.float64(-8.761), np.float64(40.1135), np.float64(11.6554), np.float64(57.9953)]\n"
     ]
    },
    {
     "name": "stderr",
     "output_type": "stream",
     "text": [
      "[+] Least squares fitting: |██████████████████████████████████████████████████|\n"
     ]
    },
    {
     "name": "stdout",
     "output_type": "stream",
     "text": [
      "[+] Bootstrap selection: [np.float64(-11.1211), np.float64(40.7537), np.float64(8.9145), np.float64(57.6471)]\n"
     ]
    },
    {
     "name": "stderr",
     "output_type": "stream",
     "text": [
      "[+] Least squares fitting: |██████████████████████████████████████████████████|\n"
     ]
    },
    {
     "name": "stdout",
     "output_type": "stream",
     "text": [
      "[+] Bootstrap selection: [np.float64(-10.7336), np.float64(50.567), np.float64(9.3777), np.float64(61.9845)]\n"
     ]
    },
    {
     "name": "stderr",
     "output_type": "stream",
     "text": [
      "[+] Least squares fitting: |██████████████████████████████████████████████████|\n"
     ]
    },
    {
     "name": "stdout",
     "output_type": "stream",
     "text": [
      "[+] Bootstrap selection: [np.float64(-15.0393), np.float64(41.781), np.float64(6.6602), np.float64(62.1127)]\n"
     ]
    },
    {
     "name": "stderr",
     "output_type": "stream",
     "text": [
      "[+] Least squares fitting: |██████████████████████████████████████████████████|\n"
     ]
    },
    {
     "name": "stdout",
     "output_type": "stream",
     "text": [
      "[+] Bootstrap selection: [np.float64(-11.2911), np.float64(44.1438), np.float64(14.5326), np.float64(57.2207)]\n"
     ]
    },
    {
     "name": "stderr",
     "output_type": "stream",
     "text": [
      "[+] Least squares fitting: |██████████████████████████████████████████████████|\n"
     ]
    },
    {
     "name": "stdout",
     "output_type": "stream",
     "text": [
      "[+] Bootstrap selection: [np.float64(-11.0887), np.float64(47.5018), np.float64(17.3476), np.float64(65.7226)]\n"
     ]
    },
    {
     "name": "stderr",
     "output_type": "stream",
     "text": [
      "[+] Least squares fitting: |██████████████████████████████████████████████████|\n"
     ]
    },
    {
     "name": "stdout",
     "output_type": "stream",
     "text": [
      "[+] Bootstrap selection: [np.float64(-11.4671), np.float64(39.7263), np.float64(17.9575), np.float64(53.1531)]\n"
     ]
    },
    {
     "name": "stderr",
     "output_type": "stream",
     "text": [
      "[+] Least squares fitting: |██████████████████████████████████████████████████|\n"
     ]
    },
    {
     "name": "stdout",
     "output_type": "stream",
     "text": [
      "[+] Bootstrap selection: [np.float64(-8.9267), np.float64(40.5222), np.float64(17.7544), np.float64(61.851)]\n"
     ]
    },
    {
     "name": "stderr",
     "output_type": "stream",
     "text": [
      "[+] Least squares fitting: |██████████████████████████████████████████████████|\n"
     ]
    },
    {
     "name": "stdout",
     "output_type": "stream",
     "text": [
      "[+] Bootstrap selection: [np.float64(-9.2393), np.float64(39.4784), np.float64(4.7324), np.float64(58.645)]\n"
     ]
    },
    {
     "name": "stderr",
     "output_type": "stream",
     "text": [
      "[+] Least squares fitting: |██████████████████████████████████████████████████|\n"
     ]
    },
    {
     "name": "stdout",
     "output_type": "stream",
     "text": [
      "[+] Bootstrap selection: [np.float64(-7.755), np.float64(40.8605), np.float64(11.9093), np.float64(59.7508)]\n"
     ]
    },
    {
     "name": "stderr",
     "output_type": "stream",
     "text": [
      "[+] Least squares fitting: |██████████████████████████████████████████████████|\n"
     ]
    },
    {
     "name": "stdout",
     "output_type": "stream",
     "text": [
      "[+] Bootstrap selection: [np.float64(-14.1095), np.float64(37.5575), np.float64(19.1912), np.float64(55.2712)]\n"
     ]
    },
    {
     "name": "stderr",
     "output_type": "stream",
     "text": [
      "[+] Least squares fitting: |██████████████████████████████████████████████████|\n"
     ]
    },
    {
     "name": "stdout",
     "output_type": "stream",
     "text": [
      "[+] Bootstrap selection: [np.float64(-9.16), np.float64(46.525), np.float64(6.99), np.float64(57.5146)]\n"
     ]
    },
    {
     "name": "stderr",
     "output_type": "stream",
     "text": [
      "[+] Least squares fitting: |██████████████████████████████████████████████████|\n"
     ]
    },
    {
     "name": "stdout",
     "output_type": "stream",
     "text": [
      "[+] Bootstrap selection: [np.float64(-5.9208), np.float64(39.1371), np.float64(9.1543), np.float64(57.9909)]\n"
     ]
    },
    {
     "name": "stderr",
     "output_type": "stream",
     "text": [
      "[+] Least squares fitting: |██████████████████████████████████████████████████|\n"
     ]
    },
    {
     "name": "stdout",
     "output_type": "stream",
     "text": [
      "[+] Bootstrap selection: [np.float64(-12.3158), np.float64(40.3926), np.float64(19.1208), np.float64(58.6522)]\n"
     ]
    },
    {
     "name": "stderr",
     "output_type": "stream",
     "text": [
      "[+] Least squares fitting: |██████████████████████████████████████████████████|\n"
     ]
    },
    {
     "name": "stdout",
     "output_type": "stream",
     "text": [
      "[+] Bootstrap selection: [np.float64(-13.9891), np.float64(41.5751), np.float64(13.1257), np.float64(59.5136)]\n"
     ]
    },
    {
     "name": "stderr",
     "output_type": "stream",
     "text": [
      "[+] Least squares fitting: |██████████████████████████████████████████████████|\n"
     ]
    },
    {
     "name": "stdout",
     "output_type": "stream",
     "text": [
      "[+] Bootstrap selection: [np.float64(-11.6997), np.float64(49.7952), np.float64(13.451), np.float64(55.9218)]\n"
     ]
    },
    {
     "name": "stderr",
     "output_type": "stream",
     "text": [
      "[+] Least squares fitting: |██████████████████████████████████████████████████|\n"
     ]
    },
    {
     "name": "stdout",
     "output_type": "stream",
     "text": [
      "[+] Bootstrap selection: [np.float64(-10.9313), np.float64(41.0767), np.float64(5.2139), np.float64(57.7132)]\n"
     ]
    },
    {
     "name": "stderr",
     "output_type": "stream",
     "text": [
      "[+] Least squares fitting: |██████████████████████████████████████████████████|\n"
     ]
    },
    {
     "name": "stdout",
     "output_type": "stream",
     "text": [
      "[+] Bootstrap selection: [np.float64(-14.8287), np.float64(40.5024), np.float64(6.1211), np.float64(59.7046)]\n"
     ]
    },
    {
     "name": "stderr",
     "output_type": "stream",
     "text": [
      "[+] Least squares fitting: |██████████████████████████████████████████████████|\n"
     ]
    },
    {
     "name": "stdout",
     "output_type": "stream",
     "text": [
      "[+] Bootstrap selection: [np.float64(-12.0214), np.float64(42.1085), np.float64(3.9454), np.float64(57.5827)]\n"
     ]
    },
    {
     "name": "stderr",
     "output_type": "stream",
     "text": [
      "[+] Least squares fitting: |██████████████████████████████████████████████████|\n"
     ]
    },
    {
     "name": "stdout",
     "output_type": "stream",
     "text": [
      "[+] Bootstrap selection: [np.float64(-7.0337), np.float64(44.3839), np.float64(10.5169), np.float64(53.3063)]\n"
     ]
    },
    {
     "name": "stderr",
     "output_type": "stream",
     "text": [
      "[+] Least squares fitting: |██████████████████████████████████████████████████|\n"
     ]
    },
    {
     "name": "stdout",
     "output_type": "stream",
     "text": [
      "[+] Bootstrap selection: [np.float64(-15.0749), np.float64(43.9018), np.float64(14.5533), np.float64(66.7663)]\n"
     ]
    },
    {
     "name": "stderr",
     "output_type": "stream",
     "text": [
      "[+] Least squares fitting: |██████████████████████████████████████████████████|\n"
     ]
    },
    {
     "name": "stdout",
     "output_type": "stream",
     "text": [
      "[+] Bootstrap selection: [np.float64(-10.7672), np.float64(44.1504), np.float64(8.5931), np.float64(52.6963)]\n"
     ]
    },
    {
     "name": "stderr",
     "output_type": "stream",
     "text": [
      "[+] Least squares fitting: |██████████████████████████████████████████████████|\n"
     ]
    },
    {
     "name": "stdout",
     "output_type": "stream",
     "text": [
      "[+] Bootstrap selection: [np.float64(-11.3552), np.float64(36.9794), np.float64(10.8116), np.float64(60.7961)]\n"
     ]
    },
    {
     "name": "stderr",
     "output_type": "stream",
     "text": [
      "[+] Least squares fitting: |██████████████████████████████████████████████████|\n"
     ]
    },
    {
     "name": "stdout",
     "output_type": "stream",
     "text": [
      "[+] Bootstrap selection: [np.float64(-12.5968), np.float64(38.7978), np.float64(13.9166), np.float64(59.7239)]\n"
     ]
    },
    {
     "name": "stderr",
     "output_type": "stream",
     "text": [
      "[+] Least squares fitting: |██████████████████████████████████████████████████|\n"
     ]
    },
    {
     "name": "stdout",
     "output_type": "stream",
     "text": [
      "[+] Bootstrap selection: [np.float64(-7.1411), np.float64(40.7341), np.float64(13.2193), np.float64(60.2124)]\n"
     ]
    },
    {
     "name": "stderr",
     "output_type": "stream",
     "text": [
      "[+] Least squares fitting: |██████████████████████████████████████████████████|\n"
     ]
    },
    {
     "name": "stdout",
     "output_type": "stream",
     "text": [
      "[+] Bootstrap selection: [np.float64(-8.9232), np.float64(41.0104), np.float64(19.1606), np.float64(63.043)]\n"
     ]
    },
    {
     "name": "stderr",
     "output_type": "stream",
     "text": [
      "[+] Least squares fitting: |██████████████████████████████████████████████████|\n"
     ]
    },
    {
     "name": "stdout",
     "output_type": "stream",
     "text": [
      "[+] Bootstrap selection: [np.float64(-5.5377), np.float64(42.1524), np.float64(18.9364), np.float64(56.0009)]\n"
     ]
    },
    {
     "name": "stderr",
     "output_type": "stream",
     "text": [
      "[+] Least squares fitting: |██████████████████████████████████████████████████|\n"
     ]
    },
    {
     "name": "stdout",
     "output_type": "stream",
     "text": [
      "[+] Bootstrap selection: [np.float64(-10.3338), np.float64(41.0276), np.float64(7.3798), np.float64(54.5167)]\n"
     ]
    },
    {
     "name": "stderr",
     "output_type": "stream",
     "text": [
      "[+] Least squares fitting: |██████████████████████████████████████████████████|\n"
     ]
    },
    {
     "name": "stdout",
     "output_type": "stream",
     "text": [
      "[+] Bootstrap selection: [np.float64(-13.9204), np.float64(47.5774), np.float64(20.8052), np.float64(69.0214)]\n"
     ]
    },
    {
     "name": "stderr",
     "output_type": "stream",
     "text": [
      "[+] Least squares fitting: |██████████████████████████████████████████████████|\n"
     ]
    },
    {
     "name": "stdout",
     "output_type": "stream",
     "text": [
      "[+] Bootstrap selection: [np.float64(-10.8913), np.float64(41.0153), np.float64(10.7689), np.float64(62.3034)]\n"
     ]
    },
    {
     "name": "stderr",
     "output_type": "stream",
     "text": [
      "[+] Least squares fitting: |██████████████████████████████████████████████████|\n"
     ]
    },
    {
     "name": "stdout",
     "output_type": "stream",
     "text": [
      "[+] Bootstrap selection: [np.float64(-14.9728), np.float64(43.1839), np.float64(13.3018), np.float64(57.7406)]\n"
     ]
    },
    {
     "name": "stderr",
     "output_type": "stream",
     "text": [
      "[+] Least squares fitting: |██████████████████████████████████████████████████|\n"
     ]
    },
    {
     "name": "stdout",
     "output_type": "stream",
     "text": [
      "[+] Bootstrap selection: [np.float64(-12.1078), np.float64(47.9815), np.float64(14.9104), np.float64(61.082)]\n"
     ]
    },
    {
     "name": "stderr",
     "output_type": "stream",
     "text": [
      "[+] Least squares fitting: |██████████████████████████████████████████████████|\n"
     ]
    },
    {
     "name": "stdout",
     "output_type": "stream",
     "text": [
      "[+] Bootstrap selection: [np.float64(-7.8601), np.float64(38.0053), np.float64(21.4352), np.float64(59.3674)]\n"
     ]
    },
    {
     "name": "stderr",
     "output_type": "stream",
     "text": [
      "[+] Least squares fitting: |██████████████████████████████████████████████████|\n"
     ]
    },
    {
     "name": "stdout",
     "output_type": "stream",
     "text": [
      "[+] Bootstrap selection: [np.float64(-16.9241), np.float64(38.4035), np.float64(11.5885), np.float64(57.1873)]\n"
     ]
    },
    {
     "name": "stderr",
     "output_type": "stream",
     "text": [
      "[+] Least squares fitting: |██████████████████████████████████████████████████|\n"
     ]
    },
    {
     "name": "stdout",
     "output_type": "stream",
     "text": [
      "[+] Bootstrap selection: [np.float64(-11.3279), np.float64(52.1461), np.float64(10.0752), np.float64(60.9891)]\n"
     ]
    },
    {
     "name": "stderr",
     "output_type": "stream",
     "text": [
      "[+] Least squares fitting: |██████████████████████████████████████████████████|\n"
     ]
    },
    {
     "name": "stdout",
     "output_type": "stream",
     "text": [
      "[+] Bootstrap selection: [np.float64(-4.9717), np.float64(43.0638), np.float64(11.9859), np.float64(53.1013)]\n"
     ]
    },
    {
     "name": "stderr",
     "output_type": "stream",
     "text": [
      "[+] Least squares fitting: |██████████████████████████████████████████████████|\n"
     ]
    },
    {
     "name": "stdout",
     "output_type": "stream",
     "text": [
      "[+] Bootstrap selection: [np.float64(-1.2521), np.float64(46.6175), np.float64(6.9289), np.float64(57.6208)]\n"
     ]
    },
    {
     "name": "stderr",
     "output_type": "stream",
     "text": [
      "[+] Least squares fitting: |██████████████████████████████████████████████████|\n"
     ]
    },
    {
     "name": "stdout",
     "output_type": "stream",
     "text": [
      "[+] Bootstrap selection: [np.float64(-3.6229), np.float64(37.5771), np.float64(10.6112), np.float64(56.3456)]\n"
     ]
    },
    {
     "name": "stderr",
     "output_type": "stream",
     "text": [
      "[+] Least squares fitting: |██████████████████████████████████████████████████|\n"
     ]
    },
    {
     "name": "stdout",
     "output_type": "stream",
     "text": [
      "[+] Bootstrap selection: [np.float64(-9.6418), np.float64(42.8339), np.float64(11.4887), np.float64(60.0928)]\n"
     ]
    },
    {
     "name": "stderr",
     "output_type": "stream",
     "text": [
      "[+] Least squares fitting: |██████████████████████████████████████████████████|\n"
     ]
    },
    {
     "name": "stdout",
     "output_type": "stream",
     "text": [
      "[+] Bootstrap selection: [np.float64(-3.2748), np.float64(39.2478), np.float64(2.159), np.float64(58.2065)]\n"
     ]
    },
    {
     "name": "stderr",
     "output_type": "stream",
     "text": [
      "[+] Least squares fitting: |██████████████████████████████████████████████████|\n"
     ]
    },
    {
     "name": "stdout",
     "output_type": "stream",
     "text": [
      "[+] Bootstrap selection: [np.float64(-9.4564), np.float64(46.8484), np.float64(23.2302), np.float64(56.9975)]\n"
     ]
    },
    {
     "name": "stderr",
     "output_type": "stream",
     "text": [
      "[+] Least squares fitting: |██████████████████████████████████████████████████|\n"
     ]
    },
    {
     "name": "stdout",
     "output_type": "stream",
     "text": [
      "[+] Bootstrap selection: [np.float64(-15.7414), np.float64(44.701), np.float64(9.5349), np.float64(62.7967)]\n"
     ]
    },
    {
     "name": "stderr",
     "output_type": "stream",
     "text": [
      "[+] Least squares fitting: |██████████████████████████████████████████████████|\n"
     ]
    },
    {
     "name": "stdout",
     "output_type": "stream",
     "text": [
      "[+] Bootstrap selection: [np.float64(-6.5109), np.float64(44.7068), np.float64(19.9743), np.float64(58.4532)]\n"
     ]
    },
    {
     "name": "stderr",
     "output_type": "stream",
     "text": [
      "[+] Least squares fitting: |██████████████████████████████████████████████████|\n"
     ]
    },
    {
     "name": "stdout",
     "output_type": "stream",
     "text": [
      "[+] Bootstrap selection: [np.float64(-10.4191), np.float64(39.8402), np.float64(13.7294), np.float64(53.1657)]\n"
     ]
    },
    {
     "name": "stderr",
     "output_type": "stream",
     "text": [
      "[+] Least squares fitting: |██████████████████████████████████████████████████|\n"
     ]
    },
    {
     "name": "stdout",
     "output_type": "stream",
     "text": [
      "[+] Bootstrap selection: [np.float64(-7.7486), np.float64(43.1639), np.float64(13.3472), np.float64(56.9092)]\n"
     ]
    },
    {
     "name": "stderr",
     "output_type": "stream",
     "text": [
      "[+] Least squares fitting: |██████████████████████████████████████████████████|\n"
     ]
    },
    {
     "name": "stdout",
     "output_type": "stream",
     "text": [
      "[+] Bootstrap selection: [np.float64(-11.2982), np.float64(39.9621), np.float64(12.795), np.float64(63.0498)]\n"
     ]
    },
    {
     "name": "stderr",
     "output_type": "stream",
     "text": [
      "[+] Least squares fitting: |██████████████████████████████████████████████████|\n"
     ]
    },
    {
     "name": "stdout",
     "output_type": "stream",
     "text": [
      "[+] Bootstrap selection: [np.float64(-5.4053), np.float64(36.3863), np.float64(17.0522), np.float64(53.4014)]\n"
     ]
    },
    {
     "name": "stderr",
     "output_type": "stream",
     "text": [
      "[+] Least squares fitting: |██████████████████████████████████████████████████|\n"
     ]
    },
    {
     "name": "stdout",
     "output_type": "stream",
     "text": [
      "[+] Bootstrap selection: [np.float64(-13.0803), np.float64(39.3814), np.float64(11.421), np.float64(58.3909)]\n"
     ]
    },
    {
     "name": "stderr",
     "output_type": "stream",
     "text": [
      "[+] Least squares fitting: |██████████████████████████████████████████████████|"
     ]
    },
    {
     "name": "stdout",
     "output_type": "stream",
     "text": [
      "[+] Bootstrap selection: [np.float64(-9.714), np.float64(36.0215), np.float64(17.4381), np.float64(57.2069)]\n"
     ]
    },
    {
     "name": "stderr",
     "output_type": "stream",
     "text": [
      "\n"
     ]
    }
   ],
   "source": [
    "bootstrap_betas = bootstrap_statistic(list(zip(X, y)), estimate_sample_beta, 100)"
   ]
  },
  {
   "cell_type": "code",
   "execution_count": 26,
   "id": "6a459723-95e1-4280-9749-6b14b5f7024e",
   "metadata": {},
   "outputs": [],
   "source": [
    "bootstrap_standard_errors = [standard_deviation([beta[i] for beta in bootstrap_betas]) for i in range(4)]"
   ]
  },
  {
   "cell_type": "code",
   "execution_count": 27,
   "id": "3c6cfc13-ca85-4831-851d-82f64da46f9e",
   "metadata": {},
   "outputs": [
    {
     "name": "stdout",
     "output_type": "stream",
     "text": [
      "[+] Standard deviations: [4.1829, 3.9911, 4.9428, 3.3145]\n"
     ]
    }
   ],
   "source": [
    "print(f\"[+] Standard deviations: {[round(error, 4) for error in bootstrap_standard_errors]}\")"
   ]
  },
  {
   "cell_type": "code",
   "execution_count": 28,
   "id": "7fff1fce-b24f-4ec8-bc5a-33992ddfac14",
   "metadata": {},
   "outputs": [],
   "source": [
    "def p_value(beta_hat_j: float, sigma_hat_j: float) -> float:\n",
    "    if beta_hat_j > 0:\n",
    "        return 2 * (1 - normal_cdf(beta_hat_j / sigma_hat_j))\n",
    "    else:\n",
    "        return 2 * normal_cdf(beta_hat_j / sigma_hat_j)"
   ]
  },
  {
   "cell_type": "code",
   "execution_count": 29,
   "id": "af7f380c-8e33-40aa-9a32-0c078003c59e",
   "metadata": {},
   "outputs": [
    {
     "name": "stdout",
     "output_type": "stream",
     "text": [
      "[+] P-value: 1.0000\n"
     ]
    }
   ],
   "source": [
    "print(f\"[+] P-value: {p_value(0, 4):.4f}\")"
   ]
  },
  {
   "cell_type": "markdown",
   "id": "61604616-6f09-475f-a009-390f06c9e4da",
   "metadata": {},
   "source": [
    "## Regularization"
   ]
  },
  {
   "cell_type": "markdown",
   "id": "5d2d5154-4a22-4327-b841-1e9431c1bc2e",
   "metadata": {},
   "source": [
    "#### Ridge"
   ]
  },
  {
   "cell_type": "code",
   "execution_count": 30,
   "id": "33bf9042-574a-4aa3-b8f2-a6cd4402c61b",
   "metadata": {},
   "outputs": [],
   "source": [
    "def ridge_penalty(beta: Vector, alpha: float) -> float:\n",
    "    return alpha * dot(beta[1:], beta[1:])"
   ]
  },
  {
   "cell_type": "code",
   "execution_count": 31,
   "id": "1bf02892-fd47-414e-848d-824fc47879c3",
   "metadata": {},
   "outputs": [],
   "source": [
    "def squared_error_ridge(x: Vector, y: float, beta: Vector, alpha: float) -> float:\n",
    "    return error(x, y, beta)**2 + ridge_penalty(beta, alpha)"
   ]
  },
  {
   "cell_type": "code",
   "execution_count": 32,
   "id": "91fa1d02-3f04-4266-8565-e24a6e35b57c",
   "metadata": {},
   "outputs": [],
   "source": [
    "def ridge_penalty_gradient(beta: Vector, alpha: float) -> Vector:\n",
    "    return [0.0] + [2 * alpha * beta_j for beta_j in beta[1:]]"
   ]
  },
  {
   "cell_type": "code",
   "execution_count": 33,
   "id": "8bd4612d-910e-424e-9463-8d317e110824",
   "metadata": {},
   "outputs": [],
   "source": [
    "def sqerror_ridge_gradient(x: Vector, y: Vector, beta: Vector, alpha: float) -> Vector:\n",
    "    return add(sqerror_gradient(x, y, beta), ridge_penalty_gradient(beta, alpha))"
   ]
  },
  {
   "cell_type": "code",
   "execution_count": 34,
   "id": "42b22a93-7d3b-40f5-bfbc-8485f49c5f9d",
   "metadata": {},
   "outputs": [],
   "source": [
    "def least_squares_fit_ridge(xs: list[Vector], ys: Vector, alpha: float, learning_rate: float, num_steps: int, batch_size: int = 1) -> Vector:\n",
    "    guess = [random.random() for _ in xs[0]]\n",
    "\n",
    "    for i in range(num_steps):\n",
    "        for start in range(0, len(xs), batch_size):\n",
    "            batch_xs = xs[start:start + batch_size]\n",
    "            batch_ys = ys[start:start + batch_size]\n",
    "\n",
    "            gradient = vector_mean([sqerror_ridge_gradient(x, y, guess, alpha) for x, y in zip(batch_xs, batch_ys)])\n",
    "            guess = gradient_step(guess, gradient, -learning_rate)\n",
    "\n",
    "    return guess"
   ]
  },
  {
   "cell_type": "code",
   "execution_count": 35,
   "id": "f1f7ae76-eaca-447b-9bf3-5290a74ca561",
   "metadata": {},
   "outputs": [
    {
     "name": "stdout",
     "output_type": "stream",
     "text": [
      "[+] Ridge coefficients with alpha 0: [np.float64(-10.0923), np.float64(41.4454), np.float64(13.9702), np.float64(58.0754)]\n"
     ]
    }
   ],
   "source": [
    "beta_0 = least_squares_fit_ridge(X, y, 0.0, learning_rate, 5000, 25)\n",
    "\n",
    "print(f\"[+] Ridge coefficients with alpha 0: {[round(b, 4) for b in beta_0]}\")"
   ]
  },
  {
   "cell_type": "code",
   "execution_count": 36,
   "id": "198aaadd-7c51-4abb-95ab-304e2b6dec6e",
   "metadata": {},
   "outputs": [
    {
     "name": "stdout",
     "output_type": "stream",
     "text": [
      "[+] Ridge coefficients with alpha 0.1: [np.float64(-9.2208), np.float64(37.1664), np.float64(13.1095), np.float64(52.8417)]\n"
     ]
    }
   ],
   "source": [
    "beta_0_1 = least_squares_fit_ridge(X, y, 0.1, learning_rate, 5000, 25)\n",
    "\n",
    "print(f\"[+] Ridge coefficients with alpha 0.1: {[round(b, 4) for b in beta_0_1]}\")"
   ]
  },
  {
   "cell_type": "code",
   "execution_count": 37,
   "id": "4b781d4e-99b1-40f1-bb68-a418444d4615",
   "metadata": {},
   "outputs": [
    {
     "name": "stdout",
     "output_type": "stream",
     "text": [
      "[+] Ridge coefficients with alpha 1: [np.float64(-5.5593), np.float64(19.1888), np.float64(8.2177), np.float64(29.2771)]\n"
     ]
    }
   ],
   "source": [
    "beta_1 = least_squares_fit_ridge(X, y, 1, learning_rate, 5000, 25)\n",
    "\n",
    "print(f\"[+] Ridge coefficients with alpha 1: {[round(b, 4) for b in beta_1]}\")"
   ]
  },
  {
   "cell_type": "code",
   "execution_count": 38,
   "id": "d7d4dd9f-7d24-4c05-b70e-82b2939bab93",
   "metadata": {},
   "outputs": [
    {
     "name": "stdout",
     "output_type": "stream",
     "text": [
      "[+] Ridge coefficients with alpha 10: [np.float64(-2.2852), np.float64(3.2667), np.float64(1.6908), np.float64(5.3794)]\n"
     ]
    }
   ],
   "source": [
    "beta_10 = least_squares_fit_ridge(X, y, 10, learning_rate, 5000, 25)\n",
    "\n",
    "print(f\"[+] Ridge coefficients with alpha 10: {[round(b, 4) for b in beta_10]}\")"
   ]
  },
  {
   "cell_type": "markdown",
   "id": "327eca49-3791-450f-ae93-73f4a71b5889",
   "metadata": {},
   "source": [
    "#### Lasso"
   ]
  },
  {
   "cell_type": "code",
   "execution_count": 39,
   "id": "6c6bc2bf-eb9a-413a-9a21-e4d159183039",
   "metadata": {},
   "outputs": [],
   "source": [
    "def lasso_penalty(beta: Vector, alpha: float) -> float:\n",
    "    return alpha * sum(abs(beta_i) for beta_i in beta[1:])"
   ]
  }
 ],
 "metadata": {
  "kernelspec": {
   "display_name": "Python 3 (ipykernel)",
   "language": "python",
   "name": "python3"
  },
  "language_info": {
   "codemirror_mode": {
    "name": "ipython",
    "version": 3
   },
   "file_extension": ".py",
   "mimetype": "text/x-python",
   "name": "python",
   "nbconvert_exporter": "python",
   "pygments_lexer": "ipython3",
   "version": "3.12.5"
  }
 },
 "nbformat": 4,
 "nbformat_minor": 5
}
