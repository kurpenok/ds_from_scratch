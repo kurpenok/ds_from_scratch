{
 "cells": [
  {
   "cell_type": "markdown",
   "id": "2c332221-05be-4f70-a723-b24ac509d0a4",
   "metadata": {},
   "source": [
    "# 07. Hypothesis and Conclusion"
   ]
  },
  {
   "cell_type": "markdown",
   "id": "3a774157-2fb4-40bb-9a9c-caef0fd1edeb",
   "metadata": {},
   "source": [
    "## Imports"
   ]
  },
  {
   "cell_type": "code",
   "execution_count": 39,
   "id": "d96f6a76-dba0-4dd7-98eb-a880b8e3faaa",
   "metadata": {},
   "outputs": [],
   "source": [
    "import math\n",
    "import random\n",
    "\n",
    "import plotly.graph_objects as go"
   ]
  },
  {
   "cell_type": "code",
   "execution_count": 2,
   "id": "d1479c2e-0e87-4fa4-96e2-72965795122d",
   "metadata": {},
   "outputs": [],
   "source": [
    "# Importing functions from another notebook with supress graph rendering\n",
    "\n",
    "_print = print\n",
    "globals()[\"print\"] = lambda *args, **kwargs: None\n",
    "\n",
    "_show = go.Figure.show\n",
    "go.Figure.show = lambda *args, **kwargs: None\n",
    "\n",
    "%run -i ../06_probability/main.ipynb\n",
    "\n",
    "globals()[\"print\"] = _print\n",
    "go.Figure.show = _show"
   ]
  },
  {
   "cell_type": "markdown",
   "id": "9c4e3ab0-fcc0-48ba-915c-00d47e98bff5",
   "metadata": {},
   "source": [
    "## Coin Tossing"
   ]
  },
  {
   "cell_type": "markdown",
   "id": "a34d19c3-5daf-448b-a556-32594c982864",
   "metadata": {},
   "source": [
    "<b>Hypothesis 0</b>: coin is balanced, so p_heads = p_tails = 0.5."
   ]
  },
  {
   "cell_type": "code",
   "execution_count": 3,
   "id": "a5772ea0-ada9-46f0-97aa-13869f97c15f",
   "metadata": {},
   "outputs": [],
   "source": [
    "# Approximation of a binomial random variable by a normal distribution\n",
    "\n",
    "\n",
    "def normal_approximation_to_binomial(n: int, p: float) -> tuple[float, float]:\n",
    "    mu = p * n\n",
    "    sigma = math.sqrt(p * (1 - p) * n)\n",
    "    return mu, sigma"
   ]
  },
  {
   "cell_type": "code",
   "execution_count": 5,
   "id": "33e2cd00-4910-4bc5-bd58-71bd91db22d6",
   "metadata": {},
   "outputs": [],
   "source": [
    "# normal_cdf: variable probability lies below threshold\n",
    "\n",
    "normal_probability_below = normal_cdf"
   ]
  },
  {
   "cell_type": "code",
   "execution_count": 6,
   "id": "ddb705ea-a69c-4002-9a0f-793562e73ca5",
   "metadata": {},
   "outputs": [],
   "source": [
    "# Variable lies above threshold, if it is not below threshold\n",
    "\n",
    "\n",
    "def normal_probability_above(lo: float, mu: float = 0, sigma: float = 1) -> float:\n",
    "    return 1 - normal_cdf(lo, mu, sigma)"
   ]
  },
  {
   "cell_type": "code",
   "execution_count": 7,
   "id": "3afd03b3-3e53-4047-b4c8-947b9bce0f97",
   "metadata": {},
   "outputs": [],
   "source": [
    "# Variable lies between if it is less than hi, but not less than lo\n",
    "\n",
    "\n",
    "def normal_probability_between(\n",
    "    lo: float, hi: float, mu: float = 0, sigma: float = 1\n",
    ") -> float:\n",
    "    return normal_cdf(hi, mu, sigma) - normal_cdf(lo, mu, sigma)"
   ]
  },
  {
   "cell_type": "code",
   "execution_count": 8,
   "id": "d8a071a3-d110-4870-a648-b6e80e256ad3",
   "metadata": {},
   "outputs": [],
   "source": [
    "# Variable lies outside if it does not lie between\n",
    "\n",
    "\n",
    "def normal_probability_outside(\n",
    "    lo: float, hi: float, mu: float = 0, sigma: float = 1\n",
    ") -> float:\n",
    "    return 1 - normal_probability_between(lo, hi, mu, sigma)"
   ]
  },
  {
   "cell_type": "code",
   "execution_count": 9,
   "id": "8de31bea-1ff5-4026-b592-01ae934cb7be",
   "metadata": {},
   "outputs": [],
   "source": [
    "# Upper bound search function\n",
    "\n",
    "\n",
    "def normal_upper_bound(probability: float, mu: float = 0, sigma: float = 1) -> float:\n",
    "    return inverse_normal_cdf(probability, mu, sigma)"
   ]
  },
  {
   "cell_type": "code",
   "execution_count": 10,
   "id": "714a63e9-62cf-4bb7-bd28-49aa83c25787",
   "metadata": {},
   "outputs": [],
   "source": [
    "# Lower bound search function\n",
    "\n",
    "\n",
    "def normal_lower_bound(probability: float, mu: float = 0, sigma: float = 1) -> float:\n",
    "    return inverse_normal_cdf(1 - probability, mu, sigma)"
   ]
  },
  {
   "cell_type": "code",
   "execution_count": 30,
   "id": "6ef2091e-7ae1-4daa-bc56-f9de1ac015be",
   "metadata": {},
   "outputs": [],
   "source": [
    "# Two bounds search function\n",
    "\n",
    "\n",
    "def normal_two_sided_bounds(\n",
    "    probability: float, mu: float = 0, sigma: float = 1\n",
    ") -> tuple[float, float]:\n",
    "    tail_probability = (1 - probability) / 2\n",
    "\n",
    "    upper_bound = normal_lower_bound(tail_probability, mu, sigma)\n",
    "    lower_bound = normal_upper_bound(tail_probability, mu, sigma)\n",
    "\n",
    "    return lower_bound, upper_bound"
   ]
  },
  {
   "cell_type": "markdown",
   "id": "779805db-d12d-4a05-927e-a326f9c00fd8",
   "metadata": {},
   "source": [
    "We decided to make 1000 throws.\n",
    "\n",
    "If the hypothesis of the coin's equilibrium is true,<br>\n",
    "then $X$ should be approximately normally distributed with<br>\n",
    "an average value of 500 and a standard deviation of 15.8."
   ]
  },
  {
   "cell_type": "code",
   "execution_count": null,
   "id": "cdc7f313-f0e0-4566-9d30-0dde7ce11822",
   "metadata": {},
   "outputs": [],
   "source": [
    "mu_0, sigma_0 = normal_approximation_to_binomial(1000, 0.5)"
   ]
  },
  {
   "cell_type": "markdown",
   "id": "b2ac69d0-6fa6-4b67-a858-19c5b7b56709",
   "metadata": {},
   "source": [
    "We need to make a decision about significance, that is,<br>\n",
    "how ready we are to make a mistake of the first kind (\"false statement\"),<br>\n",
    "in which we reject $H_0$, even if it is true. This readiness is set at 5%."
   ]
  },
  {
   "cell_type": "code",
   "execution_count": null,
   "id": "96403c0f-29f4-48e9-923c-2718a1a3ebbc",
   "metadata": {},
   "outputs": [],
   "source": [
    "# Consider a check that rejects H_0 if X falls outside the bounds set as follows:\n",
    "\n",
    "lower_bound, upper_bound = normal_two_sided_bounds(0.95, mu_0, sigma_0)"
   ]
  },
  {
   "cell_type": "markdown",
   "id": "7dc29dc1-09ca-4cc4-9423-054b5a96953c",
   "metadata": {},
   "source": [
    "Assuming that $p$ is indeed 0.5 (that is, the hypothesis is true),<br>\n",
    "there is only a 5% chance that we observe<br>\n",
    "a random variable $X$ that lies outside this interval."
   ]
  },
  {
   "cell_type": "markdown",
   "id": "ee8ab108-ce16-42cd-87c3-96455b39dd9f",
   "metadata": {},
   "source": [
    "In addition to the above, we are interested in the verification power,<br>\n",
    "that is, the probability of not making a second-kind error (\"false negation\")<br>\n",
    "when we fail to reject $H_0$, even if it is false."
   ]
  },
  {
   "cell_type": "code",
   "execution_count": null,
   "id": "2f069cc0-e8a9-4bf8-a9a8-ff517860ac25",
   "metadata": {},
   "outputs": [],
   "source": [
    "# 95% of the boundary based on the assumption that p=0.5\n",
    "\n",
    "lo, hi = normal_two_sided_bounds(0.95, mu_0, sigma_0)"
   ]
  },
  {
   "cell_type": "code",
   "execution_count": null,
   "id": "f2720edd-d426-486c-9d96-e2a0eea702fa",
   "metadata": {},
   "outputs": [],
   "source": [
    "# Actual mu and sigma based on p=0.55\n",
    "\n",
    "mu_1, sigma_1 = normal_approximation_to_binomial(1000, 0.55)"
   ]
  },
  {
   "cell_type": "code",
   "execution_count": null,
   "id": "a3606a95-6ce6-4e41-a819-f61205f577eb",
   "metadata": {},
   "outputs": [],
   "source": [
    "# The second kind of error means that we failed to reject the null hypothesis,\n",
    "# which will happen when X is still inside our initial interval\n",
    "\n",
    "type_2_probability = normal_probability_between(lo, hi, mu_1, sigma_1)\n",
    "\n",
    "print(f\"[+] Power: {1 - type_2_probability:.4f}\")"
   ]
  },
  {
   "cell_type": "markdown",
   "id": "fb5f246c-33a1-49f1-aa0f-fe390a1dc5c3",
   "metadata": {},
   "source": [
    "Let's assume that our null hypothesis was that<br>\n",
    "the coin is not biased towards the eagles or that $p \\le 0.5$.<br>\n",
    "In this case, we need a one-way check that rejects<br>\n",
    "the null hypothesis when $X > 500$ and does not reject when $X < 500$."
   ]
  },
  {
   "cell_type": "code",
   "execution_count": 32,
   "id": "22bf22e6-a1fc-497d-af18-c8dd2d6c7df2",
   "metadata": {},
   "outputs": [
    {
     "name": "stdout",
     "output_type": "stream",
     "text": [
      "[+] Power: 0.8865\n"
     ]
    }
   ],
   "source": [
    "hi = normal_upper_bound(0.95, mu_0, sigma_0)\n",
    "\n",
    "type_2_probability = normal_probability_below(hi, mu_1, sigma_1)\n",
    "\n",
    "print(f\"[+] Power: {1 - type_2_probability:.4f}\")"
   ]
  },
  {
   "cell_type": "markdown",
   "id": "12dd71fc-7d98-4567-953c-bffeb09ef921",
   "metadata": {},
   "source": [
    "## P-values"
   ]
  },
  {
   "cell_type": "markdown",
   "id": "494805ad-fc98-4393-abd1-ddf48b4f202a",
   "metadata": {},
   "source": [
    "An alternative approach to the above verification involves applying a $p$-$value$.<br>\n",
    "Instead of choosing boundaries based on some probability cut-off point,<br>\n",
    "the probability of obtaining (at least)<br>\n",
    "the same limit value as what was actually observed is calculated."
   ]
  },
  {
   "cell_type": "code",
   "execution_count": 34,
   "id": "76cb26ea-26b1-4e66-a269-dbd9b91582c9",
   "metadata": {},
   "outputs": [],
   "source": [
    "# Two-way p-value\n",
    "\n",
    "\n",
    "def two_sided_p_value(x: float, mu: float = 0, sigma: float = 1) -> float:\n",
    "    if x >= mu:\n",
    "        return 2 * normal_probability_above(x, mu, sigma)\n",
    "    else:\n",
    "        return 2 * normal_probability_below(x, mu, sigma)\n",
    "\n",
    "\n",
    "# P-value when 530 eagles appear on a coin\n",
    "two_sided_p_value(529.5, mu_0, sigma_0)"
   ]
  },
  {
   "cell_type": "code",
   "execution_count": 40,
   "id": "f804697f-71e9-4e68-921d-067b6d28232e",
   "metadata": {},
   "outputs": [
    {
     "ename": "AssertionError",
     "evalue": "67",
     "output_type": "error",
     "traceback": [
      "\u001b[0;31m---------------------------------------------------------------------------\u001b[0m",
      "\u001b[0;31mAssertionError\u001b[0m                            Traceback (most recent call last)",
      "Cell \u001b[0;32mIn[40], line 7\u001b[0m\n\u001b[1;32m      4\u001b[0m     \u001b[38;5;28;01mif\u001b[39;00m num_heads \u001b[38;5;241m>\u001b[39m\u001b[38;5;241m=\u001b[39m \u001b[38;5;241m530\u001b[39m \u001b[38;5;129;01mor\u001b[39;00m num_heads \u001b[38;5;241m<\u001b[39m\u001b[38;5;241m=\u001b[39m \u001b[38;5;241m470\u001b[39m:\n\u001b[1;32m      5\u001b[0m         extreme_value_count \u001b[38;5;241m+\u001b[39m\u001b[38;5;241m=\u001b[39m \u001b[38;5;241m1\u001b[39m\n\u001b[0;32m----> 7\u001b[0m \u001b[38;5;28;01massert\u001b[39;00m \u001b[38;5;241m59\u001b[39m \u001b[38;5;241m<\u001b[39m extreme_value_count \u001b[38;5;241m<\u001b[39m \u001b[38;5;241m65\u001b[39m, \u001b[38;5;124mf\u001b[39m\u001b[38;5;124m\"\u001b[39m\u001b[38;5;132;01m{\u001b[39;00mextreme_value_count\u001b[38;5;132;01m}\u001b[39;00m\u001b[38;5;124m\"\u001b[39m\n",
      "\u001b[0;31mAssertionError\u001b[0m: 67"
     ]
    }
   ],
   "source": [
    "# Simulation of the loss of 530 eagles on a coin\n",
    "\n",
    "extreme_value_count = 0\n",
    "\n",
    "for _ in range(1000):\n",
    "    num_heads = sum(1 if random.random() < 0.5 else 0 for _ in range(1000))\n",
    "    if num_heads >= 530 or num_heads <= 470:\n",
    "        extreme_value_count += 1\n",
    "\n",
    "assert 59 < extreme_value_count < 65, f\"{extreme_value_count}\""
   ]
  },
  {
   "cell_type": "markdown",
   "id": "0d975ec1-f717-486f-8635-266276cd94ba",
   "metadata": {},
   "source": [
    "Since the $p$-$value$ exceeds the specified 5% significance level,<br>\n",
    "the null hypothesis is not rejected."
   ]
  },
  {
   "cell_type": "code",
   "execution_count": 41,
   "id": "e13e07e5-e513-4ad4-954b-c0418b650cca",
   "metadata": {},
   "outputs": [
    {
     "data": {
      "text/plain": [
       "0.046345287837786575"
      ]
     },
     "execution_count": 41,
     "metadata": {},
     "output_type": "execute_result"
    }
   ],
   "source": [
    "# P-value when 532 eagles appear on a coin\n",
    "\n",
    "two_sided_p_value(531.5, mu_0, sigma_0)"
   ]
  },
  {
   "cell_type": "code",
   "execution_count": 42,
   "id": "8ec82feb-4320-4b1f-9491-03ecfa3a883c",
   "metadata": {},
   "outputs": [],
   "source": [
    "# The upper and lower p-values can be obtained in a similar way\n",
    "\n",
    "upper_p_value = normal_probability_above\n",
    "lower_p_value = normal_probability_below"
   ]
  },
  {
   "cell_type": "code",
   "execution_count": 43,
   "id": "f8e07ecd-839a-4b5d-be41-1eab71cf33c6",
   "metadata": {},
   "outputs": [
    {
     "data": {
      "text/plain": [
       "0.06062885772582072"
      ]
     },
     "execution_count": 43,
     "metadata": {},
     "output_type": "execute_result"
    }
   ],
   "source": [
    "# One-way check for the loss of 525 eagles on a coin\n",
    "\n",
    "upper_p_value(524.5, mu_0, sigma_0)"
   ]
  },
  {
   "cell_type": "markdown",
   "id": "f30c8920-a425-46d7-901b-2957c90e3786",
   "metadata": {},
   "source": [
    "Since the $p$-$value$ is greater than 0.5: the hypothesis will not be rejected."
   ]
  },
  {
   "cell_type": "code",
   "execution_count": 45,
   "id": "c03fc605-021a-4f79-9951-f54a838db979",
   "metadata": {},
   "outputs": [
    {
     "data": {
      "text/plain": [
       "0.04686839508859242"
      ]
     },
     "execution_count": 45,
     "metadata": {},
     "output_type": "execute_result"
    }
   ],
   "source": [
    "# One-way check for the loss of 527 eagles on a coin\n",
    "\n",
    "upper_p_value(526.5, mu_0, sigma_0)"
   ]
  },
  {
   "cell_type": "markdown",
   "id": "96956d0b-d783-48f4-b791-95449b8396d6",
   "metadata": {},
   "source": [
    "Since the $p$-$value$ is less than 0.5: the hypothesis will be rejected."
   ]
  },
  {
   "cell_type": "markdown",
   "id": "9b550e3b-2437-4cf3-ab65-1569e0452c82",
   "metadata": {},
   "source": [
    "## Confidence Intervals"
   ]
  },
  {
   "cell_type": "markdown",
   "id": "570d9a7d-951b-47a5-8ebb-ef82ad9949c0",
   "metadata": {},
   "source": [
    "We tested hypotheses about the value of the probability of eagles $p$,<br>\n",
    "that is, the parameter of the unknown distribution of \"eagles\".<br>\n",
    "In this case, a third approach is used:<br>\n",
    "a confidence interval is built around the observed parameter value."
   ]
  },
  {
   "cell_type": "markdown",
   "id": "ff24d1d4-2081-412c-9fa0-8a00f4928d4a",
   "metadata": {},
   "source": [
    "If there were a $p$-$value$, then according to the central limit theorem,<br>\n",
    "the average of these Bernoulli quantities should be<br>\n",
    "approximately normal with an average $p$ and a standard deviation:"
   ]
  },
  {
   "cell_type": "code",
   "execution_count": null,
   "id": "085a5fc9-451c-4482-8779-685212b21e00",
   "metadata": {},
   "outputs": [],
   "source": [
    "# math.sqrt(p * (1 - p) / 1000)"
   ]
  },
  {
   "cell_type": "code",
   "execution_count": 46,
   "id": "cc854585-930d-4d24-a75f-98b6383f742c",
   "metadata": {},
   "outputs": [
    {
     "data": {
      "text/plain": [
       "0.015791611697353755"
      ]
     },
     "execution_count": 46,
     "metadata": {},
     "output_type": "execute_result"
    }
   ],
   "source": [
    "# Since the p-value is unknown, we use an approximate estimate\n",
    "\n",
    "p_hat = 525 / 1000\n",
    "mu = p_hat\n",
    "sigma = math.sqrt(p_hat * (1 - p_hat) / 1000)\n",
    "\n",
    "sigma"
   ]
  },
  {
   "cell_type": "code",
   "execution_count": 47,
   "id": "22d9ddc1-6caf-4d9a-8e61-0985ad71a4f3",
   "metadata": {},
   "outputs": [
    {
     "data": {
      "text/plain": [
       "(0.4940490278129096, 0.5559509721870904)"
      ]
     },
     "execution_count": 47,
     "metadata": {},
     "output_type": "execute_result"
    }
   ],
   "source": [
    "normal_two_sided_bounds(0.95, mu, sigma)"
   ]
  },
  {
   "cell_type": "markdown",
   "id": "1c54d44d-e58f-4022-b7cd-a78e602694f7",
   "metadata": {},
   "source": [
    "Accordingly, with 95% confidence, this interval contains the true value of $p$."
   ]
  },
  {
   "cell_type": "code",
   "execution_count": 49,
   "id": "4e2c4dd5-4cf1-457c-8aa9-062086f9488b",
   "metadata": {},
   "outputs": [
    {
     "data": {
      "text/plain": [
       "0.015760710643876435"
      ]
     },
     "execution_count": 49,
     "metadata": {},
     "output_type": "execute_result"
    }
   ],
   "source": [
    "# If there were 540 eagles on the coin\n",
    "\n",
    "p_hat = 540 / 1000\n",
    "mu = p_hat\n",
    "sigma = math.sqrt(p_hat * (1 - p_hat) / 1000)\n",
    "\n",
    "sigma"
   ]
  },
  {
   "cell_type": "code",
   "execution_count": 50,
   "id": "56c280cd-7692-479b-a6ad-c61b1a6052fe",
   "metadata": {},
   "outputs": [
    {
     "data": {
      "text/plain": [
       "(0.5091095927295919, 0.5708904072704082)"
      ]
     },
     "execution_count": 50,
     "metadata": {},
     "output_type": "execute_result"
    }
   ],
   "source": [
    "normal_two_sided_bounds(0.95, mu, sigma)"
   ]
  },
  {
   "cell_type": "markdown",
   "id": "0d0b071c-37d3-4d8d-8886-0374bda447fd",
   "metadata": {},
   "source": [
    "The \"balanced coin\" does not lie in the confidence interval."
   ]
  },
  {
   "cell_type": "markdown",
   "id": "28b8c0a8-350a-4ece-9457-f01ace69c7c9",
   "metadata": {},
   "source": [
    "## Hacking P-value"
   ]
  },
  {
   "cell_type": "markdown",
   "id": "b4fa8ffc-62db-4299-a463-575561957000",
   "metadata": {},
   "source": [
    "Below is a procedure that rejects the null hypothesis only in 5% of cases<br>\n",
    "(by definition, in 5% of cases it will reject the null hypothesis by mistake)."
   ]
  },
  {
   "cell_type": "code",
   "execution_count": 51,
   "id": "c3a8ca19-8ca9-425e-b49d-0fc12baa3374",
   "metadata": {},
   "outputs": [],
   "source": [
    "def run_experiment() -> list[bool]:\n",
    "    return [random.random() < 0.5 for _ in range(1000)]"
   ]
  },
  {
   "cell_type": "code",
   "execution_count": 52,
   "id": "2256e9f2-d1c1-495e-ac8f-d8536279d74b",
   "metadata": {},
   "outputs": [],
   "source": [
    "def reject_fairness(experiment: list[bool]) -> bool:\n",
    "    num_heads = len([flip for flip in experiment if flip])\n",
    "    return num_heads < 469 or num_heads > 531"
   ]
  },
  {
   "cell_type": "code",
   "execution_count": 55,
   "id": "5a6827d7-b514-4f8d-a405-0292ff2c699b",
   "metadata": {},
   "outputs": [],
   "source": [
    "random.seed(0)\n",
    "experiments = [run_experiment() for _ in range(1000)]\n",
    "num_rejections = len(\n",
    "    [experiment for experiment in experiments if reject_fairness(experiment)]\n",
    ")\n",
    "\n",
    "assert num_rejections == 46"
   ]
  },
  {
   "cell_type": "markdown",
   "id": "60abbc7a-24e7-46be-a627-ceffeea75f30",
   "metadata": {},
   "source": [
    "This means that if you set out to find \"meaningful\" results, then you can definitely find them."
   ]
  },
  {
   "cell_type": "markdown",
   "id": "38233d41-0781-41b3-afab-11821bbd995d",
   "metadata": {},
   "source": [
    "## A/B Testing"
   ]
  },
  {
   "cell_type": "code",
   "execution_count": 56,
   "id": "f4ed43be-fade-4f24-8a6d-e2a7ad9e19dc",
   "metadata": {},
   "outputs": [],
   "source": [
    "def estimated_parameters(N: int, n: int) -> tuple[float, float]:\n",
    "    p = n / N\n",
    "    sigma = math.sqrt(p * (1 - p) / N)\n",
    "    return p, sigma"
   ]
  },
  {
   "cell_type": "markdown",
   "id": "fbf973c6-bbbe-472c-b4b2-4af19dde69d9",
   "metadata": {},
   "source": [
    "If we assume that two normal random variables are mutually independent,<br>\n",
    "then their difference should also be normal<br>\n",
    "with an average value $p_B - p_A$ and a standard deviation $\\sqrt{\\sigma_A^2 - \\sigma_B^2}$."
   ]
  },
  {
   "cell_type": "code",
   "execution_count": 57,
   "id": "2f52749e-b60c-4d2a-b73c-e4bb058660ed",
   "metadata": {},
   "outputs": [],
   "source": [
    "def a_b_test_statistic(N_A: int, n_A: int, N_B: int, n_B: int) -> float:\n",
    "    p_A, sigma_A = estimated_parameters(N_A, n_A)\n",
    "    p_B, sigma_B = estimated_parameters(N_B, n_B)\n",
    "    return (p_B - p_A) / math.sqrt(sigma_A**2 + sigma_B**2)"
   ]
  },
  {
   "cell_type": "code",
   "execution_count": 58,
   "id": "87f6ea76-9cd4-4b78-9cb0-6fea5234b1e5",
   "metadata": {},
   "outputs": [
    {
     "data": {
      "text/plain": [
       "-1.1403464899034472"
      ]
     },
     "execution_count": 58,
     "metadata": {},
     "output_type": "execute_result"
    }
   ],
   "source": [
    "z = a_b_test_statistic(1000, 200, 1000, 180)\n",
    "\n",
    "z"
   ]
  },
  {
   "cell_type": "code",
   "execution_count": 59,
   "id": "df5a2f0a-5dc8-43bc-b5ea-451cbae5241a",
   "metadata": {},
   "outputs": [
    {
     "data": {
      "text/plain": [
       "0.2541419765422359"
      ]
     },
     "execution_count": 59,
     "metadata": {},
     "output_type": "execute_result"
    }
   ],
   "source": [
    "# The probability of getting a large difference between the two values.\n",
    "\n",
    "two_sided_p_value(z)"
   ]
  },
  {
   "cell_type": "code",
   "execution_count": 60,
   "id": "95e77cc6-3428-4b95-b366-2b7aaba7d73b",
   "metadata": {},
   "outputs": [
    {
     "data": {
      "text/plain": [
       "-2.948839123097944"
      ]
     },
     "execution_count": 60,
     "metadata": {},
     "output_type": "execute_result"
    }
   ],
   "source": [
    "z = a_b_test_statistic(1000, 200, 1000, 150)\n",
    "\n",
    "z"
   ]
  },
  {
   "cell_type": "code",
   "execution_count": 61,
   "id": "ab3b4f40-5650-4b94-a92b-ca7d974244e6",
   "metadata": {},
   "outputs": [
    {
     "data": {
      "text/plain": [
       "0.003189699706216853"
      ]
     },
     "execution_count": 61,
     "metadata": {},
     "output_type": "execute_result"
    }
   ],
   "source": [
    "# The probability of getting a large difference between the two values.\n",
    "\n",
    "two_sided_p_value(z)"
   ]
  },
  {
   "cell_type": "markdown",
   "id": "fa526c17-303d-49f6-9b9d-544bb35261f6",
   "metadata": {},
   "source": [
    "## Bayesian Inference"
   ]
  },
  {
   "cell_type": "markdown",
   "id": "16d8fa11-2333-42ab-8862-b96d420b7562",
   "metadata": {},
   "source": [
    "The procedures discussed above provided for the nomination of probabilistic<br>\n",
    "statements regarding the verification of statistical hypotheses such as<br>\n",
    "\"if the null hypothesis is true, then the chance of detecting such and such marginal statistics is 3%\"."
   ]
  },
  {
   "cell_type": "markdown",
   "id": "b69bc519-2337-4a40-bc26-572f7717e558",
   "metadata": {},
   "source": [
    "An alternative approach to statistical inference involves treating<br>\n",
    "the unknown parameters themselves as random variables.<br>\n",
    "It is required to start with an a priori distribution for the parameters and<br>\n",
    "then use the observed data and Bayes' theorem to obtain an updated a posteriori distribution.<br>\n",
    "Instead of probabilistic judgments about the checks,<br>\n",
    "probabilistic judgments are made about the parameters themselves."
   ]
  },
  {
   "cell_type": "markdown",
   "id": "fe375e9c-fd80-4c7e-8cc3-567538687c1c",
   "metadata": {},
   "source": [
    "For example, if the unknown parameter is probability,<br>\n",
    "then often the a priori probability distribution is takenfrom the beta distribution,<br>\n",
    "which places its entire probability between 0 and 1."
   ]
  },
  {
   "cell_type": "code",
   "execution_count": 62,
   "id": "98781fa1-ba6a-4823-84b3-85695dfcef7a",
   "metadata": {},
   "outputs": [],
   "source": [
    "def B(alpha: float, beta: float) -> float:\n",
    "    return math.gamma(alpha) * math.gamma(beta) / math.gamma(alpha + beta)"
   ]
  },
  {
   "cell_type": "code",
   "execution_count": 63,
   "id": "92fc2d3c-92e3-48b9-8c68-08301f5e3f1f",
   "metadata": {},
   "outputs": [],
   "source": [
    "def beta_pdf(x: float, alpha: float, beta: float) -> float:\n",
    "    if x <= 0 or x >= 1:\n",
    "        return 0\n",
    "    return x ** (alpha - 1) * (1 - x) ** (beta - 1) / B(alpha, beta)"
   ]
  },
  {
   "cell_type": "code",
   "execution_count": 74,
   "id": "b7609524-606e-46eb-bbc9-b76bfbb78a97",
   "metadata": {},
   "outputs": [],
   "source": [
    "xs = [x / 100.0 for x in range(-100, 100)]"
   ]
  },
  {
   "cell_type": "code",
   "execution_count": 85,
   "id": "8a9d21b3-382a-4de2-843b-1e3ee4506561",
   "metadata": {},
   "outputs": [
    {
     "data": {
      "application/vnd.plotly.v1+json": {
       "config": {
        "plotlyServerURL": "https://plot.ly"
       },
       "data": [
        {
         "mode": "lines+markers",
         "name": "alpha=1, beta=1",
         "type": "scatter",
         "x": [
          -1,
          -0.99,
          -0.98,
          -0.97,
          -0.96,
          -0.95,
          -0.94,
          -0.93,
          -0.92,
          -0.91,
          -0.9,
          -0.89,
          -0.88,
          -0.87,
          -0.86,
          -0.85,
          -0.84,
          -0.83,
          -0.82,
          -0.81,
          -0.8,
          -0.79,
          -0.78,
          -0.77,
          -0.76,
          -0.75,
          -0.74,
          -0.73,
          -0.72,
          -0.71,
          -0.7,
          -0.69,
          -0.68,
          -0.67,
          -0.66,
          -0.65,
          -0.64,
          -0.63,
          -0.62,
          -0.61,
          -0.6,
          -0.59,
          -0.58,
          -0.57,
          -0.56,
          -0.55,
          -0.54,
          -0.53,
          -0.52,
          -0.51,
          -0.5,
          -0.49,
          -0.48,
          -0.47,
          -0.46,
          -0.45,
          -0.44,
          -0.43,
          -0.42,
          -0.41,
          -0.4,
          -0.39,
          -0.38,
          -0.37,
          -0.36,
          -0.35,
          -0.34,
          -0.33,
          -0.32,
          -0.31,
          -0.3,
          -0.29,
          -0.28,
          -0.27,
          -0.26,
          -0.25,
          -0.24,
          -0.23,
          -0.22,
          -0.21,
          -0.2,
          -0.19,
          -0.18,
          -0.17,
          -0.16,
          -0.15,
          -0.14,
          -0.13,
          -0.12,
          -0.11,
          -0.1,
          -0.09,
          -0.08,
          -0.07,
          -0.06,
          -0.05,
          -0.04,
          -0.03,
          -0.02,
          -0.01,
          0,
          0.01,
          0.02,
          0.03,
          0.04,
          0.05,
          0.06,
          0.07,
          0.08,
          0.09,
          0.1,
          0.11,
          0.12,
          0.13,
          0.14,
          0.15,
          0.16,
          0.17,
          0.18,
          0.19,
          0.2,
          0.21,
          0.22,
          0.23,
          0.24,
          0.25,
          0.26,
          0.27,
          0.28,
          0.29,
          0.3,
          0.31,
          0.32,
          0.33,
          0.34,
          0.35,
          0.36,
          0.37,
          0.38,
          0.39,
          0.4,
          0.41,
          0.42,
          0.43,
          0.44,
          0.45,
          0.46,
          0.47,
          0.48,
          0.49,
          0.5,
          0.51,
          0.52,
          0.53,
          0.54,
          0.55,
          0.56,
          0.57,
          0.58,
          0.59,
          0.6,
          0.61,
          0.62,
          0.63,
          0.64,
          0.65,
          0.66,
          0.67,
          0.68,
          0.69,
          0.7,
          0.71,
          0.72,
          0.73,
          0.74,
          0.75,
          0.76,
          0.77,
          0.78,
          0.79,
          0.8,
          0.81,
          0.82,
          0.83,
          0.84,
          0.85,
          0.86,
          0.87,
          0.88,
          0.89,
          0.9,
          0.91,
          0.92,
          0.93,
          0.94,
          0.95,
          0.96,
          0.97,
          0.98,
          0.99
         ],
         "y": [
          0,
          0,
          0,
          0,
          0,
          0,
          0,
          0,
          0,
          0,
          0,
          0,
          0,
          0,
          0,
          0,
          0,
          0,
          0,
          0,
          0,
          0,
          0,
          0,
          0,
          0,
          0,
          0,
          0,
          0,
          0,
          0,
          0,
          0,
          0,
          0,
          0,
          0,
          0,
          0,
          0,
          0,
          0,
          0,
          0,
          0,
          0,
          0,
          0,
          0,
          0,
          0,
          0,
          0,
          0,
          0,
          0,
          0,
          0,
          0,
          0,
          0,
          0,
          0,
          0,
          0,
          0,
          0,
          0,
          0,
          0,
          0,
          0,
          0,
          0,
          0,
          0,
          0,
          0,
          0,
          0,
          0,
          0,
          0,
          0,
          0,
          0,
          0,
          0,
          0,
          0,
          0,
          0,
          0,
          0,
          0,
          0,
          0,
          0,
          0,
          0,
          1,
          1,
          1,
          1,
          1,
          1,
          1,
          1,
          1,
          1,
          1,
          1,
          1,
          1,
          1,
          1,
          1,
          1,
          1,
          1,
          1,
          1,
          1,
          1,
          1,
          1,
          1,
          1,
          1,
          1,
          1,
          1,
          1,
          1,
          1,
          1,
          1,
          1,
          1,
          1,
          1,
          1,
          1,
          1,
          1,
          1,
          1,
          1,
          1,
          1,
          1,
          1,
          1,
          1,
          1,
          1,
          1,
          1,
          1,
          1,
          1,
          1,
          1,
          1,
          1,
          1,
          1,
          1,
          1,
          1,
          1,
          1,
          1,
          1,
          1,
          1,
          1,
          1,
          1,
          1,
          1,
          1,
          1,
          1,
          1,
          1,
          1,
          1,
          1,
          1,
          1,
          1,
          1,
          1,
          1,
          1,
          1,
          1,
          1
         ]
        },
        {
         "mode": "lines+markers",
         "name": "alpha=10, beta=10",
         "type": "scatter",
         "x": [
          -1,
          -0.99,
          -0.98,
          -0.97,
          -0.96,
          -0.95,
          -0.94,
          -0.93,
          -0.92,
          -0.91,
          -0.9,
          -0.89,
          -0.88,
          -0.87,
          -0.86,
          -0.85,
          -0.84,
          -0.83,
          -0.82,
          -0.81,
          -0.8,
          -0.79,
          -0.78,
          -0.77,
          -0.76,
          -0.75,
          -0.74,
          -0.73,
          -0.72,
          -0.71,
          -0.7,
          -0.69,
          -0.68,
          -0.67,
          -0.66,
          -0.65,
          -0.64,
          -0.63,
          -0.62,
          -0.61,
          -0.6,
          -0.59,
          -0.58,
          -0.57,
          -0.56,
          -0.55,
          -0.54,
          -0.53,
          -0.52,
          -0.51,
          -0.5,
          -0.49,
          -0.48,
          -0.47,
          -0.46,
          -0.45,
          -0.44,
          -0.43,
          -0.42,
          -0.41,
          -0.4,
          -0.39,
          -0.38,
          -0.37,
          -0.36,
          -0.35,
          -0.34,
          -0.33,
          -0.32,
          -0.31,
          -0.3,
          -0.29,
          -0.28,
          -0.27,
          -0.26,
          -0.25,
          -0.24,
          -0.23,
          -0.22,
          -0.21,
          -0.2,
          -0.19,
          -0.18,
          -0.17,
          -0.16,
          -0.15,
          -0.14,
          -0.13,
          -0.12,
          -0.11,
          -0.1,
          -0.09,
          -0.08,
          -0.07,
          -0.06,
          -0.05,
          -0.04,
          -0.03,
          -0.02,
          -0.01,
          0,
          0.01,
          0.02,
          0.03,
          0.04,
          0.05,
          0.06,
          0.07,
          0.08,
          0.09,
          0.1,
          0.11,
          0.12,
          0.13,
          0.14,
          0.15,
          0.16,
          0.17,
          0.18,
          0.19,
          0.2,
          0.21,
          0.22,
          0.23,
          0.24,
          0.25,
          0.26,
          0.27,
          0.28,
          0.29,
          0.3,
          0.31,
          0.32,
          0.33,
          0.34,
          0.35,
          0.36,
          0.37,
          0.38,
          0.39,
          0.4,
          0.41,
          0.42,
          0.43,
          0.44,
          0.45,
          0.46,
          0.47,
          0.48,
          0.49,
          0.5,
          0.51,
          0.52,
          0.53,
          0.54,
          0.55,
          0.56,
          0.57,
          0.58,
          0.59,
          0.6,
          0.61,
          0.62,
          0.63,
          0.64,
          0.65,
          0.66,
          0.67,
          0.68,
          0.69,
          0.7,
          0.71,
          0.72,
          0.73,
          0.74,
          0.75,
          0.76,
          0.77,
          0.78,
          0.79,
          0.8,
          0.81,
          0.82,
          0.83,
          0.84,
          0.85,
          0.86,
          0.87,
          0.88,
          0.89,
          0.9,
          0.91,
          0.92,
          0.93,
          0.94,
          0.95,
          0.96,
          0.97,
          0.98,
          0.99
         ],
         "y": [
          0,
          0,
          0,
          0,
          0,
          0,
          0,
          0,
          0,
          0,
          0,
          0,
          0,
          0,
          0,
          0,
          0,
          0,
          0,
          0,
          0,
          0,
          0,
          0,
          0,
          0,
          0,
          0,
          0,
          0,
          0,
          0,
          0,
          0,
          0,
          0,
          0,
          0,
          0,
          0,
          0,
          0,
          0,
          0,
          0,
          0,
          0,
          0,
          0,
          0,
          0,
          0,
          0,
          0,
          0,
          0,
          0,
          0,
          0,
          0,
          0,
          0,
          0,
          0,
          0,
          0,
          0,
          0,
          0,
          0,
          0,
          0,
          0,
          0,
          0,
          0,
          0,
          0,
          0,
          0,
          0,
          0,
          0,
          0,
          0,
          0,
          0,
          0,
          0,
          0,
          0,
          0,
          0,
          0,
          0,
          0,
          0,
          0,
          0,
          0,
          0,
          8.438889628804379e-13,
          3.9434214794270206e-10,
          1.382310020686392e-08,
          1.677063761855089e-07,
          1.13713242131914e-06,
          5.3343375191968515e-06,
          1.939980893078761e-05,
          5.8542179163452225e-05,
          0.00015315235218980105,
          0.0003578912993284203,
          0.0007631550487337022,
          0.0015084948062614365,
          0.0027972546198648178,
          0.0049114184546453984,
          0.008225460447683318,
          0.01321788514840661,
          0.020479138316743025,
          0.030714664288755723,
          0.04474207628487295,
          0.06348167821918214,
          0.08793991260477753,
          0.1191856878040222,
          0.15831993619455767,
          0.20643914960541065,
          0.26459400745807216,
          0.3337445364068512,
          0.4147135009255614,
          0.5081399089376708,
          0.6144346160558879,
          0.7337400214305957,
          0.8658957670763296,
          1.010412184466115,
          1.166452984568424,
          1.3328283710874405,
          1.5079993849330744,
          1.690093876459198,
          1.8769340677196071,
          2.06607522752187,
          2.254854554987335,
          2.4404489695081275,
          2.6199401519401126,
          2.7903848871967893,
          2.948888533359313,
          3.0926792955045075,
          3.2191809191911265,
          3.326081441301702,
          3.4113957438919087,
          3.4735198459127563,
          3.5112751312619683,
          3.5239410400390625,
          3.5112751312619683,
          3.4735198459127563,
          3.4113957438919087,
          3.3260814413016986,
          3.219180919191123,
          3.092679295504504,
          2.948888533359311,
          2.790384887196788,
          2.6199401519401118,
          2.4404489695081275,
          2.254854554987335,
          2.06607522752187,
          1.8769340677196071,
          1.690093876459198,
          1.5079993849330744,
          1.3328283710874405,
          1.1664529845684242,
          1.0104121844661147,
          0.8658957670763311,
          0.7337400214305967,
          0.6144346160558889,
          0.5081399089376708,
          0.4147135009255614,
          0.3337445364068512,
          0.26459400745807216,
          0.20643914960541065,
          0.15831993619455748,
          0.11918568780402207,
          0.08793991260477743,
          0.06348167821918199,
          0.04474207628487283,
          0.030714664288755772,
          0.020479138316743053,
          0.01321788514840663,
          0.008225460447683332,
          0.0049114184546453984,
          0.0027972546198648178,
          0.0015084948062614365,
          0.0007631550487337015,
          0.0003578912993284194,
          0.00015315235218980064,
          5.8542179163451954e-05,
          1.9399808930787496e-05,
          5.334337519196896e-06,
          1.1371324213191483e-06,
          1.677063761855102e-07,
          1.3823100206864034e-08,
          3.943421479427051e-10,
          8.438889628804446e-13
         ]
        },
        {
         "mode": "lines+markers",
         "name": "alpha=4, beta=16",
         "type": "scatter",
         "x": [
          -1,
          -0.99,
          -0.98,
          -0.97,
          -0.96,
          -0.95,
          -0.94,
          -0.93,
          -0.92,
          -0.91,
          -0.9,
          -0.89,
          -0.88,
          -0.87,
          -0.86,
          -0.85,
          -0.84,
          -0.83,
          -0.82,
          -0.81,
          -0.8,
          -0.79,
          -0.78,
          -0.77,
          -0.76,
          -0.75,
          -0.74,
          -0.73,
          -0.72,
          -0.71,
          -0.7,
          -0.69,
          -0.68,
          -0.67,
          -0.66,
          -0.65,
          -0.64,
          -0.63,
          -0.62,
          -0.61,
          -0.6,
          -0.59,
          -0.58,
          -0.57,
          -0.56,
          -0.55,
          -0.54,
          -0.53,
          -0.52,
          -0.51,
          -0.5,
          -0.49,
          -0.48,
          -0.47,
          -0.46,
          -0.45,
          -0.44,
          -0.43,
          -0.42,
          -0.41,
          -0.4,
          -0.39,
          -0.38,
          -0.37,
          -0.36,
          -0.35,
          -0.34,
          -0.33,
          -0.32,
          -0.31,
          -0.3,
          -0.29,
          -0.28,
          -0.27,
          -0.26,
          -0.25,
          -0.24,
          -0.23,
          -0.22,
          -0.21,
          -0.2,
          -0.19,
          -0.18,
          -0.17,
          -0.16,
          -0.15,
          -0.14,
          -0.13,
          -0.12,
          -0.11,
          -0.1,
          -0.09,
          -0.08,
          -0.07,
          -0.06,
          -0.05,
          -0.04,
          -0.03,
          -0.02,
          -0.01,
          0,
          0.01,
          0.02,
          0.03,
          0.04,
          0.05,
          0.06,
          0.07,
          0.08,
          0.09,
          0.1,
          0.11,
          0.12,
          0.13,
          0.14,
          0.15,
          0.16,
          0.17,
          0.18,
          0.19,
          0.2,
          0.21,
          0.22,
          0.23,
          0.24,
          0.25,
          0.26,
          0.27,
          0.28,
          0.29,
          0.3,
          0.31,
          0.32,
          0.33,
          0.34,
          0.35,
          0.36,
          0.37,
          0.38,
          0.39,
          0.4,
          0.41,
          0.42,
          0.43,
          0.44,
          0.45,
          0.46,
          0.47,
          0.48,
          0.49,
          0.5,
          0.51,
          0.52,
          0.53,
          0.54,
          0.55,
          0.56,
          0.57,
          0.58,
          0.59,
          0.6,
          0.61,
          0.62,
          0.63,
          0.64,
          0.65,
          0.66,
          0.67,
          0.68,
          0.69,
          0.7,
          0.71,
          0.72,
          0.73,
          0.74,
          0.75,
          0.76,
          0.77,
          0.78,
          0.79,
          0.8,
          0.81,
          0.82,
          0.83,
          0.84,
          0.85,
          0.86,
          0.87,
          0.88,
          0.89,
          0.9,
          0.91,
          0.92,
          0.93,
          0.94,
          0.95,
          0.96,
          0.97,
          0.98,
          0.99
         ],
         "y": [
          0,
          0,
          0,
          0,
          0,
          0,
          0,
          0,
          0,
          0,
          0,
          0,
          0,
          0,
          0,
          0,
          0,
          0,
          0,
          0,
          0,
          0,
          0,
          0,
          0,
          0,
          0,
          0,
          0,
          0,
          0,
          0,
          0,
          0,
          0,
          0,
          0,
          0,
          0,
          0,
          0,
          0,
          0,
          0,
          0,
          0,
          0,
          0,
          0,
          0,
          0,
          0,
          0,
          0,
          0,
          0,
          0,
          0,
          0,
          0,
          0,
          0,
          0,
          0,
          0,
          0,
          0,
          0,
          0,
          0,
          0,
          0,
          0,
          0,
          0,
          0,
          0,
          0,
          0,
          0,
          0,
          0,
          0,
          0,
          0,
          0,
          0,
          0,
          0,
          0,
          0,
          0,
          0,
          0,
          0,
          0,
          0,
          0,
          0,
          0,
          0,
          0.013334344730358539,
          0.09160620293931475,
          0.265084013782173,
          0.5378884629352662,
          0.8978584040496016,
          1.323778474361542,
          1.7905320866801402,
          2.2726425357846844,
          2.7465794911931325,
          3.19213611199544,
          3.5931215984860874,
          3.937563586138773,
          4.217572976498975,
          4.428989344070162,
          4.5708968686920946,
          4.645077866869307,
          4.655452603136145,
          4.6075394331596335,
          4.507957840268917,
          4.363988038922016,
          4.183194070856626,
          3.97311231802452,
          3.7410037655862545,
          3.493665884657598,
          3.237298429710791,
          2.97741656037783,
          2.718804336743424,
          2.465501665271502,
          2.2208180787040903,
          1.9873672285542174,
          1.7671165824158388,
          1.561447494890433,
          1.3712215180641483,
          1.1968495034862894,
          1.0383606996712835,
          0.8954696516518217,
          0.7676392522289271,
          0.654138773067525,
          0.5540961160177151,
          0.46654387205544334,
          0.39045906007453524,
          0.324796644861234,
          0.2685171082848708,
          0.2206084758993257,
          0.1801032888258905,
          0.14609106399400162,
          0.11772681034298896,
          0.09423616986915491,
          0.07491773542348398,
          0.05914306640625001,
          0.0463548829120752,
          0.036063871858788434,
          0.027844488063038485,
          0.021330081478047304,
          0.01620763078714723,
          0.012212314724804664,
          0.00912210696469395,
          0.006752538925115806,
          0.004951737859084373,
          0.003595815339687939,
          0.0025846537413264604,
          0.0018381154161000162,
          0.0012926807128753374,
          0.0008985064377811596,
          0.0006168854043937424,
          0.0004180799322119168,
          0.0002794970741769264,
          0.0001841705447251806,
          0.00011951335535003006,
          7.630565076590415e-05,
          4.788381832084046e-05,
          2.9499300582160463e-05,
          1.78184040370111e-05,
          1.053753762859394e-05,
          6.091548129916192e-06,
          3.4360000558877266e-06,
          1.8872675623959136e-06,
          1.007088832411318e-06,
          5.207322252325346e-07,
          2.6011395686399925e-07,
          1.2508430810651626e-07,
          5.767304655007605e-08,
          2.5375339270138973e-08,
          1.0594521770480592e-08,
          4.1693602605089804e-09,
          1.5341211191982117e-09,
          5.22578817922026e-10,
          1.6278353181561193e-10,
          4.565665152540303e-11,
          1.1302415999999966e-11,
          2.4055012020525026e-12,
          4.247731397565097e-13,
          5.920565710585814e-14,
          6.054748053551618e-15,
          4.056622924804741e-16,
          1.472845963136198e-17,
          2.0303821341536684e-19,
          4.781585454858304e-22,
          1.5043515696000204e-26
         ]
        },
        {
         "mode": "lines+markers",
         "name": "alpha=16, beta=4",
         "type": "scatter",
         "x": [
          -1,
          -0.99,
          -0.98,
          -0.97,
          -0.96,
          -0.95,
          -0.94,
          -0.93,
          -0.92,
          -0.91,
          -0.9,
          -0.89,
          -0.88,
          -0.87,
          -0.86,
          -0.85,
          -0.84,
          -0.83,
          -0.82,
          -0.81,
          -0.8,
          -0.79,
          -0.78,
          -0.77,
          -0.76,
          -0.75,
          -0.74,
          -0.73,
          -0.72,
          -0.71,
          -0.7,
          -0.69,
          -0.68,
          -0.67,
          -0.66,
          -0.65,
          -0.64,
          -0.63,
          -0.62,
          -0.61,
          -0.6,
          -0.59,
          -0.58,
          -0.57,
          -0.56,
          -0.55,
          -0.54,
          -0.53,
          -0.52,
          -0.51,
          -0.5,
          -0.49,
          -0.48,
          -0.47,
          -0.46,
          -0.45,
          -0.44,
          -0.43,
          -0.42,
          -0.41,
          -0.4,
          -0.39,
          -0.38,
          -0.37,
          -0.36,
          -0.35,
          -0.34,
          -0.33,
          -0.32,
          -0.31,
          -0.3,
          -0.29,
          -0.28,
          -0.27,
          -0.26,
          -0.25,
          -0.24,
          -0.23,
          -0.22,
          -0.21,
          -0.2,
          -0.19,
          -0.18,
          -0.17,
          -0.16,
          -0.15,
          -0.14,
          -0.13,
          -0.12,
          -0.11,
          -0.1,
          -0.09,
          -0.08,
          -0.07,
          -0.06,
          -0.05,
          -0.04,
          -0.03,
          -0.02,
          -0.01,
          0,
          0.01,
          0.02,
          0.03,
          0.04,
          0.05,
          0.06,
          0.07,
          0.08,
          0.09,
          0.1,
          0.11,
          0.12,
          0.13,
          0.14,
          0.15,
          0.16,
          0.17,
          0.18,
          0.19,
          0.2,
          0.21,
          0.22,
          0.23,
          0.24,
          0.25,
          0.26,
          0.27,
          0.28,
          0.29,
          0.3,
          0.31,
          0.32,
          0.33,
          0.34,
          0.35,
          0.36,
          0.37,
          0.38,
          0.39,
          0.4,
          0.41,
          0.42,
          0.43,
          0.44,
          0.45,
          0.46,
          0.47,
          0.48,
          0.49,
          0.5,
          0.51,
          0.52,
          0.53,
          0.54,
          0.55,
          0.56,
          0.57,
          0.58,
          0.59,
          0.6,
          0.61,
          0.62,
          0.63,
          0.64,
          0.65,
          0.66,
          0.67,
          0.68,
          0.69,
          0.7,
          0.71,
          0.72,
          0.73,
          0.74,
          0.75,
          0.76,
          0.77,
          0.78,
          0.79,
          0.8,
          0.81,
          0.82,
          0.83,
          0.84,
          0.85,
          0.86,
          0.87,
          0.88,
          0.89,
          0.9,
          0.91,
          0.92,
          0.93,
          0.94,
          0.95,
          0.96,
          0.97,
          0.98,
          0.99
         ],
         "y": [
          0,
          0,
          0,
          0,
          0,
          0,
          0,
          0,
          0,
          0,
          0,
          0,
          0,
          0,
          0,
          0,
          0,
          0,
          0,
          0,
          0,
          0,
          0,
          0,
          0,
          0,
          0,
          0,
          0,
          0,
          0,
          0,
          0,
          0,
          0,
          0,
          0,
          0,
          0,
          0,
          0,
          0,
          0,
          0,
          0,
          0,
          0,
          0,
          0,
          0,
          0,
          0,
          0,
          0,
          0,
          0,
          0,
          0,
          0,
          0,
          0,
          0,
          0,
          0,
          0,
          0,
          0,
          0,
          0,
          0,
          0,
          0,
          0,
          0,
          0,
          0,
          0,
          0,
          0,
          0,
          0,
          0,
          0,
          0,
          0,
          0,
          0,
          0,
          0,
          0,
          0,
          0,
          0,
          0,
          0,
          0,
          0,
          0,
          0,
          0,
          0,
          1.5043515696000006e-26,
          4.781585454858241e-22,
          2.0303821341536404e-19,
          1.472845963136179e-17,
          4.056622924804691e-16,
          6.054748053551535e-15,
          5.920565710585882e-14,
          4.2477313975651303e-13,
          2.4055012020525135e-12,
          1.1302416000000012e-11,
          4.5656651525403114e-11,
          1.6278353181561193e-10,
          5.22578817922026e-10,
          1.5341211191982117e-09,
          4.16936026050897e-09,
          1.0594521770480566e-08,
          2.537533927013891e-08,
          5.76730465500758e-08,
          1.2508430810651682e-07,
          2.601139568640003e-07,
          5.207322252325358e-07,
          1.0070888324113198e-06,
          1.8872675623959172e-06,
          3.4360000558877266e-06,
          6.091548129916192e-06,
          1.053753762859394e-05,
          1.78184040370111e-05,
          2.9499300582160463e-05,
          4.7883818320840325e-05,
          7.630565076590394e-05,
          0.00011951335535002972,
          0.00018417054472518103,
          0.00027949707417692694,
          0.0004180799322119177,
          0.0006168854043937424,
          0.0008985064377811596,
          0.0012926807128753374,
          0.0018381154161000162,
          0.0025846537413264604,
          0.003595815339687939,
          0.0049517378590843665,
          0.006752538925115797,
          0.009122106964693937,
          0.012212314724804687,
          0.01620763078714726,
          0.021330081478047342,
          0.027844488063038485,
          0.036063871858788434,
          0.0463548829120752,
          0.05914306640625001,
          0.07491773542348398,
          0.09423616986915491,
          0.11772681034298896,
          0.1460910639940016,
          0.1801032888258904,
          0.22060847589932564,
          0.26851710828487013,
          0.3247966448612331,
          0.3904590600745343,
          0.46654387205544334,
          0.5540961160177151,
          0.654138773067525,
          0.7676392522289271,
          0.8954696516518217,
          1.0383606996712835,
          1.1968495034862918,
          1.3712215180641512,
          1.561447494890436,
          1.76711658241584,
          1.9873672285542188,
          2.220818078704091,
          2.465501665271502,
          2.718804336743424,
          2.97741656037783,
          3.237298429710791,
          3.493665884657598,
          3.741003765586253,
          3.973112318024519,
          4.183194070856624,
          4.363988038922012,
          4.507957840268913,
          4.607539433159629,
          4.655452603136147,
          4.645077866869309,
          4.570896868692097,
          4.428989344070162,
          4.217572976498975,
          3.937563586138773,
          3.5931215984860865,
          3.1921361119954375,
          2.74657949119313,
          2.2726425357846805,
          1.7905320866801393,
          1.3237784743615457,
          0.8978584040496038,
          0.5378884629352675,
          0.2650840137821738,
          0.09160620293931498,
          0.013334344730358574
         ]
        }
       ],
       "layout": {
        "height": 480,
        "template": {
         "data": {
          "bar": [
           {
            "error_x": {
             "color": "#2a3f5f"
            },
            "error_y": {
             "color": "#2a3f5f"
            },
            "marker": {
             "line": {
              "color": "#E5ECF6",
              "width": 0.5
             },
             "pattern": {
              "fillmode": "overlay",
              "size": 10,
              "solidity": 0.2
             }
            },
            "type": "bar"
           }
          ],
          "barpolar": [
           {
            "marker": {
             "line": {
              "color": "#E5ECF6",
              "width": 0.5
             },
             "pattern": {
              "fillmode": "overlay",
              "size": 10,
              "solidity": 0.2
             }
            },
            "type": "barpolar"
           }
          ],
          "carpet": [
           {
            "aaxis": {
             "endlinecolor": "#2a3f5f",
             "gridcolor": "white",
             "linecolor": "white",
             "minorgridcolor": "white",
             "startlinecolor": "#2a3f5f"
            },
            "baxis": {
             "endlinecolor": "#2a3f5f",
             "gridcolor": "white",
             "linecolor": "white",
             "minorgridcolor": "white",
             "startlinecolor": "#2a3f5f"
            },
            "type": "carpet"
           }
          ],
          "choropleth": [
           {
            "colorbar": {
             "outlinewidth": 0,
             "ticks": ""
            },
            "type": "choropleth"
           }
          ],
          "contour": [
           {
            "colorbar": {
             "outlinewidth": 0,
             "ticks": ""
            },
            "colorscale": [
             [
              0,
              "#0d0887"
             ],
             [
              0.1111111111111111,
              "#46039f"
             ],
             [
              0.2222222222222222,
              "#7201a8"
             ],
             [
              0.3333333333333333,
              "#9c179e"
             ],
             [
              0.4444444444444444,
              "#bd3786"
             ],
             [
              0.5555555555555556,
              "#d8576b"
             ],
             [
              0.6666666666666666,
              "#ed7953"
             ],
             [
              0.7777777777777778,
              "#fb9f3a"
             ],
             [
              0.8888888888888888,
              "#fdca26"
             ],
             [
              1,
              "#f0f921"
             ]
            ],
            "type": "contour"
           }
          ],
          "contourcarpet": [
           {
            "colorbar": {
             "outlinewidth": 0,
             "ticks": ""
            },
            "type": "contourcarpet"
           }
          ],
          "heatmap": [
           {
            "colorbar": {
             "outlinewidth": 0,
             "ticks": ""
            },
            "colorscale": [
             [
              0,
              "#0d0887"
             ],
             [
              0.1111111111111111,
              "#46039f"
             ],
             [
              0.2222222222222222,
              "#7201a8"
             ],
             [
              0.3333333333333333,
              "#9c179e"
             ],
             [
              0.4444444444444444,
              "#bd3786"
             ],
             [
              0.5555555555555556,
              "#d8576b"
             ],
             [
              0.6666666666666666,
              "#ed7953"
             ],
             [
              0.7777777777777778,
              "#fb9f3a"
             ],
             [
              0.8888888888888888,
              "#fdca26"
             ],
             [
              1,
              "#f0f921"
             ]
            ],
            "type": "heatmap"
           }
          ],
          "heatmapgl": [
           {
            "colorbar": {
             "outlinewidth": 0,
             "ticks": ""
            },
            "colorscale": [
             [
              0,
              "#0d0887"
             ],
             [
              0.1111111111111111,
              "#46039f"
             ],
             [
              0.2222222222222222,
              "#7201a8"
             ],
             [
              0.3333333333333333,
              "#9c179e"
             ],
             [
              0.4444444444444444,
              "#bd3786"
             ],
             [
              0.5555555555555556,
              "#d8576b"
             ],
             [
              0.6666666666666666,
              "#ed7953"
             ],
             [
              0.7777777777777778,
              "#fb9f3a"
             ],
             [
              0.8888888888888888,
              "#fdca26"
             ],
             [
              1,
              "#f0f921"
             ]
            ],
            "type": "heatmapgl"
           }
          ],
          "histogram": [
           {
            "marker": {
             "pattern": {
              "fillmode": "overlay",
              "size": 10,
              "solidity": 0.2
             }
            },
            "type": "histogram"
           }
          ],
          "histogram2d": [
           {
            "colorbar": {
             "outlinewidth": 0,
             "ticks": ""
            },
            "colorscale": [
             [
              0,
              "#0d0887"
             ],
             [
              0.1111111111111111,
              "#46039f"
             ],
             [
              0.2222222222222222,
              "#7201a8"
             ],
             [
              0.3333333333333333,
              "#9c179e"
             ],
             [
              0.4444444444444444,
              "#bd3786"
             ],
             [
              0.5555555555555556,
              "#d8576b"
             ],
             [
              0.6666666666666666,
              "#ed7953"
             ],
             [
              0.7777777777777778,
              "#fb9f3a"
             ],
             [
              0.8888888888888888,
              "#fdca26"
             ],
             [
              1,
              "#f0f921"
             ]
            ],
            "type": "histogram2d"
           }
          ],
          "histogram2dcontour": [
           {
            "colorbar": {
             "outlinewidth": 0,
             "ticks": ""
            },
            "colorscale": [
             [
              0,
              "#0d0887"
             ],
             [
              0.1111111111111111,
              "#46039f"
             ],
             [
              0.2222222222222222,
              "#7201a8"
             ],
             [
              0.3333333333333333,
              "#9c179e"
             ],
             [
              0.4444444444444444,
              "#bd3786"
             ],
             [
              0.5555555555555556,
              "#d8576b"
             ],
             [
              0.6666666666666666,
              "#ed7953"
             ],
             [
              0.7777777777777778,
              "#fb9f3a"
             ],
             [
              0.8888888888888888,
              "#fdca26"
             ],
             [
              1,
              "#f0f921"
             ]
            ],
            "type": "histogram2dcontour"
           }
          ],
          "mesh3d": [
           {
            "colorbar": {
             "outlinewidth": 0,
             "ticks": ""
            },
            "type": "mesh3d"
           }
          ],
          "parcoords": [
           {
            "line": {
             "colorbar": {
              "outlinewidth": 0,
              "ticks": ""
             }
            },
            "type": "parcoords"
           }
          ],
          "pie": [
           {
            "automargin": true,
            "type": "pie"
           }
          ],
          "scatter": [
           {
            "fillpattern": {
             "fillmode": "overlay",
             "size": 10,
             "solidity": 0.2
            },
            "type": "scatter"
           }
          ],
          "scatter3d": [
           {
            "line": {
             "colorbar": {
              "outlinewidth": 0,
              "ticks": ""
             }
            },
            "marker": {
             "colorbar": {
              "outlinewidth": 0,
              "ticks": ""
             }
            },
            "type": "scatter3d"
           }
          ],
          "scattercarpet": [
           {
            "marker": {
             "colorbar": {
              "outlinewidth": 0,
              "ticks": ""
             }
            },
            "type": "scattercarpet"
           }
          ],
          "scattergeo": [
           {
            "marker": {
             "colorbar": {
              "outlinewidth": 0,
              "ticks": ""
             }
            },
            "type": "scattergeo"
           }
          ],
          "scattergl": [
           {
            "marker": {
             "colorbar": {
              "outlinewidth": 0,
              "ticks": ""
             }
            },
            "type": "scattergl"
           }
          ],
          "scattermapbox": [
           {
            "marker": {
             "colorbar": {
              "outlinewidth": 0,
              "ticks": ""
             }
            },
            "type": "scattermapbox"
           }
          ],
          "scatterpolar": [
           {
            "marker": {
             "colorbar": {
              "outlinewidth": 0,
              "ticks": ""
             }
            },
            "type": "scatterpolar"
           }
          ],
          "scatterpolargl": [
           {
            "marker": {
             "colorbar": {
              "outlinewidth": 0,
              "ticks": ""
             }
            },
            "type": "scatterpolargl"
           }
          ],
          "scatterternary": [
           {
            "marker": {
             "colorbar": {
              "outlinewidth": 0,
              "ticks": ""
             }
            },
            "type": "scatterternary"
           }
          ],
          "surface": [
           {
            "colorbar": {
             "outlinewidth": 0,
             "ticks": ""
            },
            "colorscale": [
             [
              0,
              "#0d0887"
             ],
             [
              0.1111111111111111,
              "#46039f"
             ],
             [
              0.2222222222222222,
              "#7201a8"
             ],
             [
              0.3333333333333333,
              "#9c179e"
             ],
             [
              0.4444444444444444,
              "#bd3786"
             ],
             [
              0.5555555555555556,
              "#d8576b"
             ],
             [
              0.6666666666666666,
              "#ed7953"
             ],
             [
              0.7777777777777778,
              "#fb9f3a"
             ],
             [
              0.8888888888888888,
              "#fdca26"
             ],
             [
              1,
              "#f0f921"
             ]
            ],
            "type": "surface"
           }
          ],
          "table": [
           {
            "cells": {
             "fill": {
              "color": "#EBF0F8"
             },
             "line": {
              "color": "white"
             }
            },
            "header": {
             "fill": {
              "color": "#C8D4E3"
             },
             "line": {
              "color": "white"
             }
            },
            "type": "table"
           }
          ]
         },
         "layout": {
          "annotationdefaults": {
           "arrowcolor": "#2a3f5f",
           "arrowhead": 0,
           "arrowwidth": 1
          },
          "autotypenumbers": "strict",
          "coloraxis": {
           "colorbar": {
            "outlinewidth": 0,
            "ticks": ""
           }
          },
          "colorscale": {
           "diverging": [
            [
             0,
             "#8e0152"
            ],
            [
             0.1,
             "#c51b7d"
            ],
            [
             0.2,
             "#de77ae"
            ],
            [
             0.3,
             "#f1b6da"
            ],
            [
             0.4,
             "#fde0ef"
            ],
            [
             0.5,
             "#f7f7f7"
            ],
            [
             0.6,
             "#e6f5d0"
            ],
            [
             0.7,
             "#b8e186"
            ],
            [
             0.8,
             "#7fbc41"
            ],
            [
             0.9,
             "#4d9221"
            ],
            [
             1,
             "#276419"
            ]
           ],
           "sequential": [
            [
             0,
             "#0d0887"
            ],
            [
             0.1111111111111111,
             "#46039f"
            ],
            [
             0.2222222222222222,
             "#7201a8"
            ],
            [
             0.3333333333333333,
             "#9c179e"
            ],
            [
             0.4444444444444444,
             "#bd3786"
            ],
            [
             0.5555555555555556,
             "#d8576b"
            ],
            [
             0.6666666666666666,
             "#ed7953"
            ],
            [
             0.7777777777777778,
             "#fb9f3a"
            ],
            [
             0.8888888888888888,
             "#fdca26"
            ],
            [
             1,
             "#f0f921"
            ]
           ],
           "sequentialminus": [
            [
             0,
             "#0d0887"
            ],
            [
             0.1111111111111111,
             "#46039f"
            ],
            [
             0.2222222222222222,
             "#7201a8"
            ],
            [
             0.3333333333333333,
             "#9c179e"
            ],
            [
             0.4444444444444444,
             "#bd3786"
            ],
            [
             0.5555555555555556,
             "#d8576b"
            ],
            [
             0.6666666666666666,
             "#ed7953"
            ],
            [
             0.7777777777777778,
             "#fb9f3a"
            ],
            [
             0.8888888888888888,
             "#fdca26"
            ],
            [
             1,
             "#f0f921"
            ]
           ]
          },
          "colorway": [
           "#636efa",
           "#EF553B",
           "#00cc96",
           "#ab63fa",
           "#FFA15A",
           "#19d3f3",
           "#FF6692",
           "#B6E880",
           "#FF97FF",
           "#FECB52"
          ],
          "font": {
           "color": "#2a3f5f"
          },
          "geo": {
           "bgcolor": "white",
           "lakecolor": "white",
           "landcolor": "#E5ECF6",
           "showlakes": true,
           "showland": true,
           "subunitcolor": "white"
          },
          "hoverlabel": {
           "align": "left"
          },
          "hovermode": "closest",
          "mapbox": {
           "style": "light"
          },
          "paper_bgcolor": "white",
          "plot_bgcolor": "#E5ECF6",
          "polar": {
           "angularaxis": {
            "gridcolor": "white",
            "linecolor": "white",
            "ticks": ""
           },
           "bgcolor": "#E5ECF6",
           "radialaxis": {
            "gridcolor": "white",
            "linecolor": "white",
            "ticks": ""
           }
          },
          "scene": {
           "xaxis": {
            "backgroundcolor": "#E5ECF6",
            "gridcolor": "white",
            "gridwidth": 2,
            "linecolor": "white",
            "showbackground": true,
            "ticks": "",
            "zerolinecolor": "white"
           },
           "yaxis": {
            "backgroundcolor": "#E5ECF6",
            "gridcolor": "white",
            "gridwidth": 2,
            "linecolor": "white",
            "showbackground": true,
            "ticks": "",
            "zerolinecolor": "white"
           },
           "zaxis": {
            "backgroundcolor": "#E5ECF6",
            "gridcolor": "white",
            "gridwidth": 2,
            "linecolor": "white",
            "showbackground": true,
            "ticks": "",
            "zerolinecolor": "white"
           }
          },
          "shapedefaults": {
           "line": {
            "color": "#2a3f5f"
           }
          },
          "ternary": {
           "aaxis": {
            "gridcolor": "white",
            "linecolor": "white",
            "ticks": ""
           },
           "baxis": {
            "gridcolor": "white",
            "linecolor": "white",
            "ticks": ""
           },
           "bgcolor": "#E5ECF6",
           "caxis": {
            "gridcolor": "white",
            "linecolor": "white",
            "ticks": ""
           }
          },
          "title": {
           "x": 0.05
          },
          "xaxis": {
           "automargin": true,
           "gridcolor": "white",
           "linecolor": "white",
           "ticks": "",
           "title": {
            "standoff": 15
           },
           "zerolinecolor": "white",
           "zerolinewidth": 2
          },
          "yaxis": {
           "automargin": true,
           "gridcolor": "white",
           "linecolor": "white",
           "ticks": "",
           "title": {
            "standoff": 15
           },
           "zerolinecolor": "white",
           "zerolinewidth": 2
          }
         }
        },
        "title": {
         "text": "Example of beta distributions"
        },
        "width": 720,
        "xaxis": {
         "range": [
          0,
          1
         ],
         "title": {
          "text": "x"
         },
         "type": "linear"
        },
        "yaxis": {
         "autorange": true,
         "range": [
          -0.33253232879543904,
          4.987984931931586
         ],
         "title": {
          "text": "y"
         },
         "type": "linear"
        }
       }
      },
      "image/png": "[encoded data removed]",
      "text/html": [
       "<div>                            <div id=\"08d22b52-4ec1-4dfc-8d97-93f45b7bbf60\" class=\"plotly-graph-div\" style=\"height:480px; width:720px;\"></div>            <script type=\"text/javascript\">                require([\"plotly\"], function(Plotly) {                    window.PLOTLYENV=window.PLOTLYENV || {};                                    if (document.getElementById(\"08d22b52-4ec1-4dfc-8d97-93f45b7bbf60\")) {                    Plotly.newPlot(                        \"08d22b52-4ec1-4dfc-8d97-93f45b7bbf60\",                        [{\"mode\":\"lines+markers\",\"name\":\"alpha=1, beta=1\",\"x\":[-1.0,-0.99,-0.98,-0.97,-0.96,-0.95,-0.94,-0.93,-0.92,-0.91,-0.9,-0.89,-0.88,-0.87,-0.86,-0.85,-0.84,-0.83,-0.82,-0.81,-0.8,-0.79,-0.78,-0.77,-0.76,-0.75,-0.74,-0.73,-0.72,-0.71,-0.7,-0.69,-0.68,-0.67,-0.66,-0.65,-0.64,-0.63,-0.62,-0.61,-0.6,-0.59,-0.58,-0.57,-0.56,-0.55,-0.54,-0.53,-0.52,-0.51,-0.5,-0.49,-0.48,-0.47,-0.46,-0.45,-0.44,-0.43,-0.42,-0.41,-0.4,-0.39,-0.38,-0.37,-0.36,-0.35,-0.34,-0.33,-0.32,-0.31,-0.3,-0.29,-0.28,-0.27,-0.26,-0.25,-0.24,-0.23,-0.22,-0.21,-0.2,-0.19,-0.18,-0.17,-0.16,-0.15,-0.14,-0.13,-0.12,-0.11,-0.1,-0.09,-0.08,-0.07,-0.06,-0.05,-0.04,-0.03,-0.02,-0.01,0.0,0.01,0.02,0.03,0.04,0.05,0.06,0.07,0.08,0.09,0.1,0.11,0.12,0.13,0.14,0.15,0.16,0.17,0.18,0.19,0.2,0.21,0.22,0.23,0.24,0.25,0.26,0.27,0.28,0.29,0.3,0.31,0.32,0.33,0.34,0.35,0.36,0.37,0.38,0.39,0.4,0.41,0.42,0.43,0.44,0.45,0.46,0.47,0.48,0.49,0.5,0.51,0.52,0.53,0.54,0.55,0.56,0.57,0.58,0.59,0.6,0.61,0.62,0.63,0.64,0.65,0.66,0.67,0.68,0.69,0.7,0.71,0.72,0.73,0.74,0.75,0.76,0.77,0.78,0.79,0.8,0.81,0.82,0.83,0.84,0.85,0.86,0.87,0.88,0.89,0.9,0.91,0.92,0.93,0.94,0.95,0.96,0.97,0.98,0.99],\"y\":[0,0,0,0,0,0,0,0,0,0,0,0,0,0,0,0,0,0,0,0,0,0,0,0,0,0,0,0,0,0,0,0,0,0,0,0,0,0,0,0,0,0,0,0,0,0,0,0,0,0,0,0,0,0,0,0,0,0,0,0,0,0,0,0,0,0,0,0,0,0,0,0,0,0,0,0,0,0,0,0,0,0,0,0,0,0,0,0,0,0,0,0,0,0,0,0,0,0,0,0,0,1.0,1.0,1.0,1.0,1.0,1.0,1.0,1.0,1.0,1.0,1.0,1.0,1.0,1.0,1.0,1.0,1.0,1.0,1.0,1.0,1.0,1.0,1.0,1.0,1.0,1.0,1.0,1.0,1.0,1.0,1.0,1.0,1.0,1.0,1.0,1.0,1.0,1.0,1.0,1.0,1.0,1.0,1.0,1.0,1.0,1.0,1.0,1.0,1.0,1.0,1.0,1.0,1.0,1.0,1.0,1.0,1.0,1.0,1.0,1.0,1.0,1.0,1.0,1.0,1.0,1.0,1.0,1.0,1.0,1.0,1.0,1.0,1.0,1.0,1.0,1.0,1.0,1.0,1.0,1.0,1.0,1.0,1.0,1.0,1.0,1.0,1.0,1.0,1.0,1.0,1.0,1.0,1.0,1.0,1.0,1.0,1.0,1.0,1.0],\"type\":\"scatter\"},{\"mode\":\"lines+markers\",\"name\":\"alpha=10, beta=10\",\"x\":[-1.0,-0.99,-0.98,-0.97,-0.96,-0.95,-0.94,-0.93,-0.92,-0.91,-0.9,-0.89,-0.88,-0.87,-0.86,-0.85,-0.84,-0.83,-0.82,-0.81,-0.8,-0.79,-0.78,-0.77,-0.76,-0.75,-0.74,-0.73,-0.72,-0.71,-0.7,-0.69,-0.68,-0.67,-0.66,-0.65,-0.64,-0.63,-0.62,-0.61,-0.6,-0.59,-0.58,-0.57,-0.56,-0.55,-0.54,-0.53,-0.52,-0.51,-0.5,-0.49,-0.48,-0.47,-0.46,-0.45,-0.44,-0.43,-0.42,-0.41,-0.4,-0.39,-0.38,-0.37,-0.36,-0.35,-0.34,-0.33,-0.32,-0.31,-0.3,-0.29,-0.28,-0.27,-0.26,-0.25,-0.24,-0.23,-0.22,-0.21,-0.2,-0.19,-0.18,-0.17,-0.16,-0.15,-0.14,-0.13,-0.12,-0.11,-0.1,-0.09,-0.08,-0.07,-0.06,-0.05,-0.04,-0.03,-0.02,-0.01,0.0,0.01,0.02,0.03,0.04,0.05,0.06,0.07,0.08,0.09,0.1,0.11,0.12,0.13,0.14,0.15,0.16,0.17,0.18,0.19,0.2,0.21,0.22,0.23,0.24,0.25,0.26,0.27,0.28,0.29,0.3,0.31,0.32,0.33,0.34,0.35,0.36,0.37,0.38,0.39,0.4,0.41,0.42,0.43,0.44,0.45,0.46,0.47,0.48,0.49,0.5,0.51,0.52,0.53,0.54,0.55,0.56,0.57,0.58,0.59,0.6,0.61,0.62,0.63,0.64,0.65,0.66,0.67,0.68,0.69,0.7,0.71,0.72,0.73,0.74,0.75,0.76,0.77,0.78,0.79,0.8,0.81,0.82,0.83,0.84,0.85,0.86,0.87,0.88,0.89,0.9,0.91,0.92,0.93,0.94,0.95,0.96,0.97,0.98,0.99],\"y\":[0,0,0,0,0,0,0,0,0,0,0,0,0,0,0,0,0,0,0,0,0,0,0,0,0,0,0,0,0,0,0,0,0,0,0,0,0,0,0,0,0,0,0,0,0,0,0,0,0,0,0,0,0,0,0,0,0,0,0,0,0,0,0,0,0,0,0,0,0,0,0,0,0,0,0,0,0,0,0,0,0,0,0,0,0,0,0,0,0,0,0,0,0,0,0,0,0,0,0,0,0,8.438889628804379e-13,3.9434214794270206e-10,1.382310020686392e-08,1.677063761855089e-07,1.13713242131914e-06,5.3343375191968515e-06,1.939980893078761e-05,5.8542179163452225e-05,0.00015315235218980105,0.0003578912993284203,0.0007631550487337022,0.0015084948062614365,0.0027972546198648178,0.0049114184546453984,0.008225460447683318,0.01321788514840661,0.020479138316743025,0.030714664288755723,0.04474207628487295,0.06348167821918214,0.08793991260477753,0.1191856878040222,0.15831993619455767,0.20643914960541065,0.26459400745807216,0.3337445364068512,0.4147135009255614,0.5081399089376708,0.6144346160558879,0.7337400214305957,0.8658957670763296,1.010412184466115,1.166452984568424,1.3328283710874405,1.5079993849330744,1.690093876459198,1.8769340677196071,2.06607522752187,2.254854554987335,2.4404489695081275,2.6199401519401126,2.7903848871967893,2.948888533359313,3.0926792955045075,3.2191809191911265,3.326081441301702,3.4113957438919087,3.4735198459127563,3.5112751312619683,3.5239410400390625,3.5112751312619683,3.4735198459127563,3.4113957438919087,3.3260814413016986,3.219180919191123,3.092679295504504,2.948888533359311,2.790384887196788,2.6199401519401118,2.4404489695081275,2.254854554987335,2.06607522752187,1.8769340677196071,1.690093876459198,1.5079993849330744,1.3328283710874405,1.1664529845684242,1.0104121844661147,0.8658957670763311,0.7337400214305967,0.6144346160558889,0.5081399089376708,0.4147135009255614,0.3337445364068512,0.26459400745807216,0.20643914960541065,0.15831993619455748,0.11918568780402207,0.08793991260477743,0.06348167821918199,0.04474207628487283,0.030714664288755772,0.020479138316743053,0.01321788514840663,0.008225460447683332,0.0049114184546453984,0.0027972546198648178,0.0015084948062614365,0.0007631550487337015,0.0003578912993284194,0.00015315235218980064,5.8542179163451954e-05,1.9399808930787496e-05,5.334337519196896e-06,1.1371324213191483e-06,1.677063761855102e-07,1.3823100206864034e-08,3.943421479427051e-10,8.438889628804446e-13],\"type\":\"scatter\"},{\"mode\":\"lines+markers\",\"name\":\"alpha=4, beta=16\",\"x\":[-1.0,-0.99,-0.98,-0.97,-0.96,-0.95,-0.94,-0.93,-0.92,-0.91,-0.9,-0.89,-0.88,-0.87,-0.86,-0.85,-0.84,-0.83,-0.82,-0.81,-0.8,-0.79,-0.78,-0.77,-0.76,-0.75,-0.74,-0.73,-0.72,-0.71,-0.7,-0.69,-0.68,-0.67,-0.66,-0.65,-0.64,-0.63,-0.62,-0.61,-0.6,-0.59,-0.58,-0.57,-0.56,-0.55,-0.54,-0.53,-0.52,-0.51,-0.5,-0.49,-0.48,-0.47,-0.46,-0.45,-0.44,-0.43,-0.42,-0.41,-0.4,-0.39,-0.38,-0.37,-0.36,-0.35,-0.34,-0.33,-0.32,-0.31,-0.3,-0.29,-0.28,-0.27,-0.26,-0.25,-0.24,-0.23,-0.22,-0.21,-0.2,-0.19,-0.18,-0.17,-0.16,-0.15,-0.14,-0.13,-0.12,-0.11,-0.1,-0.09,-0.08,-0.07,-0.06,-0.05,-0.04,-0.03,-0.02,-0.01,0.0,0.01,0.02,0.03,0.04,0.05,0.06,0.07,0.08,0.09,0.1,0.11,0.12,0.13,0.14,0.15,0.16,0.17,0.18,0.19,0.2,0.21,0.22,0.23,0.24,0.25,0.26,0.27,0.28,0.29,0.3,0.31,0.32,0.33,0.34,0.35,0.36,0.37,0.38,0.39,0.4,0.41,0.42,0.43,0.44,0.45,0.46,0.47,0.48,0.49,0.5,0.51,0.52,0.53,0.54,0.55,0.56,0.57,0.58,0.59,0.6,0.61,0.62,0.63,0.64,0.65,0.66,0.67,0.68,0.69,0.7,0.71,0.72,0.73,0.74,0.75,0.76,0.77,0.78,0.79,0.8,0.81,0.82,0.83,0.84,0.85,0.86,0.87,0.88,0.89,0.9,0.91,0.92,0.93,0.94,0.95,0.96,0.97,0.98,0.99],\"y\":[0,0,0,0,0,0,0,0,0,0,0,0,0,0,0,0,0,0,0,0,0,0,0,0,0,0,0,0,0,0,0,0,0,0,0,0,0,0,0,0,0,0,0,0,0,0,0,0,0,0,0,0,0,0,0,0,0,0,0,0,0,0,0,0,0,0,0,0,0,0,0,0,0,0,0,0,0,0,0,0,0,0,0,0,0,0,0,0,0,0,0,0,0,0,0,0,0,0,0,0,0,0.013334344730358539,0.09160620293931475,0.265084013782173,0.5378884629352662,0.8978584040496016,1.323778474361542,1.7905320866801402,2.2726425357846844,2.7465794911931325,3.19213611199544,3.5931215984860874,3.937563586138773,4.217572976498975,4.428989344070162,4.5708968686920946,4.645077866869307,4.655452603136145,4.6075394331596335,4.507957840268917,4.363988038922016,4.183194070856626,3.97311231802452,3.7410037655862545,3.493665884657598,3.237298429710791,2.97741656037783,2.718804336743424,2.465501665271502,2.2208180787040903,1.9873672285542174,1.7671165824158388,1.561447494890433,1.3712215180641483,1.1968495034862894,1.0383606996712835,0.8954696516518217,0.7676392522289271,0.654138773067525,0.5540961160177151,0.46654387205544334,0.39045906007453524,0.324796644861234,0.2685171082848708,0.2206084758993257,0.1801032888258905,0.14609106399400162,0.11772681034298896,0.09423616986915491,0.07491773542348398,0.05914306640625001,0.0463548829120752,0.036063871858788434,0.027844488063038485,0.021330081478047304,0.01620763078714723,0.012212314724804664,0.00912210696469395,0.006752538925115806,0.004951737859084373,0.003595815339687939,0.0025846537413264604,0.0018381154161000162,0.0012926807128753374,0.0008985064377811596,0.0006168854043937424,0.0004180799322119168,0.0002794970741769264,0.0001841705447251806,0.00011951335535003006,7.630565076590415e-05,4.788381832084046e-05,2.9499300582160463e-05,1.78184040370111e-05,1.053753762859394e-05,6.091548129916192e-06,3.4360000558877266e-06,1.8872675623959136e-06,1.007088832411318e-06,5.207322252325346e-07,2.6011395686399925e-07,1.2508430810651626e-07,5.767304655007605e-08,2.5375339270138973e-08,1.0594521770480592e-08,4.1693602605089804e-09,1.5341211191982117e-09,5.22578817922026e-10,1.6278353181561193e-10,4.565665152540303e-11,1.1302415999999966e-11,2.4055012020525026e-12,4.247731397565097e-13,5.920565710585814e-14,6.054748053551618e-15,4.056622924804741e-16,1.472845963136198e-17,2.0303821341536684e-19,4.781585454858304e-22,1.5043515696000204e-26],\"type\":\"scatter\"},{\"mode\":\"lines+markers\",\"name\":\"alpha=16, beta=4\",\"x\":[-1.0,-0.99,-0.98,-0.97,-0.96,-0.95,-0.94,-0.93,-0.92,-0.91,-0.9,-0.89,-0.88,-0.87,-0.86,-0.85,-0.84,-0.83,-0.82,-0.81,-0.8,-0.79,-0.78,-0.77,-0.76,-0.75,-0.74,-0.73,-0.72,-0.71,-0.7,-0.69,-0.68,-0.67,-0.66,-0.65,-0.64,-0.63,-0.62,-0.61,-0.6,-0.59,-0.58,-0.57,-0.56,-0.55,-0.54,-0.53,-0.52,-0.51,-0.5,-0.49,-0.48,-0.47,-0.46,-0.45,-0.44,-0.43,-0.42,-0.41,-0.4,-0.39,-0.38,-0.37,-0.36,-0.35,-0.34,-0.33,-0.32,-0.31,-0.3,-0.29,-0.28,-0.27,-0.26,-0.25,-0.24,-0.23,-0.22,-0.21,-0.2,-0.19,-0.18,-0.17,-0.16,-0.15,-0.14,-0.13,-0.12,-0.11,-0.1,-0.09,-0.08,-0.07,-0.06,-0.05,-0.04,-0.03,-0.02,-0.01,0.0,0.01,0.02,0.03,0.04,0.05,0.06,0.07,0.08,0.09,0.1,0.11,0.12,0.13,0.14,0.15,0.16,0.17,0.18,0.19,0.2,0.21,0.22,0.23,0.24,0.25,0.26,0.27,0.28,0.29,0.3,0.31,0.32,0.33,0.34,0.35,0.36,0.37,0.38,0.39,0.4,0.41,0.42,0.43,0.44,0.45,0.46,0.47,0.48,0.49,0.5,0.51,0.52,0.53,0.54,0.55,0.56,0.57,0.58,0.59,0.6,0.61,0.62,0.63,0.64,0.65,0.66,0.67,0.68,0.69,0.7,0.71,0.72,0.73,0.74,0.75,0.76,0.77,0.78,0.79,0.8,0.81,0.82,0.83,0.84,0.85,0.86,0.87,0.88,0.89,0.9,0.91,0.92,0.93,0.94,0.95,0.96,0.97,0.98,0.99],\"y\":[0,0,0,0,0,0,0,0,0,0,0,0,0,0,0,0,0,0,0,0,0,0,0,0,0,0,0,0,0,0,0,0,0,0,0,0,0,0,0,0,0,0,0,0,0,0,0,0,0,0,0,0,0,0,0,0,0,0,0,0,0,0,0,0,0,0,0,0,0,0,0,0,0,0,0,0,0,0,0,0,0,0,0,0,0,0,0,0,0,0,0,0,0,0,0,0,0,0,0,0,0,1.5043515696000006e-26,4.781585454858241e-22,2.0303821341536404e-19,1.472845963136179e-17,4.056622924804691e-16,6.054748053551535e-15,5.920565710585882e-14,4.2477313975651303e-13,2.4055012020525135e-12,1.1302416000000012e-11,4.5656651525403114e-11,1.6278353181561193e-10,5.22578817922026e-10,1.5341211191982117e-09,4.16936026050897e-09,1.0594521770480566e-08,2.537533927013891e-08,5.76730465500758e-08,1.2508430810651682e-07,2.601139568640003e-07,5.207322252325358e-07,1.0070888324113198e-06,1.8872675623959172e-06,3.4360000558877266e-06,6.091548129916192e-06,1.053753762859394e-05,1.78184040370111e-05,2.9499300582160463e-05,4.7883818320840325e-05,7.630565076590394e-05,0.00011951335535002972,0.00018417054472518103,0.00027949707417692694,0.0004180799322119177,0.0006168854043937424,0.0008985064377811596,0.0012926807128753374,0.0018381154161000162,0.0025846537413264604,0.003595815339687939,0.0049517378590843665,0.006752538925115797,0.009122106964693937,0.012212314724804687,0.01620763078714726,0.021330081478047342,0.027844488063038485,0.036063871858788434,0.0463548829120752,0.05914306640625001,0.07491773542348398,0.09423616986915491,0.11772681034298896,0.1460910639940016,0.1801032888258904,0.22060847589932564,0.26851710828487013,0.3247966448612331,0.3904590600745343,0.46654387205544334,0.5540961160177151,0.654138773067525,0.7676392522289271,0.8954696516518217,1.0383606996712835,1.1968495034862918,1.3712215180641512,1.561447494890436,1.76711658241584,1.9873672285542188,2.220818078704091,2.465501665271502,2.718804336743424,2.97741656037783,3.237298429710791,3.493665884657598,3.741003765586253,3.973112318024519,4.183194070856624,4.363988038922012,4.507957840268913,4.607539433159629,4.655452603136147,4.645077866869309,4.570896868692097,4.428989344070162,4.217572976498975,3.937563586138773,3.5931215984860865,3.1921361119954375,2.74657949119313,2.2726425357846805,1.7905320866801393,1.3237784743615457,0.8978584040496038,0.5378884629352675,0.2650840137821738,0.09160620293931498,0.013334344730358574],\"type\":\"scatter\"}],                        {\"template\":{\"data\":{\"histogram2dcontour\":[{\"type\":\"histogram2dcontour\",\"colorbar\":{\"outlinewidth\":0,\"ticks\":\"\"},\"colorscale\":[[0.0,\"#0d0887\"],[0.1111111111111111,\"#46039f\"],[0.2222222222222222,\"#7201a8\"],[0.3333333333333333,\"#9c179e\"],[0.4444444444444444,\"#bd3786\"],[0.5555555555555556,\"#d8576b\"],[0.6666666666666666,\"#ed7953\"],[0.7777777777777778,\"#fb9f3a\"],[0.8888888888888888,\"#fdca26\"],[1.0,\"#f0f921\"]]}],\"choropleth\":[{\"type\":\"choropleth\",\"colorbar\":{\"outlinewidth\":0,\"ticks\":\"\"}}],\"histogram2d\":[{\"type\":\"histogram2d\",\"colorbar\":{\"outlinewidth\":0,\"ticks\":\"\"},\"colorscale\":[[0.0,\"#0d0887\"],[0.1111111111111111,\"#46039f\"],[0.2222222222222222,\"#7201a8\"],[0.3333333333333333,\"#9c179e\"],[0.4444444444444444,\"#bd3786\"],[0.5555555555555556,\"#d8576b\"],[0.6666666666666666,\"#ed7953\"],[0.7777777777777778,\"#fb9f3a\"],[0.8888888888888888,\"#fdca26\"],[1.0,\"#f0f921\"]]}],\"heatmap\":[{\"type\":\"heatmap\",\"colorbar\":{\"outlinewidth\":0,\"ticks\":\"\"},\"colorscale\":[[0.0,\"#0d0887\"],[0.1111111111111111,\"#46039f\"],[0.2222222222222222,\"#7201a8\"],[0.3333333333333333,\"#9c179e\"],[0.4444444444444444,\"#bd3786\"],[0.5555555555555556,\"#d8576b\"],[0.6666666666666666,\"#ed7953\"],[0.7777777777777778,\"#fb9f3a\"],[0.8888888888888888,\"#fdca26\"],[1.0,\"#f0f921\"]]}],\"heatmapgl\":[{\"type\":\"heatmapgl\",\"colorbar\":{\"outlinewidth\":0,\"ticks\":\"\"},\"colorscale\":[[0.0,\"#0d0887\"],[0.1111111111111111,\"#46039f\"],[0.2222222222222222,\"#7201a8\"],[0.3333333333333333,\"#9c179e\"],[0.4444444444444444,\"#bd3786\"],[0.5555555555555556,\"#d8576b\"],[0.6666666666666666,\"#ed7953\"],[0.7777777777777778,\"#fb9f3a\"],[0.8888888888888888,\"#fdca26\"],[1.0,\"#f0f921\"]]}],\"contourcarpet\":[{\"type\":\"contourcarpet\",\"colorbar\":{\"outlinewidth\":0,\"ticks\":\"\"}}],\"contour\":[{\"type\":\"contour\",\"colorbar\":{\"outlinewidth\":0,\"ticks\":\"\"},\"colorscale\":[[0.0,\"#0d0887\"],[0.1111111111111111,\"#46039f\"],[0.2222222222222222,\"#7201a8\"],[0.3333333333333333,\"#9c179e\"],[0.4444444444444444,\"#bd3786\"],[0.5555555555555556,\"#d8576b\"],[0.6666666666666666,\"#ed7953\"],[0.7777777777777778,\"#fb9f3a\"],[0.8888888888888888,\"#fdca26\"],[1.0,\"#f0f921\"]]}],\"surface\":[{\"type\":\"surface\",\"colorbar\":{\"outlinewidth\":0,\"ticks\":\"\"},\"colorscale\":[[0.0,\"#0d0887\"],[0.1111111111111111,\"#46039f\"],[0.2222222222222222,\"#7201a8\"],[0.3333333333333333,\"#9c179e\"],[0.4444444444444444,\"#bd3786\"],[0.5555555555555556,\"#d8576b\"],[0.6666666666666666,\"#ed7953\"],[0.7777777777777778,\"#fb9f3a\"],[0.8888888888888888,\"#fdca26\"],[1.0,\"#f0f921\"]]}],\"mesh3d\":[{\"type\":\"mesh3d\",\"colorbar\":{\"outlinewidth\":0,\"ticks\":\"\"}}],\"scatter\":[{\"fillpattern\":{\"fillmode\":\"overlay\",\"size\":10,\"solidity\":0.2},\"type\":\"scatter\"}],\"parcoords\":[{\"type\":\"parcoords\",\"line\":{\"colorbar\":{\"outlinewidth\":0,\"ticks\":\"\"}}}],\"scatterpolargl\":[{\"type\":\"scatterpolargl\",\"marker\":{\"colorbar\":{\"outlinewidth\":0,\"ticks\":\"\"}}}],\"bar\":[{\"error_x\":{\"color\":\"#2a3f5f\"},\"error_y\":{\"color\":\"#2a3f5f\"},\"marker\":{\"line\":{\"color\":\"#E5ECF6\",\"width\":0.5},\"pattern\":{\"fillmode\":\"overlay\",\"size\":10,\"solidity\":0.2}},\"type\":\"bar\"}],\"scattergeo\":[{\"type\":\"scattergeo\",\"marker\":{\"colorbar\":{\"outlinewidth\":0,\"ticks\":\"\"}}}],\"scatterpolar\":[{\"type\":\"scatterpolar\",\"marker\":{\"colorbar\":{\"outlinewidth\":0,\"ticks\":\"\"}}}],\"histogram\":[{\"marker\":{\"pattern\":{\"fillmode\":\"overlay\",\"size\":10,\"solidity\":0.2}},\"type\":\"histogram\"}],\"scattergl\":[{\"type\":\"scattergl\",\"marker\":{\"colorbar\":{\"outlinewidth\":0,\"ticks\":\"\"}}}],\"scatter3d\":[{\"type\":\"scatter3d\",\"line\":{\"colorbar\":{\"outlinewidth\":0,\"ticks\":\"\"}},\"marker\":{\"colorbar\":{\"outlinewidth\":0,\"ticks\":\"\"}}}],\"scattermapbox\":[{\"type\":\"scattermapbox\",\"marker\":{\"colorbar\":{\"outlinewidth\":0,\"ticks\":\"\"}}}],\"scatterternary\":[{\"type\":\"scatterternary\",\"marker\":{\"colorbar\":{\"outlinewidth\":0,\"ticks\":\"\"}}}],\"scattercarpet\":[{\"type\":\"scattercarpet\",\"marker\":{\"colorbar\":{\"outlinewidth\":0,\"ticks\":\"\"}}}],\"carpet\":[{\"aaxis\":{\"endlinecolor\":\"#2a3f5f\",\"gridcolor\":\"white\",\"linecolor\":\"white\",\"minorgridcolor\":\"white\",\"startlinecolor\":\"#2a3f5f\"},\"baxis\":{\"endlinecolor\":\"#2a3f5f\",\"gridcolor\":\"white\",\"linecolor\":\"white\",\"minorgridcolor\":\"white\",\"startlinecolor\":\"#2a3f5f\"},\"type\":\"carpet\"}],\"table\":[{\"cells\":{\"fill\":{\"color\":\"#EBF0F8\"},\"line\":{\"color\":\"white\"}},\"header\":{\"fill\":{\"color\":\"#C8D4E3\"},\"line\":{\"color\":\"white\"}},\"type\":\"table\"}],\"barpolar\":[{\"marker\":{\"line\":{\"color\":\"#E5ECF6\",\"width\":0.5},\"pattern\":{\"fillmode\":\"overlay\",\"size\":10,\"solidity\":0.2}},\"type\":\"barpolar\"}],\"pie\":[{\"automargin\":true,\"type\":\"pie\"}]},\"layout\":{\"autotypenumbers\":\"strict\",\"colorway\":[\"#636efa\",\"#EF553B\",\"#00cc96\",\"#ab63fa\",\"#FFA15A\",\"#19d3f3\",\"#FF6692\",\"#B6E880\",\"#FF97FF\",\"#FECB52\"],\"font\":{\"color\":\"#2a3f5f\"},\"hovermode\":\"closest\",\"hoverlabel\":{\"align\":\"left\"},\"paper_bgcolor\":\"white\",\"plot_bgcolor\":\"#E5ECF6\",\"polar\":{\"bgcolor\":\"#E5ECF6\",\"angularaxis\":{\"gridcolor\":\"white\",\"linecolor\":\"white\",\"ticks\":\"\"},\"radialaxis\":{\"gridcolor\":\"white\",\"linecolor\":\"white\",\"ticks\":\"\"}},\"ternary\":{\"bgcolor\":\"#E5ECF6\",\"aaxis\":{\"gridcolor\":\"white\",\"linecolor\":\"white\",\"ticks\":\"\"},\"baxis\":{\"gridcolor\":\"white\",\"linecolor\":\"white\",\"ticks\":\"\"},\"caxis\":{\"gridcolor\":\"white\",\"linecolor\":\"white\",\"ticks\":\"\"}},\"coloraxis\":{\"colorbar\":{\"outlinewidth\":0,\"ticks\":\"\"}},\"colorscale\":{\"sequential\":[[0.0,\"#0d0887\"],[0.1111111111111111,\"#46039f\"],[0.2222222222222222,\"#7201a8\"],[0.3333333333333333,\"#9c179e\"],[0.4444444444444444,\"#bd3786\"],[0.5555555555555556,\"#d8576b\"],[0.6666666666666666,\"#ed7953\"],[0.7777777777777778,\"#fb9f3a\"],[0.8888888888888888,\"#fdca26\"],[1.0,\"#f0f921\"]],\"sequentialminus\":[[0.0,\"#0d0887\"],[0.1111111111111111,\"#46039f\"],[0.2222222222222222,\"#7201a8\"],[0.3333333333333333,\"#9c179e\"],[0.4444444444444444,\"#bd3786\"],[0.5555555555555556,\"#d8576b\"],[0.6666666666666666,\"#ed7953\"],[0.7777777777777778,\"#fb9f3a\"],[0.8888888888888888,\"#fdca26\"],[1.0,\"#f0f921\"]],\"diverging\":[[0,\"#8e0152\"],[0.1,\"#c51b7d\"],[0.2,\"#de77ae\"],[0.3,\"#f1b6da\"],[0.4,\"#fde0ef\"],[0.5,\"#f7f7f7\"],[0.6,\"#e6f5d0\"],[0.7,\"#b8e186\"],[0.8,\"#7fbc41\"],[0.9,\"#4d9221\"],[1,\"#276419\"]]},\"xaxis\":{\"gridcolor\":\"white\",\"linecolor\":\"white\",\"ticks\":\"\",\"title\":{\"standoff\":15},\"zerolinecolor\":\"white\",\"automargin\":true,\"zerolinewidth\":2},\"yaxis\":{\"gridcolor\":\"white\",\"linecolor\":\"white\",\"ticks\":\"\",\"title\":{\"standoff\":15},\"zerolinecolor\":\"white\",\"automargin\":true,\"zerolinewidth\":2},\"scene\":{\"xaxis\":{\"backgroundcolor\":\"#E5ECF6\",\"gridcolor\":\"white\",\"linecolor\":\"white\",\"showbackground\":true,\"ticks\":\"\",\"zerolinecolor\":\"white\",\"gridwidth\":2},\"yaxis\":{\"backgroundcolor\":\"#E5ECF6\",\"gridcolor\":\"white\",\"linecolor\":\"white\",\"showbackground\":true,\"ticks\":\"\",\"zerolinecolor\":\"white\",\"gridwidth\":2},\"zaxis\":{\"backgroundcolor\":\"#E5ECF6\",\"gridcolor\":\"white\",\"linecolor\":\"white\",\"showbackground\":true,\"ticks\":\"\",\"zerolinecolor\":\"white\",\"gridwidth\":2}},\"shapedefaults\":{\"line\":{\"color\":\"#2a3f5f\"}},\"annotationdefaults\":{\"arrowcolor\":\"#2a3f5f\",\"arrowhead\":0,\"arrowwidth\":1},\"geo\":{\"bgcolor\":\"white\",\"landcolor\":\"#E5ECF6\",\"subunitcolor\":\"white\",\"showland\":true,\"showlakes\":true,\"lakecolor\":\"white\"},\"title\":{\"x\":0.05},\"mapbox\":{\"style\":\"light\"}}},\"xaxis\":{\"title\":{\"text\":\"x\"},\"range\":[0,1]},\"yaxis\":{\"title\":{\"text\":\"y\"}},\"title\":{\"text\":\"Example of beta distributions\"},\"height\":480,\"width\":720},                        {\"responsive\": true}                    ).then(function(){\n",
       "                            \n",
       "var gd = document.getElementById('08d22b52-4ec1-4dfc-8d97-93f45b7bbf60');\n",
       "var x = new MutationObserver(function (mutations, observer) {{\n",
       "        var display = window.getComputedStyle(gd).display;\n",
       "        if (!display || display === 'none') {{\n",
       "            console.log([gd, 'removed!']);\n",
       "            Plotly.purge(gd);\n",
       "            observer.disconnect();\n",
       "        }}\n",
       "}});\n",
       "\n",
       "// Listen for the removal of the full notebook cells\n",
       "var notebookContainer = gd.closest('#notebook-container');\n",
       "if (notebookContainer) {{\n",
       "    x.observe(notebookContainer, {childList: true});\n",
       "}}\n",
       "\n",
       "// Listen for the clearing of the current output cell\n",
       "var outputEl = gd.closest('.output');\n",
       "if (outputEl) {{\n",
       "    x.observe(outputEl, {childList: true});\n",
       "}}\n",
       "\n",
       "                        })                };                });            </script>        </div>"
      ]
     },
     "metadata": {},
     "output_type": "display_data"
    }
   ],
   "source": [
    "fig = go.Figure()\n",
    "\n",
    "fig.add_trace(\n",
    "    go.Scatter(\n",
    "        x=xs,\n",
    "        y=[beta_pdf(x, 1, 1) for x in xs],\n",
    "        mode=\"lines+markers\",\n",
    "        name=\"alpha=1, beta=1\",\n",
    "    )\n",
    ")\n",
    "fig.add_trace(\n",
    "    go.Scatter(\n",
    "        x=xs,\n",
    "        y=[beta_pdf(x, 10, 10) for x in xs],\n",
    "        mode=\"lines+markers\",\n",
    "        name=\"alpha=10, beta=10\",\n",
    "    )\n",
    ")\n",
    "fig.add_trace(\n",
    "    go.Scatter(\n",
    "        x=xs,\n",
    "        y=[beta_pdf(x, 4, 16) for x in xs],\n",
    "        mode=\"lines+markers\",\n",
    "        name=\"alpha=4, beta=16\",\n",
    "    )\n",
    ")\n",
    "fig.add_trace(\n",
    "    go.Scatter(\n",
    "        x=xs,\n",
    "        y=[beta_pdf(x, 16, 4) for x in xs],\n",
    "        mode=\"lines+markers\",\n",
    "        name=\"alpha=16, beta=4\",\n",
    "    )\n",
    ")\n",
    "\n",
    "fig.update_xaxes(title_text=\"x\", range=[0, 1])\n",
    "fig.update_yaxes(title_text=\"y\")\n",
    "\n",
    "fig.update_layout(height=480, width=720, title_text=\"Example of beta distributions\")\n",
    "\n",
    "fig.show()"
   ]
  },
  {
   "cell_type": "markdown",
   "id": "32d3cd6a-183c-4c78-8a96-71324cbea123",
   "metadata": {},
   "source": [
    "If alpha and beta are both equal to 1, then this is a uniform distribution.<br>\n",
    "If alpha is much larger than beta, then most of the weight is around 1.<br>\n",
    "If alpha is much smaller than beta, then most of the weight is around 0."
   ]
  },
  {
   "cell_type": "code",
   "execution_count": 84,
   "id": "43426725-9496-4c25-b09a-81893148a5f6",
   "metadata": {},
   "outputs": [
    {
     "data": {
      "application/vnd.plotly.v1+json": {
       "config": {
        "plotlyServerURL": "https://plot.ly"
       },
       "data": [
        {
         "mode": "lines+markers",
         "name": "alpha=4, beta=8",
         "type": "scatter",
         "x": [
          -1,
          -0.99,
          -0.98,
          -0.97,
          -0.96,
          -0.95,
          -0.94,
          -0.93,
          -0.92,
          -0.91,
          -0.9,
          -0.89,
          -0.88,
          -0.87,
          -0.86,
          -0.85,
          -0.84,
          -0.83,
          -0.82,
          -0.81,
          -0.8,
          -0.79,
          -0.78,
          -0.77,
          -0.76,
          -0.75,
          -0.74,
          -0.73,
          -0.72,
          -0.71,
          -0.7,
          -0.69,
          -0.68,
          -0.67,
          -0.66,
          -0.65,
          -0.64,
          -0.63,
          -0.62,
          -0.61,
          -0.6,
          -0.59,
          -0.58,
          -0.57,
          -0.56,
          -0.55,
          -0.54,
          -0.53,
          -0.52,
          -0.51,
          -0.5,
          -0.49,
          -0.48,
          -0.47,
          -0.46,
          -0.45,
          -0.44,
          -0.43,
          -0.42,
          -0.41,
          -0.4,
          -0.39,
          -0.38,
          -0.37,
          -0.36,
          -0.35,
          -0.34,
          -0.33,
          -0.32,
          -0.31,
          -0.3,
          -0.29,
          -0.28,
          -0.27,
          -0.26,
          -0.25,
          -0.24,
          -0.23,
          -0.22,
          -0.21,
          -0.2,
          -0.19,
          -0.18,
          -0.17,
          -0.16,
          -0.15,
          -0.14,
          -0.13,
          -0.12,
          -0.11,
          -0.1,
          -0.09,
          -0.08,
          -0.07,
          -0.06,
          -0.05,
          -0.04,
          -0.03,
          -0.02,
          -0.01,
          0,
          0.01,
          0.02,
          0.03,
          0.04,
          0.05,
          0.06,
          0.07,
          0.08,
          0.09,
          0.1,
          0.11,
          0.12,
          0.13,
          0.14,
          0.15,
          0.16,
          0.17,
          0.18,
          0.19,
          0.2,
          0.21,
          0.22,
          0.23,
          0.24,
          0.25,
          0.26,
          0.27,
          0.28,
          0.29,
          0.3,
          0.31,
          0.32,
          0.33,
          0.34,
          0.35,
          0.36,
          0.37,
          0.38,
          0.39,
          0.4,
          0.41,
          0.42,
          0.43,
          0.44,
          0.45,
          0.46,
          0.47,
          0.48,
          0.49,
          0.5,
          0.51,
          0.52,
          0.53,
          0.54,
          0.55,
          0.56,
          0.57,
          0.58,
          0.59,
          0.6,
          0.61,
          0.62,
          0.63,
          0.64,
          0.65,
          0.66,
          0.67,
          0.68,
          0.69,
          0.7,
          0.71,
          0.72,
          0.73,
          0.74,
          0.75,
          0.76,
          0.77,
          0.78,
          0.79,
          0.8,
          0.81,
          0.82,
          0.83,
          0.84,
          0.85,
          0.86,
          0.87,
          0.88,
          0.89,
          0.9,
          0.91,
          0.92,
          0.93,
          0.94,
          0.95,
          0.96,
          0.97,
          0.98,
          0.99
         ],
         "y": [
          0,
          0,
          0,
          0,
          0,
          0,
          0,
          0,
          0,
          0,
          0,
          0,
          0,
          0,
          0,
          0,
          0,
          0,
          0,
          0,
          0,
          0,
          0,
          0,
          0,
          0,
          0,
          0,
          0,
          0,
          0,
          0,
          0,
          0,
          0,
          0,
          0,
          0,
          0,
          0,
          0,
          0,
          0,
          0,
          0,
          0,
          0,
          0,
          0,
          0,
          0,
          0,
          0,
          0,
          0,
          0,
          0,
          0,
          0,
          0,
          0,
          0,
          0,
          0,
          0,
          0,
          0,
          0,
          0,
          0,
          0,
          0,
          0,
          0,
          0,
          0,
          0,
          0,
          0,
          0,
          0,
          0,
          0,
          0,
          0,
          0,
          0,
          0,
          0,
          0,
          0,
          0,
          0,
          0,
          0,
          0,
          0,
          0,
          0,
          0,
          0,
          0.0012303262592372269,
          0.009167405631085363,
          0.028796508587999464,
          0.06348228295057735,
          0.11522565385546873,
          0.1848939316562054,
          0.27242608617628333,
          0.37701504697966287,
          0.4972687937071523,
          0.6313519080000003,
          0.7771091690465282,
          0.9321726882959326,
          1.0940539953375021,
          1.2602224062956067,
          1.428170928292968,
          1.595470878539042,
          1.759816324358894,
          1.9190593809429377,
          2.0712373367212242,
          2.214592512000001,
          2.347585694794805,
          2.4689039386057594,
          2.5774634501589664,
          2.672408240835055,
          2.7531051635742188,
          2.819135907438442,
          2.8702864746782986,
          2.906534620045718,
          2.928035689167573,
          2.9351072519999986,
          2.9282128886719994,
          2.9079454483514118,
          2.875010067078501,
          2.830207197764824,
          2.774415874699219,
          2.7085774058913006,
          2.6336796593675835,
          2.550742084068359,
          2.460801582227072,
          2.364899328,
          2.2640686066047775,
          2.159323729273823,
          2.051650061885107,
          1.9419951891499463,
          1.83126122166797,
          1.7202982399548354,
          1.609898857661119,
          1.5007938755828907,
          1.3936489886680983,
          1.2890625,
          1.1875639886417038,
          1.089613872206394,
          0.9956038000282443,
          0.9058578088013546,
          0.8206341694804685,
          0.7401278520497796,
          0.6644735334169505,
          0.5937490731306261,
          0.5279793818033581,
          0.4671406080000001,
          0.4111645708764805,
          0.35994336797741755,
          0.3133340902754733,
          0.27116357971272004,
          0.23323316813671865,
          0.1993233405635923,
          0.16919827009920704,
          0.14261017655975594,
          0.1193034658066747,
          0.09901861200000008,
          0.08149575033112264,
          0.06647795327246013,
          0.053714168930023176,
          0.0429618056572244,
          0.03398895263671875,
          0.026576231613648072,
          0.0205182803204973,
          0.015624873322953512,
          0.011721690989792494,
          0.008650751999999989,
          0.006270529199165855,
          0.0044557726567698505,
          0.0030970674084061984,
          0.0021001565443719192,
          0.0013850629804687512,
          0.0008850453704429573,
          0.0005454251443086733,
          0.0003223225349701631,
          0.00018133963917562666,
          9.622799999999988e-05,
          4.7576848866346694e-05,
          2.1555957674803127e-05,
          8.743978014433158e-06,
          3.0691367866368186e-06,
          8.841679687500053e-07,
          1.9134079303680113e-07,
          2.6347409233200163e-08,
          1.5902380032000097e-09,
          1.280794680000008e-11
         ]
        },
        {
         "mode": "lines+markers",
         "name": "alpha=23, beta=27",
         "type": "scatter",
         "x": [
          -1,
          -0.99,
          -0.98,
          -0.97,
          -0.96,
          -0.95,
          -0.94,
          -0.93,
          -0.92,
          -0.91,
          -0.9,
          -0.89,
          -0.88,
          -0.87,
          -0.86,
          -0.85,
          -0.84,
          -0.83,
          -0.82,
          -0.81,
          -0.8,
          -0.79,
          -0.78,
          -0.77,
          -0.76,
          -0.75,
          -0.74,
          -0.73,
          -0.72,
          -0.71,
          -0.7,
          -0.69,
          -0.68,
          -0.67,
          -0.66,
          -0.65,
          -0.64,
          -0.63,
          -0.62,
          -0.61,
          -0.6,
          -0.59,
          -0.58,
          -0.57,
          -0.56,
          -0.55,
          -0.54,
          -0.53,
          -0.52,
          -0.51,
          -0.5,
          -0.49,
          -0.48,
          -0.47,
          -0.46,
          -0.45,
          -0.44,
          -0.43,
          -0.42,
          -0.41,
          -0.4,
          -0.39,
          -0.38,
          -0.37,
          -0.36,
          -0.35,
          -0.34,
          -0.33,
          -0.32,
          -0.31,
          -0.3,
          -0.29,
          -0.28,
          -0.27,
          -0.26,
          -0.25,
          -0.24,
          -0.23,
          -0.22,
          -0.21,
          -0.2,
          -0.19,
          -0.18,
          -0.17,
          -0.16,
          -0.15,
          -0.14,
          -0.13,
          -0.12,
          -0.11,
          -0.1,
          -0.09,
          -0.08,
          -0.07,
          -0.06,
          -0.05,
          -0.04,
          -0.03,
          -0.02,
          -0.01,
          0,
          0.01,
          0.02,
          0.03,
          0.04,
          0.05,
          0.06,
          0.07,
          0.08,
          0.09,
          0.1,
          0.11,
          0.12,
          0.13,
          0.14,
          0.15,
          0.16,
          0.17,
          0.18,
          0.19,
          0.2,
          0.21,
          0.22,
          0.23,
          0.24,
          0.25,
          0.26,
          0.27,
          0.28,
          0.29,
          0.3,
          0.31,
          0.32,
          0.33,
          0.34,
          0.35,
          0.36,
          0.37,
          0.38,
          0.39,
          0.4,
          0.41,
          0.42,
          0.43,
          0.44,
          0.45,
          0.46,
          0.47,
          0.48,
          0.49,
          0.5,
          0.51,
          0.52,
          0.53,
          0.54,
          0.55,
          0.56,
          0.57,
          0.58,
          0.59,
          0.6,
          0.61,
          0.62,
          0.63,
          0.64,
          0.65,
          0.66,
          0.67,
          0.68,
          0.69,
          0.7,
          0.71,
          0.72,
          0.73,
          0.74,
          0.75,
          0.76,
          0.77,
          0.78,
          0.79,
          0.8,
          0.81,
          0.82,
          0.83,
          0.84,
          0.85,
          0.86,
          0.87,
          0.88,
          0.89,
          0.9,
          0.91,
          0.92,
          0.93,
          0.94,
          0.95,
          0.96,
          0.97,
          0.98,
          0.99
         ],
         "y": [
          0,
          0,
          0,
          0,
          0,
          0,
          0,
          0,
          0,
          0,
          0,
          0,
          0,
          0,
          0,
          0,
          0,
          0,
          0,
          0,
          0,
          0,
          0,
          0,
          0,
          0,
          0,
          0,
          0,
          0,
          0,
          0,
          0,
          0,
          0,
          0,
          0,
          0,
          0,
          0,
          0,
          0,
          0,
          0,
          0,
          0,
          0,
          0,
          0,
          0,
          0,
          0,
          0,
          0,
          0,
          0,
          0,
          0,
          0,
          0,
          0,
          0,
          0,
          0,
          0,
          0,
          0,
          0,
          0,
          0,
          0,
          0,
          0,
          0,
          0,
          0,
          0,
          0,
          0,
          0,
          0,
          0,
          0,
          0,
          0,
          0,
          0,
          0,
          0,
          0,
          0,
          0,
          0,
          0,
          0,
          0,
          0,
          0,
          0,
          0,
          0,
          1.0333187464720023e-29,
          3.328565607503069e-23,
          1.9074446462519528e-19,
          8.167537123710209e-17,
          8.430883376585244e-15,
          3.534849686832271e-13,
          7.951202087490126e-12,
          1.1328762539328616e-10,
          1.1379695909483623e-09,
          8.670107740064215e-09,
          5.278353777988588e-08,
          2.6684319861790824e-07,
          1.1533830578518535e-06,
          4.360093134124118e-06,
          1.4676382322812906e-05,
          4.462932361978903e-05,
          0.00012405832724167695,
          0.0003183277672654495,
          0.0007601669096957921,
          0.0017010567996455623,
          0.003587964245480893,
          0.007169318869894884,
          0.013629831779442408,
          0.024746852276048496,
          0.04305189653341838,
          0.07197101329598922,
          0.11590880371229656,
          0.18023571163842914,
          0.2711391744306044,
          0.39530826367851796,
          0.5594391719554321,
          0.7695742048892078,
          1.0303168357939263,
          1.3439952936171697,
          1.7098715934287811,
          2.123506473911522,
          2.5763891655946876,
          3.0559222561284733,
          3.5458169665356105,
          4.026906705522662,
          4.4783331619180045,
          4.879007326734336,
          5.209205844332609,
          5.4521379240450445,
          5.595314197762655,
          5.631567595327694,
          5.559615193447224,
          5.384103572075776,
          5.115140745979393,
          4.767376562145216,
          4.358742406554182,
          3.9089937912035033,
          3.438212274609841,
          2.965415742187923,
          2.5074008914364225,
          2.077903773061829,
          1.6871197861586162,
          1.3415802543976425,
          1.04434449002176,
          0.7954383615847237,
          0.5924550447227519,
          0.4312309566765875,
          0.3065181266544178,
          0.2125904232076033,
          0.1437415250104164,
          0.09465371716851266,
          0.06063555333827675,
          0.03774111832025711,
          0.0227930941703384,
          0.013336097191986716,
          0.007546591916939823,
          0.004122332186822403,
          0.002169102324107561,
          0.0010967916367626627,
          0.000531504895474301,
          0.0002460994049290509,
          0.00010850229870556378,
          4.537223883130395e-05,
          1.7915004449550873e-05,
          6.644753123615429e-06,
          2.3013532630851155e-06,
          7.391100949544647e-07,
          2.1832789974917467e-07,
          5.874664798446144e-08,
          1.4233390023441421e-08,
          3.0620628738063463e-09,
          5.750028092333425e-10,
          9.226785690889693e-11,
          1.2317121038684395e-11,
          1.3214613229788376e-12,
          1.0887674418381577e-13,
          6.47725675041382e-15,
          2.5520733795051846e-16,
          5.8676545584316035e-18,
          6.469320659437413e-20,
          2.4617624914732817e-22,
          1.745219373761907e-25,
          5.773947110235278e-30,
          1.0757058489885106e-37
         ]
        },
        {
         "mode": "lines+markers",
         "name": "alpha=33, beta=17",
         "type": "scatter",
         "x": [
          -1,
          -0.99,
          -0.98,
          -0.97,
          -0.96,
          -0.95,
          -0.94,
          -0.93,
          -0.92,
          -0.91,
          -0.9,
          -0.89,
          -0.88,
          -0.87,
          -0.86,
          -0.85,
          -0.84,
          -0.83,
          -0.82,
          -0.81,
          -0.8,
          -0.79,
          -0.78,
          -0.77,
          -0.76,
          -0.75,
          -0.74,
          -0.73,
          -0.72,
          -0.71,
          -0.7,
          -0.69,
          -0.68,
          -0.67,
          -0.66,
          -0.65,
          -0.64,
          -0.63,
          -0.62,
          -0.61,
          -0.6,
          -0.59,
          -0.58,
          -0.57,
          -0.56,
          -0.55,
          -0.54,
          -0.53,
          -0.52,
          -0.51,
          -0.5,
          -0.49,
          -0.48,
          -0.47,
          -0.46,
          -0.45,
          -0.44,
          -0.43,
          -0.42,
          -0.41,
          -0.4,
          -0.39,
          -0.38,
          -0.37,
          -0.36,
          -0.35,
          -0.34,
          -0.33,
          -0.32,
          -0.31,
          -0.3,
          -0.29,
          -0.28,
          -0.27,
          -0.26,
          -0.25,
          -0.24,
          -0.23,
          -0.22,
          -0.21,
          -0.2,
          -0.19,
          -0.18,
          -0.17,
          -0.16,
          -0.15,
          -0.14,
          -0.13,
          -0.12,
          -0.11,
          -0.1,
          -0.09,
          -0.08,
          -0.07,
          -0.06,
          -0.05,
          -0.04,
          -0.03,
          -0.02,
          -0.01,
          0,
          0.01,
          0.02,
          0.03,
          0.04,
          0.05,
          0.06,
          0.07,
          0.08,
          0.09,
          0.1,
          0.11,
          0.12,
          0.13,
          0.14,
          0.15,
          0.16,
          0.17,
          0.18,
          0.19,
          0.2,
          0.21,
          0.22,
          0.23,
          0.24,
          0.25,
          0.26,
          0.27,
          0.28,
          0.29,
          0.3,
          0.31,
          0.32,
          0.33,
          0.34,
          0.35,
          0.36,
          0.37,
          0.38,
          0.39,
          0.4,
          0.41,
          0.42,
          0.43,
          0.44,
          0.45,
          0.46,
          0.47,
          0.48,
          0.49,
          0.5,
          0.51,
          0.52,
          0.53,
          0.54,
          0.55,
          0.56,
          0.57,
          0.58,
          0.59,
          0.6,
          0.61,
          0.62,
          0.63,
          0.64,
          0.65,
          0.66,
          0.67,
          0.68,
          0.69,
          0.7,
          0.71,
          0.72,
          0.73,
          0.74,
          0.75,
          0.76,
          0.77,
          0.78,
          0.79,
          0.8,
          0.81,
          0.82,
          0.83,
          0.84,
          0.85,
          0.86,
          0.87,
          0.88,
          0.89,
          0.9,
          0.91,
          0.92,
          0.93,
          0.94,
          0.95,
          0.96,
          0.97,
          0.98,
          0.99
         ],
         "y": [
          0,
          0,
          0,
          0,
          0,
          0,
          0,
          0,
          0,
          0,
          0,
          0,
          0,
          0,
          0,
          0,
          0,
          0,
          0,
          0,
          0,
          0,
          0,
          0,
          0,
          0,
          0,
          0,
          0,
          0,
          0,
          0,
          0,
          0,
          0,
          0,
          0,
          0,
          0,
          0,
          0,
          0,
          0,
          0,
          0,
          0,
          0,
          0,
          0,
          0,
          0,
          0,
          0,
          0,
          0,
          0,
          0,
          0,
          0,
          0,
          0,
          0,
          0,
          0,
          0,
          0,
          0,
          0,
          0,
          0,
          0,
          0,
          0,
          0,
          0,
          0,
          0,
          0,
          0,
          0,
          0,
          0,
          0,
          0,
          0,
          0,
          0,
          0,
          0,
          0,
          0,
          0,
          0,
          0,
          0,
          0,
          0,
          0,
          0,
          0,
          0,
          9.407552287830927e-51,
          3.434714152739101e-41,
          1.257596808533696e-35,
          1.0606521543115924e-31,
          1.1322213777608443e-28,
          3.267376620443188e-26,
          3.821008331070058e-24,
          2.3056763693447916e-22,
          8.389500542605648e-21,
          2.0473574743012848e-19,
          3.615093702972299e-18,
          4.8846804190606565e-17,
          5.269978494832696e-16,
          4.692301276351331e-15,
          3.5394569016153504e-14,
          2.3100508997376327e-13,
          1.3271759079548615e-12,
          6.808560936158176e-12,
          3.1563783789728845e-11,
          1.3357130848085525e-10,
          5.204325117736817e-10,
          1.880844782236409e-09,
          6.3453543901550316e-09,
          2.0095126226769056e-08,
          6.00307845231998e-08,
          1.6989014148912635e-07,
          4.5721423389053376e-07,
          1.174060489727677e-06,
          2.885247275156471e-06,
          6.803968879460796e-06,
          1.5433811146571684e-05,
          3.374857476001681e-05,
          7.127815449240765e-05,
          0.00014566051505980786,
          0.00028847265574506286,
          0.0005544637214966268,
          0.0010356606814004138,
          0.0018821561494409402,
          0.0033316418769611246,
          0.005749806849780302,
          0.009683428018421912,
          0.015927173720619074,
          0.025603644976628533,
          0.040253866962394934,
          0.06193227021722002,
          0.09329627372177474,
          0.13767620770556954,
          0.19910704248828448,
          0.28230001794658705,
          0.39253079637796506,
          0.5354222846497261,
          0.7166058044577136,
          0.9412545345935461,
          1.2134982336532227,
          1.535747480486057,
          1.907977352005846,
          2.3270418728876687,
          2.7861081306099442,
          3.274308589119938,
          3.7767079355832083,
          4.274663767169588,
          4.746627347674601,
          5.1693828165836955,
          5.519664831575476,
          5.776032782481494,
          5.920823804765585,
          5.94196722196825,
          5.834429373150367,
          5.601076859509031,
          5.252800216045425,
          4.807825014070207,
          4.290243228864857,
          3.727908787078237,
          3.149938874088323,
          2.5841284327813,
          2.0546050330580576,
          1.5800182710142254,
          1.1724753111413946,
          0.8373155647244097,
          0.5736844016091982,
          0.3757437337637868,
          0.23427011201739184,
          0.13835511681173113,
          0.07694322825479301,
          0.04001098978599518,
          0.019289125464111604,
          0.00853145782078641,
          0.0034171101059894066,
          0.0012192049084543196,
          0.0003793794733676976,
          0.00010011939868511034,
          2.1575645321400913e-05,
          3.6002820170896567e-06,
          4.303530136916695e-07,
          3.265795346728213e-08,
          1.2851471154893625e-09,
          1.7945232906934957e-11,
          3.793393363402374e-14,
          8.010133502455125e-19
         ]
        }
       ],
       "layout": {
        "height": 480,
        "template": {
         "data": {
          "bar": [
           {
            "error_x": {
             "color": "#2a3f5f"
            },
            "error_y": {
             "color": "#2a3f5f"
            },
            "marker": {
             "line": {
              "color": "#E5ECF6",
              "width": 0.5
             },
             "pattern": {
              "fillmode": "overlay",
              "size": 10,
              "solidity": 0.2
             }
            },
            "type": "bar"
           }
          ],
          "barpolar": [
           {
            "marker": {
             "line": {
              "color": "#E5ECF6",
              "width": 0.5
             },
             "pattern": {
              "fillmode": "overlay",
              "size": 10,
              "solidity": 0.2
             }
            },
            "type": "barpolar"
           }
          ],
          "carpet": [
           {
            "aaxis": {
             "endlinecolor": "#2a3f5f",
             "gridcolor": "white",
             "linecolor": "white",
             "minorgridcolor": "white",
             "startlinecolor": "#2a3f5f"
            },
            "baxis": {
             "endlinecolor": "#2a3f5f",
             "gridcolor": "white",
             "linecolor": "white",
             "minorgridcolor": "white",
             "startlinecolor": "#2a3f5f"
            },
            "type": "carpet"
           }
          ],
          "choropleth": [
           {
            "colorbar": {
             "outlinewidth": 0,
             "ticks": ""
            },
            "type": "choropleth"
           }
          ],
          "contour": [
           {
            "colorbar": {
             "outlinewidth": 0,
             "ticks": ""
            },
            "colorscale": [
             [
              0,
              "#0d0887"
             ],
             [
              0.1111111111111111,
              "#46039f"
             ],
             [
              0.2222222222222222,
              "#7201a8"
             ],
             [
              0.3333333333333333,
              "#9c179e"
             ],
             [
              0.4444444444444444,
              "#bd3786"
             ],
             [
              0.5555555555555556,
              "#d8576b"
             ],
             [
              0.6666666666666666,
              "#ed7953"
             ],
             [
              0.7777777777777778,
              "#fb9f3a"
             ],
             [
              0.8888888888888888,
              "#fdca26"
             ],
             [
              1,
              "#f0f921"
             ]
            ],
            "type": "contour"
           }
          ],
          "contourcarpet": [
           {
            "colorbar": {
             "outlinewidth": 0,
             "ticks": ""
            },
            "type": "contourcarpet"
           }
          ],
          "heatmap": [
           {
            "colorbar": {
             "outlinewidth": 0,
             "ticks": ""
            },
            "colorscale": [
             [
              0,
              "#0d0887"
             ],
             [
              0.1111111111111111,
              "#46039f"
             ],
             [
              0.2222222222222222,
              "#7201a8"
             ],
             [
              0.3333333333333333,
              "#9c179e"
             ],
             [
              0.4444444444444444,
              "#bd3786"
             ],
             [
              0.5555555555555556,
              "#d8576b"
             ],
             [
              0.6666666666666666,
              "#ed7953"
             ],
             [
              0.7777777777777778,
              "#fb9f3a"
             ],
             [
              0.8888888888888888,
              "#fdca26"
             ],
             [
              1,
              "#f0f921"
             ]
            ],
            "type": "heatmap"
           }
          ],
          "heatmapgl": [
           {
            "colorbar": {
             "outlinewidth": 0,
             "ticks": ""
            },
            "colorscale": [
             [
              0,
              "#0d0887"
             ],
             [
              0.1111111111111111,
              "#46039f"
             ],
             [
              0.2222222222222222,
              "#7201a8"
             ],
             [
              0.3333333333333333,
              "#9c179e"
             ],
             [
              0.4444444444444444,
              "#bd3786"
             ],
             [
              0.5555555555555556,
              "#d8576b"
             ],
             [
              0.6666666666666666,
              "#ed7953"
             ],
             [
              0.7777777777777778,
              "#fb9f3a"
             ],
             [
              0.8888888888888888,
              "#fdca26"
             ],
             [
              1,
              "#f0f921"
             ]
            ],
            "type": "heatmapgl"
           }
          ],
          "histogram": [
           {
            "marker": {
             "pattern": {
              "fillmode": "overlay",
              "size": 10,
              "solidity": 0.2
             }
            },
            "type": "histogram"
           }
          ],
          "histogram2d": [
           {
            "colorbar": {
             "outlinewidth": 0,
             "ticks": ""
            },
            "colorscale": [
             [
              0,
              "#0d0887"
             ],
             [
              0.1111111111111111,
              "#46039f"
             ],
             [
              0.2222222222222222,
              "#7201a8"
             ],
             [
              0.3333333333333333,
              "#9c179e"
             ],
             [
              0.4444444444444444,
              "#bd3786"
             ],
             [
              0.5555555555555556,
              "#d8576b"
             ],
             [
              0.6666666666666666,
              "#ed7953"
             ],
             [
              0.7777777777777778,
              "#fb9f3a"
             ],
             [
              0.8888888888888888,
              "#fdca26"
             ],
             [
              1,
              "#f0f921"
             ]
            ],
            "type": "histogram2d"
           }
          ],
          "histogram2dcontour": [
           {
            "colorbar": {
             "outlinewidth": 0,
             "ticks": ""
            },
            "colorscale": [
             [
              0,
              "#0d0887"
             ],
             [
              0.1111111111111111,
              "#46039f"
             ],
             [
              0.2222222222222222,
              "#7201a8"
             ],
             [
              0.3333333333333333,
              "#9c179e"
             ],
             [
              0.4444444444444444,
              "#bd3786"
             ],
             [
              0.5555555555555556,
              "#d8576b"
             ],
             [
              0.6666666666666666,
              "#ed7953"
             ],
             [
              0.7777777777777778,
              "#fb9f3a"
             ],
             [
              0.8888888888888888,
              "#fdca26"
             ],
             [
              1,
              "#f0f921"
             ]
            ],
            "type": "histogram2dcontour"
           }
          ],
          "mesh3d": [
           {
            "colorbar": {
             "outlinewidth": 0,
             "ticks": ""
            },
            "type": "mesh3d"
           }
          ],
          "parcoords": [
           {
            "line": {
             "colorbar": {
              "outlinewidth": 0,
              "ticks": ""
             }
            },
            "type": "parcoords"
           }
          ],
          "pie": [
           {
            "automargin": true,
            "type": "pie"
           }
          ],
          "scatter": [
           {
            "fillpattern": {
             "fillmode": "overlay",
             "size": 10,
             "solidity": 0.2
            },
            "type": "scatter"
           }
          ],
          "scatter3d": [
           {
            "line": {
             "colorbar": {
              "outlinewidth": 0,
              "ticks": ""
             }
            },
            "marker": {
             "colorbar": {
              "outlinewidth": 0,
              "ticks": ""
             }
            },
            "type": "scatter3d"
           }
          ],
          "scattercarpet": [
           {
            "marker": {
             "colorbar": {
              "outlinewidth": 0,
              "ticks": ""
             }
            },
            "type": "scattercarpet"
           }
          ],
          "scattergeo": [
           {
            "marker": {
             "colorbar": {
              "outlinewidth": 0,
              "ticks": ""
             }
            },
            "type": "scattergeo"
           }
          ],
          "scattergl": [
           {
            "marker": {
             "colorbar": {
              "outlinewidth": 0,
              "ticks": ""
             }
            },
            "type": "scattergl"
           }
          ],
          "scattermapbox": [
           {
            "marker": {
             "colorbar": {
              "outlinewidth": 0,
              "ticks": ""
             }
            },
            "type": "scattermapbox"
           }
          ],
          "scatterpolar": [
           {
            "marker": {
             "colorbar": {
              "outlinewidth": 0,
              "ticks": ""
             }
            },
            "type": "scatterpolar"
           }
          ],
          "scatterpolargl": [
           {
            "marker": {
             "colorbar": {
              "outlinewidth": 0,
              "ticks": ""
             }
            },
            "type": "scatterpolargl"
           }
          ],
          "scatterternary": [
           {
            "marker": {
             "colorbar": {
              "outlinewidth": 0,
              "ticks": ""
             }
            },
            "type": "scatterternary"
           }
          ],
          "surface": [
           {
            "colorbar": {
             "outlinewidth": 0,
             "ticks": ""
            },
            "colorscale": [
             [
              0,
              "#0d0887"
             ],
             [
              0.1111111111111111,
              "#46039f"
             ],
             [
              0.2222222222222222,
              "#7201a8"
             ],
             [
              0.3333333333333333,
              "#9c179e"
             ],
             [
              0.4444444444444444,
              "#bd3786"
             ],
             [
              0.5555555555555556,
              "#d8576b"
             ],
             [
              0.6666666666666666,
              "#ed7953"
             ],
             [
              0.7777777777777778,
              "#fb9f3a"
             ],
             [
              0.8888888888888888,
              "#fdca26"
             ],
             [
              1,
              "#f0f921"
             ]
            ],
            "type": "surface"
           }
          ],
          "table": [
           {
            "cells": {
             "fill": {
              "color": "#EBF0F8"
             },
             "line": {
              "color": "white"
             }
            },
            "header": {
             "fill": {
              "color": "#C8D4E3"
             },
             "line": {
              "color": "white"
             }
            },
            "type": "table"
           }
          ]
         },
         "layout": {
          "annotationdefaults": {
           "arrowcolor": "#2a3f5f",
           "arrowhead": 0,
           "arrowwidth": 1
          },
          "autotypenumbers": "strict",
          "coloraxis": {
           "colorbar": {
            "outlinewidth": 0,
            "ticks": ""
           }
          },
          "colorscale": {
           "diverging": [
            [
             0,
             "#8e0152"
            ],
            [
             0.1,
             "#c51b7d"
            ],
            [
             0.2,
             "#de77ae"
            ],
            [
             0.3,
             "#f1b6da"
            ],
            [
             0.4,
             "#fde0ef"
            ],
            [
             0.5,
             "#f7f7f7"
            ],
            [
             0.6,
             "#e6f5d0"
            ],
            [
             0.7,
             "#b8e186"
            ],
            [
             0.8,
             "#7fbc41"
            ],
            [
             0.9,
             "#4d9221"
            ],
            [
             1,
             "#276419"
            ]
           ],
           "sequential": [
            [
             0,
             "#0d0887"
            ],
            [
             0.1111111111111111,
             "#46039f"
            ],
            [
             0.2222222222222222,
             "#7201a8"
            ],
            [
             0.3333333333333333,
             "#9c179e"
            ],
            [
             0.4444444444444444,
             "#bd3786"
            ],
            [
             0.5555555555555556,
             "#d8576b"
            ],
            [
             0.6666666666666666,
             "#ed7953"
            ],
            [
             0.7777777777777778,
             "#fb9f3a"
            ],
            [
             0.8888888888888888,
             "#fdca26"
            ],
            [
             1,
             "#f0f921"
            ]
           ],
           "sequentialminus": [
            [
             0,
             "#0d0887"
            ],
            [
             0.1111111111111111,
             "#46039f"
            ],
            [
             0.2222222222222222,
             "#7201a8"
            ],
            [
             0.3333333333333333,
             "#9c179e"
            ],
            [
             0.4444444444444444,
             "#bd3786"
            ],
            [
             0.5555555555555556,
             "#d8576b"
            ],
            [
             0.6666666666666666,
             "#ed7953"
            ],
            [
             0.7777777777777778,
             "#fb9f3a"
            ],
            [
             0.8888888888888888,
             "#fdca26"
            ],
            [
             1,
             "#f0f921"
            ]
           ]
          },
          "colorway": [
           "#636efa",
           "#EF553B",
           "#00cc96",
           "#ab63fa",
           "#FFA15A",
           "#19d3f3",
           "#FF6692",
           "#B6E880",
           "#FF97FF",
           "#FECB52"
          ],
          "font": {
           "color": "#2a3f5f"
          },
          "geo": {
           "bgcolor": "white",
           "lakecolor": "white",
           "landcolor": "#E5ECF6",
           "showlakes": true,
           "showland": true,
           "subunitcolor": "white"
          },
          "hoverlabel": {
           "align": "left"
          },
          "hovermode": "closest",
          "mapbox": {
           "style": "light"
          },
          "paper_bgcolor": "white",
          "plot_bgcolor": "#E5ECF6",
          "polar": {
           "angularaxis": {
            "gridcolor": "white",
            "linecolor": "white",
            "ticks": ""
           },
           "bgcolor": "#E5ECF6",
           "radialaxis": {
            "gridcolor": "white",
            "linecolor": "white",
            "ticks": ""
           }
          },
          "scene": {
           "xaxis": {
            "backgroundcolor": "#E5ECF6",
            "gridcolor": "white",
            "gridwidth": 2,
            "linecolor": "white",
            "showbackground": true,
            "ticks": "",
            "zerolinecolor": "white"
           },
           "yaxis": {
            "backgroundcolor": "#E5ECF6",
            "gridcolor": "white",
            "gridwidth": 2,
            "linecolor": "white",
            "showbackground": true,
            "ticks": "",
            "zerolinecolor": "white"
           },
           "zaxis": {
            "backgroundcolor": "#E5ECF6",
            "gridcolor": "white",
            "gridwidth": 2,
            "linecolor": "white",
            "showbackground": true,
            "ticks": "",
            "zerolinecolor": "white"
           }
          },
          "shapedefaults": {
           "line": {
            "color": "#2a3f5f"
           }
          },
          "ternary": {
           "aaxis": {
            "gridcolor": "white",
            "linecolor": "white",
            "ticks": ""
           },
           "baxis": {
            "gridcolor": "white",
            "linecolor": "white",
            "ticks": ""
           },
           "bgcolor": "#E5ECF6",
           "caxis": {
            "gridcolor": "white",
            "linecolor": "white",
            "ticks": ""
           }
          },
          "title": {
           "x": 0.05
          },
          "xaxis": {
           "automargin": true,
           "gridcolor": "white",
           "linecolor": "white",
           "ticks": "",
           "title": {
            "standoff": 15
           },
           "zerolinecolor": "white",
           "zerolinewidth": 2
          },
          "yaxis": {
           "automargin": true,
           "gridcolor": "white",
           "linecolor": "white",
           "ticks": "",
           "title": {
            "standoff": 15
           },
           "zerolinecolor": "white",
           "zerolinewidth": 2
          }
         }
        },
        "title": {
         "text": "A posteriori distributions arising from different a priori"
        },
        "width": 720,
        "xaxis": {
         "range": [
          0,
          1
         ],
         "title": {
          "text": "x"
         },
         "type": "linear"
        },
        "yaxis": {
         "autorange": true,
         "range": [
          -0.4244262301405893,
          6.36639345210884
         ],
         "title": {
          "text": "y"
         },
         "type": "linear"
        }
       }
      },
      "image/png": "[encoded data removed]",
      "text/html": [
       "<div>                            <div id=\"51fe11ca-b184-4115-80ee-ee0fdda64020\" class=\"plotly-graph-div\" style=\"height:480px; width:720px;\"></div>            <script type=\"text/javascript\">                require([\"plotly\"], function(Plotly) {                    window.PLOTLYENV=window.PLOTLYENV || {};                                    if (document.getElementById(\"51fe11ca-b184-4115-80ee-ee0fdda64020\")) {                    Plotly.newPlot(                        \"51fe11ca-b184-4115-80ee-ee0fdda64020\",                        [{\"mode\":\"lines+markers\",\"name\":\"alpha=4, beta=8\",\"x\":[-1.0,-0.99,-0.98,-0.97,-0.96,-0.95,-0.94,-0.93,-0.92,-0.91,-0.9,-0.89,-0.88,-0.87,-0.86,-0.85,-0.84,-0.83,-0.82,-0.81,-0.8,-0.79,-0.78,-0.77,-0.76,-0.75,-0.74,-0.73,-0.72,-0.71,-0.7,-0.69,-0.68,-0.67,-0.66,-0.65,-0.64,-0.63,-0.62,-0.61,-0.6,-0.59,-0.58,-0.57,-0.56,-0.55,-0.54,-0.53,-0.52,-0.51,-0.5,-0.49,-0.48,-0.47,-0.46,-0.45,-0.44,-0.43,-0.42,-0.41,-0.4,-0.39,-0.38,-0.37,-0.36,-0.35,-0.34,-0.33,-0.32,-0.31,-0.3,-0.29,-0.28,-0.27,-0.26,-0.25,-0.24,-0.23,-0.22,-0.21,-0.2,-0.19,-0.18,-0.17,-0.16,-0.15,-0.14,-0.13,-0.12,-0.11,-0.1,-0.09,-0.08,-0.07,-0.06,-0.05,-0.04,-0.03,-0.02,-0.01,0.0,0.01,0.02,0.03,0.04,0.05,0.06,0.07,0.08,0.09,0.1,0.11,0.12,0.13,0.14,0.15,0.16,0.17,0.18,0.19,0.2,0.21,0.22,0.23,0.24,0.25,0.26,0.27,0.28,0.29,0.3,0.31,0.32,0.33,0.34,0.35,0.36,0.37,0.38,0.39,0.4,0.41,0.42,0.43,0.44,0.45,0.46,0.47,0.48,0.49,0.5,0.51,0.52,0.53,0.54,0.55,0.56,0.57,0.58,0.59,0.6,0.61,0.62,0.63,0.64,0.65,0.66,0.67,0.68,0.69,0.7,0.71,0.72,0.73,0.74,0.75,0.76,0.77,0.78,0.79,0.8,0.81,0.82,0.83,0.84,0.85,0.86,0.87,0.88,0.89,0.9,0.91,0.92,0.93,0.94,0.95,0.96,0.97,0.98,0.99],\"y\":[0,0,0,0,0,0,0,0,0,0,0,0,0,0,0,0,0,0,0,0,0,0,0,0,0,0,0,0,0,0,0,0,0,0,0,0,0,0,0,0,0,0,0,0,0,0,0,0,0,0,0,0,0,0,0,0,0,0,0,0,0,0,0,0,0,0,0,0,0,0,0,0,0,0,0,0,0,0,0,0,0,0,0,0,0,0,0,0,0,0,0,0,0,0,0,0,0,0,0,0,0,0.0012303262592372269,0.009167405631085363,0.028796508587999464,0.06348228295057735,0.11522565385546873,0.1848939316562054,0.27242608617628333,0.37701504697966287,0.4972687937071523,0.6313519080000003,0.7771091690465282,0.9321726882959326,1.0940539953375021,1.2602224062956067,1.428170928292968,1.595470878539042,1.759816324358894,1.9190593809429377,2.0712373367212242,2.214592512000001,2.347585694794805,2.4689039386057594,2.5774634501589664,2.672408240835055,2.7531051635742188,2.819135907438442,2.8702864746782986,2.906534620045718,2.928035689167573,2.9351072519999986,2.9282128886719994,2.9079454483514118,2.875010067078501,2.830207197764824,2.774415874699219,2.7085774058913006,2.6336796593675835,2.550742084068359,2.460801582227072,2.364899328,2.2640686066047775,2.159323729273823,2.051650061885107,1.9419951891499463,1.83126122166797,1.7202982399548354,1.609898857661119,1.5007938755828907,1.3936489886680983,1.2890625,1.1875639886417038,1.089613872206394,0.9956038000282443,0.9058578088013546,0.8206341694804685,0.7401278520497796,0.6644735334169505,0.5937490731306261,0.5279793818033581,0.4671406080000001,0.4111645708764805,0.35994336797741755,0.3133340902754733,0.27116357971272004,0.23323316813671865,0.1993233405635923,0.16919827009920704,0.14261017655975594,0.1193034658066747,0.09901861200000008,0.08149575033112264,0.06647795327246013,0.053714168930023176,0.0429618056572244,0.03398895263671875,0.026576231613648072,0.0205182803204973,0.015624873322953512,0.011721690989792494,0.008650751999999989,0.006270529199165855,0.0044557726567698505,0.0030970674084061984,0.0021001565443719192,0.0013850629804687512,0.0008850453704429573,0.0005454251443086733,0.0003223225349701631,0.00018133963917562666,9.622799999999988e-05,4.7576848866346694e-05,2.1555957674803127e-05,8.743978014433158e-06,3.0691367866368186e-06,8.841679687500053e-07,1.9134079303680113e-07,2.6347409233200163e-08,1.5902380032000097e-09,1.280794680000008e-11],\"type\":\"scatter\"},{\"mode\":\"lines+markers\",\"name\":\"alpha=23, beta=27\",\"x\":[-1.0,-0.99,-0.98,-0.97,-0.96,-0.95,-0.94,-0.93,-0.92,-0.91,-0.9,-0.89,-0.88,-0.87,-0.86,-0.85,-0.84,-0.83,-0.82,-0.81,-0.8,-0.79,-0.78,-0.77,-0.76,-0.75,-0.74,-0.73,-0.72,-0.71,-0.7,-0.69,-0.68,-0.67,-0.66,-0.65,-0.64,-0.63,-0.62,-0.61,-0.6,-0.59,-0.58,-0.57,-0.56,-0.55,-0.54,-0.53,-0.52,-0.51,-0.5,-0.49,-0.48,-0.47,-0.46,-0.45,-0.44,-0.43,-0.42,-0.41,-0.4,-0.39,-0.38,-0.37,-0.36,-0.35,-0.34,-0.33,-0.32,-0.31,-0.3,-0.29,-0.28,-0.27,-0.26,-0.25,-0.24,-0.23,-0.22,-0.21,-0.2,-0.19,-0.18,-0.17,-0.16,-0.15,-0.14,-0.13,-0.12,-0.11,-0.1,-0.09,-0.08,-0.07,-0.06,-0.05,-0.04,-0.03,-0.02,-0.01,0.0,0.01,0.02,0.03,0.04,0.05,0.06,0.07,0.08,0.09,0.1,0.11,0.12,0.13,0.14,0.15,0.16,0.17,0.18,0.19,0.2,0.21,0.22,0.23,0.24,0.25,0.26,0.27,0.28,0.29,0.3,0.31,0.32,0.33,0.34,0.35,0.36,0.37,0.38,0.39,0.4,0.41,0.42,0.43,0.44,0.45,0.46,0.47,0.48,0.49,0.5,0.51,0.52,0.53,0.54,0.55,0.56,0.57,0.58,0.59,0.6,0.61,0.62,0.63,0.64,0.65,0.66,0.67,0.68,0.69,0.7,0.71,0.72,0.73,0.74,0.75,0.76,0.77,0.78,0.79,0.8,0.81,0.82,0.83,0.84,0.85,0.86,0.87,0.88,0.89,0.9,0.91,0.92,0.93,0.94,0.95,0.96,0.97,0.98,0.99],\"y\":[0,0,0,0,0,0,0,0,0,0,0,0,0,0,0,0,0,0,0,0,0,0,0,0,0,0,0,0,0,0,0,0,0,0,0,0,0,0,0,0,0,0,0,0,0,0,0,0,0,0,0,0,0,0,0,0,0,0,0,0,0,0,0,0,0,0,0,0,0,0,0,0,0,0,0,0,0,0,0,0,0,0,0,0,0,0,0,0,0,0,0,0,0,0,0,0,0,0,0,0,0,1.0333187464720023e-29,3.328565607503069e-23,1.9074446462519528e-19,8.167537123710209e-17,8.430883376585244e-15,3.534849686832271e-13,7.951202087490126e-12,1.1328762539328616e-10,1.1379695909483623e-09,8.670107740064215e-09,5.278353777988588e-08,2.6684319861790824e-07,1.1533830578518535e-06,4.360093134124118e-06,1.4676382322812906e-05,4.462932361978903e-05,0.00012405832724167695,0.0003183277672654495,0.0007601669096957921,0.0017010567996455623,0.003587964245480893,0.007169318869894884,0.013629831779442408,0.024746852276048496,0.04305189653341838,0.07197101329598922,0.11590880371229656,0.18023571163842914,0.2711391744306044,0.39530826367851796,0.5594391719554321,0.7695742048892078,1.0303168357939263,1.3439952936171697,1.7098715934287811,2.123506473911522,2.5763891655946876,3.0559222561284733,3.5458169665356105,4.026906705522662,4.4783331619180045,4.879007326734336,5.209205844332609,5.4521379240450445,5.595314197762655,5.631567595327694,5.559615193447224,5.384103572075776,5.115140745979393,4.767376562145216,4.358742406554182,3.9089937912035033,3.438212274609841,2.965415742187923,2.5074008914364225,2.077903773061829,1.6871197861586162,1.3415802543976425,1.04434449002176,0.7954383615847237,0.5924550447227519,0.4312309566765875,0.3065181266544178,0.2125904232076033,0.1437415250104164,0.09465371716851266,0.06063555333827675,0.03774111832025711,0.0227930941703384,0.013336097191986716,0.007546591916939823,0.004122332186822403,0.002169102324107561,0.0010967916367626627,0.000531504895474301,0.0002460994049290509,0.00010850229870556378,4.537223883130395e-05,1.7915004449550873e-05,6.644753123615429e-06,2.3013532630851155e-06,7.391100949544647e-07,2.1832789974917467e-07,5.874664798446144e-08,1.4233390023441421e-08,3.0620628738063463e-09,5.750028092333425e-10,9.226785690889693e-11,1.2317121038684395e-11,1.3214613229788376e-12,1.0887674418381577e-13,6.47725675041382e-15,2.5520733795051846e-16,5.8676545584316035e-18,6.469320659437413e-20,2.4617624914732817e-22,1.745219373761907e-25,5.773947110235278e-30,1.0757058489885106e-37],\"type\":\"scatter\"},{\"mode\":\"lines+markers\",\"name\":\"alpha=33, beta=17\",\"x\":[-1.0,-0.99,-0.98,-0.97,-0.96,-0.95,-0.94,-0.93,-0.92,-0.91,-0.9,-0.89,-0.88,-0.87,-0.86,-0.85,-0.84,-0.83,-0.82,-0.81,-0.8,-0.79,-0.78,-0.77,-0.76,-0.75,-0.74,-0.73,-0.72,-0.71,-0.7,-0.69,-0.68,-0.67,-0.66,-0.65,-0.64,-0.63,-0.62,-0.61,-0.6,-0.59,-0.58,-0.57,-0.56,-0.55,-0.54,-0.53,-0.52,-0.51,-0.5,-0.49,-0.48,-0.47,-0.46,-0.45,-0.44,-0.43,-0.42,-0.41,-0.4,-0.39,-0.38,-0.37,-0.36,-0.35,-0.34,-0.33,-0.32,-0.31,-0.3,-0.29,-0.28,-0.27,-0.26,-0.25,-0.24,-0.23,-0.22,-0.21,-0.2,-0.19,-0.18,-0.17,-0.16,-0.15,-0.14,-0.13,-0.12,-0.11,-0.1,-0.09,-0.08,-0.07,-0.06,-0.05,-0.04,-0.03,-0.02,-0.01,0.0,0.01,0.02,0.03,0.04,0.05,0.06,0.07,0.08,0.09,0.1,0.11,0.12,0.13,0.14,0.15,0.16,0.17,0.18,0.19,0.2,0.21,0.22,0.23,0.24,0.25,0.26,0.27,0.28,0.29,0.3,0.31,0.32,0.33,0.34,0.35,0.36,0.37,0.38,0.39,0.4,0.41,0.42,0.43,0.44,0.45,0.46,0.47,0.48,0.49,0.5,0.51,0.52,0.53,0.54,0.55,0.56,0.57,0.58,0.59,0.6,0.61,0.62,0.63,0.64,0.65,0.66,0.67,0.68,0.69,0.7,0.71,0.72,0.73,0.74,0.75,0.76,0.77,0.78,0.79,0.8,0.81,0.82,0.83,0.84,0.85,0.86,0.87,0.88,0.89,0.9,0.91,0.92,0.93,0.94,0.95,0.96,0.97,0.98,0.99],\"y\":[0,0,0,0,0,0,0,0,0,0,0,0,0,0,0,0,0,0,0,0,0,0,0,0,0,0,0,0,0,0,0,0,0,0,0,0,0,0,0,0,0,0,0,0,0,0,0,0,0,0,0,0,0,0,0,0,0,0,0,0,0,0,0,0,0,0,0,0,0,0,0,0,0,0,0,0,0,0,0,0,0,0,0,0,0,0,0,0,0,0,0,0,0,0,0,0,0,0,0,0,0,9.407552287830927e-51,3.434714152739101e-41,1.257596808533696e-35,1.0606521543115924e-31,1.1322213777608443e-28,3.267376620443188e-26,3.821008331070058e-24,2.3056763693447916e-22,8.389500542605648e-21,2.0473574743012848e-19,3.615093702972299e-18,4.8846804190606565e-17,5.269978494832696e-16,4.692301276351331e-15,3.5394569016153504e-14,2.3100508997376327e-13,1.3271759079548615e-12,6.808560936158176e-12,3.1563783789728845e-11,1.3357130848085525e-10,5.204325117736817e-10,1.880844782236409e-09,6.3453543901550316e-09,2.0095126226769056e-08,6.00307845231998e-08,1.6989014148912635e-07,4.5721423389053376e-07,1.174060489727677e-06,2.885247275156471e-06,6.803968879460796e-06,1.5433811146571684e-05,3.374857476001681e-05,7.127815449240765e-05,0.00014566051505980786,0.00028847265574506286,0.0005544637214966268,0.0010356606814004138,0.0018821561494409402,0.0033316418769611246,0.005749806849780302,0.009683428018421912,0.015927173720619074,0.025603644976628533,0.040253866962394934,0.06193227021722002,0.09329627372177474,0.13767620770556954,0.19910704248828448,0.28230001794658705,0.39253079637796506,0.5354222846497261,0.7166058044577136,0.9412545345935461,1.2134982336532227,1.535747480486057,1.907977352005846,2.3270418728876687,2.7861081306099442,3.274308589119938,3.7767079355832083,4.274663767169588,4.746627347674601,5.1693828165836955,5.519664831575476,5.776032782481494,5.920823804765585,5.94196722196825,5.834429373150367,5.601076859509031,5.252800216045425,4.807825014070207,4.290243228864857,3.727908787078237,3.149938874088323,2.5841284327813,2.0546050330580576,1.5800182710142254,1.1724753111413946,0.8373155647244097,0.5736844016091982,0.3757437337637868,0.23427011201739184,0.13835511681173113,0.07694322825479301,0.04001098978599518,0.019289125464111604,0.00853145782078641,0.0034171101059894066,0.0012192049084543196,0.0003793794733676976,0.00010011939868511034,2.1575645321400913e-05,3.6002820170896567e-06,4.303530136916695e-07,3.265795346728213e-08,1.2851471154893625e-09,1.7945232906934957e-11,3.793393363402374e-14,8.010133502455125e-19],\"type\":\"scatter\"}],                        {\"template\":{\"data\":{\"histogram2dcontour\":[{\"type\":\"histogram2dcontour\",\"colorbar\":{\"outlinewidth\":0,\"ticks\":\"\"},\"colorscale\":[[0.0,\"#0d0887\"],[0.1111111111111111,\"#46039f\"],[0.2222222222222222,\"#7201a8\"],[0.3333333333333333,\"#9c179e\"],[0.4444444444444444,\"#bd3786\"],[0.5555555555555556,\"#d8576b\"],[0.6666666666666666,\"#ed7953\"],[0.7777777777777778,\"#fb9f3a\"],[0.8888888888888888,\"#fdca26\"],[1.0,\"#f0f921\"]]}],\"choropleth\":[{\"type\":\"choropleth\",\"colorbar\":{\"outlinewidth\":0,\"ticks\":\"\"}}],\"histogram2d\":[{\"type\":\"histogram2d\",\"colorbar\":{\"outlinewidth\":0,\"ticks\":\"\"},\"colorscale\":[[0.0,\"#0d0887\"],[0.1111111111111111,\"#46039f\"],[0.2222222222222222,\"#7201a8\"],[0.3333333333333333,\"#9c179e\"],[0.4444444444444444,\"#bd3786\"],[0.5555555555555556,\"#d8576b\"],[0.6666666666666666,\"#ed7953\"],[0.7777777777777778,\"#fb9f3a\"],[0.8888888888888888,\"#fdca26\"],[1.0,\"#f0f921\"]]}],\"heatmap\":[{\"type\":\"heatmap\",\"colorbar\":{\"outlinewidth\":0,\"ticks\":\"\"},\"colorscale\":[[0.0,\"#0d0887\"],[0.1111111111111111,\"#46039f\"],[0.2222222222222222,\"#7201a8\"],[0.3333333333333333,\"#9c179e\"],[0.4444444444444444,\"#bd3786\"],[0.5555555555555556,\"#d8576b\"],[0.6666666666666666,\"#ed7953\"],[0.7777777777777778,\"#fb9f3a\"],[0.8888888888888888,\"#fdca26\"],[1.0,\"#f0f921\"]]}],\"heatmapgl\":[{\"type\":\"heatmapgl\",\"colorbar\":{\"outlinewidth\":0,\"ticks\":\"\"},\"colorscale\":[[0.0,\"#0d0887\"],[0.1111111111111111,\"#46039f\"],[0.2222222222222222,\"#7201a8\"],[0.3333333333333333,\"#9c179e\"],[0.4444444444444444,\"#bd3786\"],[0.5555555555555556,\"#d8576b\"],[0.6666666666666666,\"#ed7953\"],[0.7777777777777778,\"#fb9f3a\"],[0.8888888888888888,\"#fdca26\"],[1.0,\"#f0f921\"]]}],\"contourcarpet\":[{\"type\":\"contourcarpet\",\"colorbar\":{\"outlinewidth\":0,\"ticks\":\"\"}}],\"contour\":[{\"type\":\"contour\",\"colorbar\":{\"outlinewidth\":0,\"ticks\":\"\"},\"colorscale\":[[0.0,\"#0d0887\"],[0.1111111111111111,\"#46039f\"],[0.2222222222222222,\"#7201a8\"],[0.3333333333333333,\"#9c179e\"],[0.4444444444444444,\"#bd3786\"],[0.5555555555555556,\"#d8576b\"],[0.6666666666666666,\"#ed7953\"],[0.7777777777777778,\"#fb9f3a\"],[0.8888888888888888,\"#fdca26\"],[1.0,\"#f0f921\"]]}],\"surface\":[{\"type\":\"surface\",\"colorbar\":{\"outlinewidth\":0,\"ticks\":\"\"},\"colorscale\":[[0.0,\"#0d0887\"],[0.1111111111111111,\"#46039f\"],[0.2222222222222222,\"#7201a8\"],[0.3333333333333333,\"#9c179e\"],[0.4444444444444444,\"#bd3786\"],[0.5555555555555556,\"#d8576b\"],[0.6666666666666666,\"#ed7953\"],[0.7777777777777778,\"#fb9f3a\"],[0.8888888888888888,\"#fdca26\"],[1.0,\"#f0f921\"]]}],\"mesh3d\":[{\"type\":\"mesh3d\",\"colorbar\":{\"outlinewidth\":0,\"ticks\":\"\"}}],\"scatter\":[{\"fillpattern\":{\"fillmode\":\"overlay\",\"size\":10,\"solidity\":0.2},\"type\":\"scatter\"}],\"parcoords\":[{\"type\":\"parcoords\",\"line\":{\"colorbar\":{\"outlinewidth\":0,\"ticks\":\"\"}}}],\"scatterpolargl\":[{\"type\":\"scatterpolargl\",\"marker\":{\"colorbar\":{\"outlinewidth\":0,\"ticks\":\"\"}}}],\"bar\":[{\"error_x\":{\"color\":\"#2a3f5f\"},\"error_y\":{\"color\":\"#2a3f5f\"},\"marker\":{\"line\":{\"color\":\"#E5ECF6\",\"width\":0.5},\"pattern\":{\"fillmode\":\"overlay\",\"size\":10,\"solidity\":0.2}},\"type\":\"bar\"}],\"scattergeo\":[{\"type\":\"scattergeo\",\"marker\":{\"colorbar\":{\"outlinewidth\":0,\"ticks\":\"\"}}}],\"scatterpolar\":[{\"type\":\"scatterpolar\",\"marker\":{\"colorbar\":{\"outlinewidth\":0,\"ticks\":\"\"}}}],\"histogram\":[{\"marker\":{\"pattern\":{\"fillmode\":\"overlay\",\"size\":10,\"solidity\":0.2}},\"type\":\"histogram\"}],\"scattergl\":[{\"type\":\"scattergl\",\"marker\":{\"colorbar\":{\"outlinewidth\":0,\"ticks\":\"\"}}}],\"scatter3d\":[{\"type\":\"scatter3d\",\"line\":{\"colorbar\":{\"outlinewidth\":0,\"ticks\":\"\"}},\"marker\":{\"colorbar\":{\"outlinewidth\":0,\"ticks\":\"\"}}}],\"scattermapbox\":[{\"type\":\"scattermapbox\",\"marker\":{\"colorbar\":{\"outlinewidth\":0,\"ticks\":\"\"}}}],\"scatterternary\":[{\"type\":\"scatterternary\",\"marker\":{\"colorbar\":{\"outlinewidth\":0,\"ticks\":\"\"}}}],\"scattercarpet\":[{\"type\":\"scattercarpet\",\"marker\":{\"colorbar\":{\"outlinewidth\":0,\"ticks\":\"\"}}}],\"carpet\":[{\"aaxis\":{\"endlinecolor\":\"#2a3f5f\",\"gridcolor\":\"white\",\"linecolor\":\"white\",\"minorgridcolor\":\"white\",\"startlinecolor\":\"#2a3f5f\"},\"baxis\":{\"endlinecolor\":\"#2a3f5f\",\"gridcolor\":\"white\",\"linecolor\":\"white\",\"minorgridcolor\":\"white\",\"startlinecolor\":\"#2a3f5f\"},\"type\":\"carpet\"}],\"table\":[{\"cells\":{\"fill\":{\"color\":\"#EBF0F8\"},\"line\":{\"color\":\"white\"}},\"header\":{\"fill\":{\"color\":\"#C8D4E3\"},\"line\":{\"color\":\"white\"}},\"type\":\"table\"}],\"barpolar\":[{\"marker\":{\"line\":{\"color\":\"#E5ECF6\",\"width\":0.5},\"pattern\":{\"fillmode\":\"overlay\",\"size\":10,\"solidity\":0.2}},\"type\":\"barpolar\"}],\"pie\":[{\"automargin\":true,\"type\":\"pie\"}]},\"layout\":{\"autotypenumbers\":\"strict\",\"colorway\":[\"#636efa\",\"#EF553B\",\"#00cc96\",\"#ab63fa\",\"#FFA15A\",\"#19d3f3\",\"#FF6692\",\"#B6E880\",\"#FF97FF\",\"#FECB52\"],\"font\":{\"color\":\"#2a3f5f\"},\"hovermode\":\"closest\",\"hoverlabel\":{\"align\":\"left\"},\"paper_bgcolor\":\"white\",\"plot_bgcolor\":\"#E5ECF6\",\"polar\":{\"bgcolor\":\"#E5ECF6\",\"angularaxis\":{\"gridcolor\":\"white\",\"linecolor\":\"white\",\"ticks\":\"\"},\"radialaxis\":{\"gridcolor\":\"white\",\"linecolor\":\"white\",\"ticks\":\"\"}},\"ternary\":{\"bgcolor\":\"#E5ECF6\",\"aaxis\":{\"gridcolor\":\"white\",\"linecolor\":\"white\",\"ticks\":\"\"},\"baxis\":{\"gridcolor\":\"white\",\"linecolor\":\"white\",\"ticks\":\"\"},\"caxis\":{\"gridcolor\":\"white\",\"linecolor\":\"white\",\"ticks\":\"\"}},\"coloraxis\":{\"colorbar\":{\"outlinewidth\":0,\"ticks\":\"\"}},\"colorscale\":{\"sequential\":[[0.0,\"#0d0887\"],[0.1111111111111111,\"#46039f\"],[0.2222222222222222,\"#7201a8\"],[0.3333333333333333,\"#9c179e\"],[0.4444444444444444,\"#bd3786\"],[0.5555555555555556,\"#d8576b\"],[0.6666666666666666,\"#ed7953\"],[0.7777777777777778,\"#fb9f3a\"],[0.8888888888888888,\"#fdca26\"],[1.0,\"#f0f921\"]],\"sequentialminus\":[[0.0,\"#0d0887\"],[0.1111111111111111,\"#46039f\"],[0.2222222222222222,\"#7201a8\"],[0.3333333333333333,\"#9c179e\"],[0.4444444444444444,\"#bd3786\"],[0.5555555555555556,\"#d8576b\"],[0.6666666666666666,\"#ed7953\"],[0.7777777777777778,\"#fb9f3a\"],[0.8888888888888888,\"#fdca26\"],[1.0,\"#f0f921\"]],\"diverging\":[[0,\"#8e0152\"],[0.1,\"#c51b7d\"],[0.2,\"#de77ae\"],[0.3,\"#f1b6da\"],[0.4,\"#fde0ef\"],[0.5,\"#f7f7f7\"],[0.6,\"#e6f5d0\"],[0.7,\"#b8e186\"],[0.8,\"#7fbc41\"],[0.9,\"#4d9221\"],[1,\"#276419\"]]},\"xaxis\":{\"gridcolor\":\"white\",\"linecolor\":\"white\",\"ticks\":\"\",\"title\":{\"standoff\":15},\"zerolinecolor\":\"white\",\"automargin\":true,\"zerolinewidth\":2},\"yaxis\":{\"gridcolor\":\"white\",\"linecolor\":\"white\",\"ticks\":\"\",\"title\":{\"standoff\":15},\"zerolinecolor\":\"white\",\"automargin\":true,\"zerolinewidth\":2},\"scene\":{\"xaxis\":{\"backgroundcolor\":\"#E5ECF6\",\"gridcolor\":\"white\",\"linecolor\":\"white\",\"showbackground\":true,\"ticks\":\"\",\"zerolinecolor\":\"white\",\"gridwidth\":2},\"yaxis\":{\"backgroundcolor\":\"#E5ECF6\",\"gridcolor\":\"white\",\"linecolor\":\"white\",\"showbackground\":true,\"ticks\":\"\",\"zerolinecolor\":\"white\",\"gridwidth\":2},\"zaxis\":{\"backgroundcolor\":\"#E5ECF6\",\"gridcolor\":\"white\",\"linecolor\":\"white\",\"showbackground\":true,\"ticks\":\"\",\"zerolinecolor\":\"white\",\"gridwidth\":2}},\"shapedefaults\":{\"line\":{\"color\":\"#2a3f5f\"}},\"annotationdefaults\":{\"arrowcolor\":\"#2a3f5f\",\"arrowhead\":0,\"arrowwidth\":1},\"geo\":{\"bgcolor\":\"white\",\"landcolor\":\"#E5ECF6\",\"subunitcolor\":\"white\",\"showland\":true,\"showlakes\":true,\"lakecolor\":\"white\"},\"title\":{\"x\":0.05},\"mapbox\":{\"style\":\"light\"}}},\"xaxis\":{\"title\":{\"text\":\"x\"},\"range\":[0,1]},\"yaxis\":{\"title\":{\"text\":\"y\"}},\"title\":{\"text\":\"A posteriori distributions arising from different a priori\"},\"height\":480,\"width\":720},                        {\"responsive\": true}                    ).then(function(){\n",
       "                            \n",
       "var gd = document.getElementById('51fe11ca-b184-4115-80ee-ee0fdda64020');\n",
       "var x = new MutationObserver(function (mutations, observer) {{\n",
       "        var display = window.getComputedStyle(gd).display;\n",
       "        if (!display || display === 'none') {{\n",
       "            console.log([gd, 'removed!']);\n",
       "            Plotly.purge(gd);\n",
       "            observer.disconnect();\n",
       "        }}\n",
       "}});\n",
       "\n",
       "// Listen for the removal of the full notebook cells\n",
       "var notebookContainer = gd.closest('#notebook-container');\n",
       "if (notebookContainer) {{\n",
       "    x.observe(notebookContainer, {childList: true});\n",
       "}}\n",
       "\n",
       "// Listen for the clearing of the current output cell\n",
       "var outputEl = gd.closest('.output');\n",
       "if (outputEl) {{\n",
       "    x.observe(outputEl, {childList: true});\n",
       "}}\n",
       "\n",
       "                        })                };                });            </script>        </div>"
      ]
     },
     "metadata": {},
     "output_type": "display_data"
    }
   ],
   "source": [
    "fig = go.Figure()\n",
    "\n",
    "fig.add_trace(\n",
    "    go.Scatter(\n",
    "        x=xs,\n",
    "        y=[beta_pdf(x, 4, 8) for x in xs],\n",
    "        mode=\"lines+markers\",\n",
    "        name=\"alpha=4, beta=8\",\n",
    "    )\n",
    ")\n",
    "fig.add_trace(\n",
    "    go.Scatter(\n",
    "        x=xs,\n",
    "        y=[beta_pdf(x, 23, 27) for x in xs],\n",
    "        mode=\"lines+markers\",\n",
    "        name=\"alpha=23, beta=27\",\n",
    "    )\n",
    ")\n",
    "fig.add_trace(\n",
    "    go.Scatter(\n",
    "        x=xs,\n",
    "        y=[beta_pdf(x, 33, 17) for x in xs],\n",
    "        mode=\"lines+markers\",\n",
    "        name=\"alpha=33, beta=17\",\n",
    "    )\n",
    ")\n",
    "\n",
    "fig.update_xaxes(title_text=\"x\", range=[0, 1])\n",
    "fig.update_yaxes(title_text=\"y\")\n",
    "\n",
    "fig.update_layout(\n",
    "    height=480,\n",
    "    width=720,\n",
    "    title_text=\"A posteriori distributions arising from different a priori\",\n",
    ")\n",
    "\n",
    "fig.show()"
   ]
  }
 ],
 "metadata": {
  "kernelspec": {
   "display_name": "Python 3 (ipykernel)",
   "language": "python",
   "name": "python3"
  },
  "language_info": {
   "codemirror_mode": {
    "name": "ipython",
    "version": 3
   },
   "file_extension": ".py",
   "mimetype": "text/x-python",
   "name": "python",
   "nbconvert_exporter": "python",
   "pygments_lexer": "ipython3",
   "version": "3.12.2"
  }
 },
 "nbformat": 4,
 "nbformat_minor": 5
}
