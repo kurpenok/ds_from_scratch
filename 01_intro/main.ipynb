{
 "cells": [
  {
   "cell_type": "markdown",
   "id": "a3e12e5a-e0e6-42a7-8c50-41f2b78f534b",
   "metadata": {},
   "source": [
    "# 01. Intro"
   ]
  },
  {
   "cell_type": "markdown",
   "id": "d55a8d7d-bbc8-4592-a234-d3669c72feda",
   "metadata": {},
   "source": [
    "## Analysis of friendships"
   ]
  },
  {
   "cell_type": "code",
   "execution_count": 1,
   "id": "f25a53ca-bf3c-451a-9933-16f0686b0b41",
   "metadata": {},
   "outputs": [],
   "source": [
    "users = [\n",
    "    { \"id\": 0, \"name\": \"Hero\" },\n",
    "    { \"id\": 1, \"name\": \"Dunn\" },\n",
    "    { \"id\": 2, \"name\": \"Sue\" },\n",
    "    { \"id\": 3, \"name\": \"Chi\" },\n",
    "    { \"id\": 4, \"name\": \"Thor\" },\n",
    "    { \"id\": 5, \"name\": \"Clive\" },\n",
    "    { \"id\": 6, \"name\": \"Hicks\" },\n",
    "    { \"id\": 7, \"name\": \"Devin\" },\n",
    "    { \"id\": 8, \"name\": \"Kate\" },\n",
    "    { \"id\": 9, \"name\": \"Klein\" },\n",
    "]"
   ]
  },
  {
   "cell_type": "code",
   "execution_count": 2,
   "id": "ae77f535-03ee-42ca-82d0-ffae399b1d3b",
   "metadata": {},
   "outputs": [],
   "source": [
    "friendship_pairs = [(0, 1), (0, 2), (1, 2), (1, 3), (2, 3), (3, 4),\n",
    "                    (4, 5), (5, 6), (5, 7), (6, 8), (7, 8), (8, 9)]"
   ]
  },
  {
   "cell_type": "markdown",
   "id": "113ce369-081d-4ac3-907b-52bc46ac4674",
   "metadata": {},
   "source": [
    "Modification of the representation of friendships"
   ]
  },
  {
   "cell_type": "code",
   "execution_count": 3,
   "id": "44f23ecc-bc45-47fa-be83-ada8ced18abc",
   "metadata": {},
   "outputs": [],
   "source": [
    "friendships = {user[\"id\"]: [] for user in users}\n",
    "\n",
    "for i, j in friendship_pairs:\n",
    "    friendships[i].append(j)\n",
    "    friendships[j].append(i)"
   ]
  },
  {
   "cell_type": "markdown",
   "id": "b06e4b33-4169-4ba4-880c-a53c52555c11",
   "metadata": {},
   "source": [
    "The function of counting friends for a specific user"
   ]
  },
  {
   "cell_type": "code",
   "execution_count": 4,
   "id": "2ef020b6-82c2-4010-ae13-c59f20712982",
   "metadata": {},
   "outputs": [],
   "source": [
    "def number_of_friends(user):\n",
    "    return len(friendships[user[\"id\"]])"
   ]
  },
  {
   "cell_type": "markdown",
   "id": "41152ef0-a75f-4ac4-a55b-b992bedaba7d",
   "metadata": {},
   "source": [
    "Counting the total number of friendships"
   ]
  },
  {
   "cell_type": "code",
   "execution_count": 5,
   "id": "79692cea-9ec0-46af-97be-0a0c3fc1b27a",
   "metadata": {},
   "outputs": [
    {
     "data": {
      "text/plain": [
       "24"
      ]
     },
     "execution_count": 5,
     "metadata": {},
     "output_type": "execute_result"
    }
   ],
   "source": [
    "total_connections = sum(number_of_friends(user) for user in users)\n",
    "\n",
    "total_connections"
   ]
  },
  {
   "cell_type": "markdown",
   "id": "1ef142b3-6feb-4cc8-876e-6934d39c51fd",
   "metadata": {},
   "source": [
    "Calculating the average number of friendships"
   ]
  },
  {
   "cell_type": "code",
   "execution_count": 6,
   "id": "68d80f86-4449-4a02-a3dd-ea46bb934018",
   "metadata": {},
   "outputs": [
    {
     "data": {
      "text/plain": [
       "2.4"
      ]
     },
     "execution_count": 6,
     "metadata": {},
     "output_type": "execute_result"
    }
   ],
   "source": [
    "avg_connections = total_connections / len(users)\n",
    "\n",
    "avg_connections"
   ]
  },
  {
   "cell_type": "markdown",
   "id": "dc664443-a7dc-49b7-9d81-e33eac669406",
   "metadata": {},
   "source": [
    "Sorting users by the number of friendships"
   ]
  },
  {
   "cell_type": "code",
   "execution_count": 10,
   "id": "9efac186-c52a-490b-892c-eb4e6235d4a6",
   "metadata": {},
   "outputs": [],
   "source": [
    "num_friends_by_id = [(user[\"id\"], number_of_friends(user)) for user in users]\n",
    "\n",
    "num_friends_by_id.sort(key=lambda id_and_friends: id_and_friends[1], reverse=True)"
   ]
  }
 ],
 "metadata": {
  "kernelspec": {
   "display_name": "Python 3 (ipykernel)",
   "language": "python",
   "name": "python3"
  },
  "language_info": {
   "codemirror_mode": {
    "name": "ipython",
    "version": 3
   },
   "file_extension": ".py",
   "mimetype": "text/x-python",
   "name": "python",
   "nbconvert_exporter": "python",
   "pygments_lexer": "ipython3",
   "version": "3.12.2"
  }
 },
 "nbformat": 4,
 "nbformat_minor": 5
}
