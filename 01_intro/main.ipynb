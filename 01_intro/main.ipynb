{
 "cells": [
  {
   "cell_type": "markdown",
   "id": "a3e12e5a-e0e6-42a7-8c50-41f2b78f534b",
   "metadata": {},
   "source": [
    "# 01. Intro"
   ]
  },
  {
   "cell_type": "markdown",
   "id": "e33a6567-898c-4461-8fac-124d27dfc597",
   "metadata": {},
   "source": [
    "## Imports"
   ]
  },
  {
   "cell_type": "code",
   "execution_count": 1,
   "id": "5c8526b5-5a1b-4ca1-87c7-ea7121eaf2eb",
   "metadata": {},
   "outputs": [],
   "source": [
    "from collections import Counter\n",
    "from collections import defaultdict"
   ]
  },
  {
   "cell_type": "markdown",
   "id": "d55a8d7d-bbc8-4592-a234-d3669c72feda",
   "metadata": {},
   "source": [
    "## Analysis of friendships"
   ]
  },
  {
   "cell_type": "code",
   "execution_count": 2,
   "id": "f25a53ca-bf3c-451a-9933-16f0686b0b41",
   "metadata": {},
   "outputs": [],
   "source": [
    "users = [\n",
    "    { \"id\": 0, \"name\": \"Hero\" },\n",
    "    { \"id\": 1, \"name\": \"Dunn\" },\n",
    "    { \"id\": 2, \"name\": \"Sue\" },\n",
    "    { \"id\": 3, \"name\": \"Chi\" },\n",
    "    { \"id\": 4, \"name\": \"Thor\" },\n",
    "    { \"id\": 5, \"name\": \"Clive\" },\n",
    "    { \"id\": 6, \"name\": \"Hicks\" },\n",
    "    { \"id\": 7, \"name\": \"Devin\" },\n",
    "    { \"id\": 8, \"name\": \"Kate\" },\n",
    "    { \"id\": 9, \"name\": \"Klein\" },\n",
    "]"
   ]
  },
  {
   "cell_type": "code",
   "execution_count": 3,
   "id": "ae77f535-03ee-42ca-82d0-ffae399b1d3b",
   "metadata": {},
   "outputs": [],
   "source": [
    "friendship_pairs = [(0, 1), (0, 2), (1, 2), (1, 3), (2, 3), (3, 4),\n",
    "                    (4, 5), (5, 6), (5, 7), (6, 8), (7, 8), (8, 9)]"
   ]
  },
  {
   "cell_type": "code",
   "execution_count": 4,
   "id": "44f23ecc-bc45-47fa-be83-ada8ced18abc",
   "metadata": {},
   "outputs": [],
   "source": [
    "# Modification of the representation of friendships\n",
    "\n",
    "friendships = {user[\"id\"]: [] for user in users}\n",
    "\n",
    "for i, j in friendship_pairs:\n",
    "    friendships[i].append(j)\n",
    "    friendships[j].append(i)"
   ]
  },
  {
   "cell_type": "code",
   "execution_count": 5,
   "id": "2ef020b6-82c2-4010-ae13-c59f20712982",
   "metadata": {},
   "outputs": [],
   "source": [
    "# Function of counting friends for a specific user\n",
    "\n",
    "def number_of_friends(user):    \n",
    "    return len(friendships[user[\"id\"]])"
   ]
  },
  {
   "cell_type": "code",
   "execution_count": 6,
   "id": "79692cea-9ec0-46af-97be-0a0c3fc1b27a",
   "metadata": {},
   "outputs": [
    {
     "data": {
      "text/plain": [
       "24"
      ]
     },
     "execution_count": 6,
     "metadata": {},
     "output_type": "execute_result"
    }
   ],
   "source": [
    "# Counting the total number of friendships\n",
    "\n",
    "total_connections = sum(number_of_friends(user) for user in users)\n",
    "\n",
    "total_connections"
   ]
  },
  {
   "cell_type": "code",
   "execution_count": 7,
   "id": "68d80f86-4449-4a02-a3dd-ea46bb934018",
   "metadata": {},
   "outputs": [
    {
     "data": {
      "text/plain": [
       "2.4"
      ]
     },
     "execution_count": 7,
     "metadata": {},
     "output_type": "execute_result"
    }
   ],
   "source": [
    "# Calculating the average number of friendships\n",
    "\n",
    "avg_connections = total_connections / len(users)\n",
    "\n",
    "avg_connections"
   ]
  },
  {
   "cell_type": "code",
   "execution_count": 8,
   "id": "9efac186-c52a-490b-892c-eb4e6235d4a6",
   "metadata": {},
   "outputs": [],
   "source": [
    "# Sorting users by the number of friendships\n",
    "\n",
    "num_friends_by_id = [(user[\"id\"], number_of_friends(user)) for user in users]\n",
    "\n",
    "num_friends_by_id.sort(key=lambda id_and_friends: id_and_friends[1], reverse=True)"
   ]
  },
  {
   "cell_type": "code",
   "execution_count": 9,
   "id": "2dfc4ce6-6a36-43ff-a241-6231601b9e13",
   "metadata": {},
   "outputs": [
    {
     "data": {
      "text/plain": [
       "[0, 2, 3, 0, 1, 3]"
      ]
     },
     "execution_count": 9,
     "metadata": {},
     "output_type": "execute_result"
    }
   ],
   "source": [
    "# Function for finding friends through friends\n",
    "\n",
    "def foaf_ids_bad(user):\n",
    "    return [foaf_id for friend_id in friendships[user[\"id\"]] for foaf_id in friendships[friend_id]]\n",
    "\n",
    "\n",
    "foaf_ids_bad(users[0])"
   ]
  },
  {
   "cell_type": "code",
   "execution_count": 10,
   "id": "483d4350-99ae-4c7a-9976-cd4c39e6f801",
   "metadata": {},
   "outputs": [
    {
     "data": {
      "text/plain": [
       "Counter({0: 2, 5: 1})"
      ]
     },
     "execution_count": 10,
     "metadata": {},
     "output_type": "execute_result"
    }
   ],
   "source": [
    "# Function for finding the number of mutual friends\n",
    "\n",
    "def friends_of_friends(user):\n",
    "    user_id = user[\"id\"]\n",
    "    return Counter(\n",
    "        foaf_id\n",
    "        for friend_id in friendships[user_id]\n",
    "        for foaf_id in friendships[friend_id]\n",
    "        if foaf_id != user_id\n",
    "        and foaf_id not in friendships[user_id]\n",
    "    )\n",
    "\n",
    "\n",
    "friends_of_friends(users[3])"
   ]
  },
  {
   "cell_type": "markdown",
   "id": "bb18ae22-2f76-409e-b720-8680d3f3966c",
   "metadata": {},
   "source": [
    "## Analysis by interests"
   ]
  },
  {
   "cell_type": "code",
   "execution_count": 11,
   "id": "4f3a7efc-d7d8-4a34-8f2a-1e5f4f2b052f",
   "metadata": {},
   "outputs": [],
   "source": [
    "interests = [\n",
    "    (0, \"Hadoop\"), (0, \"Big Data\"), (0, \"HBase\"),\n",
    "    (0, \"Java\"), (0, \"Spark\"), (0, \"Storm\"),\n",
    "    (0, \"Cassandra\"), (1, \"NoSQL\"), (1, \"MongoDB\"),\n",
    "    (1, \"HBase\"), (1, \"Postgres\"), (2, \"Python\"),\n",
    "    (2, \"scikit-learn\"), (2, \"scipy\"), (2, \"numpy\"),\n",
    "    (2, \"statsmodels\"), (2, \"pandas\"), (3, \"R\"),\n",
    "    (3, \"Python\"), (3, \"statistics\"), (3, \"regression\"),\n",
    "    (3, \"probability\"), (4, \"machine learning\"), (4, \"regression\"),\n",
    "    (4, \"decision trees\"), (4, \"libsvm\"), (5, \"Python\"),\n",
    "    (5, \"R\"), (5, \"Java\"), (5, \"C++\"),\n",
    "    (5, \"Haskell\"), (5, \"programming languages\"), (6, \"statistics\"),\n",
    "    (6, \"probability\"), (6, \"mathematics\"), (6, \"theory\"),\n",
    "    (7, \"machine learning\"), (7, \"scikit-learn\"), (7, \"Mahout\"),\n",
    "    (7, \"neural networks\"), (8, \"neural networks\"), (8, \"deep learning\"),\n",
    "    (8, \"Big Data\"), (8, \"artificial intelligence\"), (9, \"Hadoop\"),\n",
    "    (9, \"Java\"), (9, \"MapReduce\"), (9, \"Big Data\"),\n",
    "]"
   ]
  },
  {
   "cell_type": "code",
   "execution_count": 12,
   "id": "5c54c56c-fdb6-45cf-9190-d20f0299d166",
   "metadata": {},
   "outputs": [],
   "source": [
    "# Function to search for people with the same interests\n",
    "\n",
    "def data_scientists_who_like(target_interest):\n",
    "    return [user_id for user_id, user_interest in interests if user_interest == target_interest]"
   ]
  },
  {
   "cell_type": "code",
   "execution_count": 13,
   "id": "5f3217f5-abf7-4dec-82d7-cb5d1ab38331",
   "metadata": {
    "scrolled": true
   },
   "outputs": [
    {
     "data": {
      "text/plain": [
       "defaultdict(list,\n",
       "            {'Hadoop': [0, 9],\n",
       "             'Big Data': [0, 8, 9],\n",
       "             'HBase': [0, 1],\n",
       "             'Java': [0, 5, 9],\n",
       "             'Spark': [0],\n",
       "             'Storm': [0],\n",
       "             'Cassandra': [0],\n",
       "             'NoSQL': [1],\n",
       "             'MongoDB': [1],\n",
       "             'Postgres': [1],\n",
       "             'Python': [2, 3, 5],\n",
       "             'scikit-learn': [2, 7],\n",
       "             'scipy': [2],\n",
       "             'numpy': [2],\n",
       "             'statsmodels': [2],\n",
       "             'pandas': [2],\n",
       "             'R': [3, 5],\n",
       "             'statistics': [3, 6],\n",
       "             'regression': [3, 4],\n",
       "             'probability': [3, 6],\n",
       "             'machine learning': [4, 7],\n",
       "             'decision trees': [4],\n",
       "             'libsvm': [4],\n",
       "             'C++': [5],\n",
       "             'Haskell': [5],\n",
       "             'programming languages': [5],\n",
       "             'mathematics': [6],\n",
       "             'theory': [6],\n",
       "             'Mahout': [7],\n",
       "             'neural networks': [7, 8],\n",
       "             'deep learning': [8],\n",
       "             'artificial intelligence': [8],\n",
       "             'MapReduce': [9]})"
      ]
     },
     "execution_count": 13,
     "metadata": {},
     "output_type": "execute_result"
    }
   ],
   "source": [
    "# Interest2User hashmap\n",
    "\n",
    "user_ids_by_interest = defaultdict(list)\n",
    "\n",
    "for user_id, interest in interests:\n",
    "    user_ids_by_interest[interest].append(user_id)\n",
    "\n",
    "user_ids_by_interest"
   ]
  },
  {
   "cell_type": "code",
   "execution_count": 14,
   "id": "21968fca-36f8-4d05-9df7-edb907b76084",
   "metadata": {
    "scrolled": true
   },
   "outputs": [
    {
     "data": {
      "text/plain": [
       "defaultdict(list,\n",
       "            {0: ['Hadoop',\n",
       "              'Big Data',\n",
       "              'HBase',\n",
       "              'Java',\n",
       "              'Spark',\n",
       "              'Storm',\n",
       "              'Cassandra'],\n",
       "             1: ['NoSQL', 'MongoDB', 'HBase', 'Postgres'],\n",
       "             2: ['Python',\n",
       "              'scikit-learn',\n",
       "              'scipy',\n",
       "              'numpy',\n",
       "              'statsmodels',\n",
       "              'pandas'],\n",
       "             3: ['R', 'Python', 'statistics', 'regression', 'probability'],\n",
       "             4: ['machine learning', 'regression', 'decision trees', 'libsvm'],\n",
       "             5: ['Python',\n",
       "              'R',\n",
       "              'Java',\n",
       "              'C++',\n",
       "              'Haskell',\n",
       "              'programming languages'],\n",
       "             6: ['statistics', 'probability', 'mathematics', 'theory'],\n",
       "             7: ['machine learning',\n",
       "              'scikit-learn',\n",
       "              'Mahout',\n",
       "              'neural networks'],\n",
       "             8: ['neural networks',\n",
       "              'deep learning',\n",
       "              'Big Data',\n",
       "              'artificial intelligence'],\n",
       "             9: ['Hadoop', 'Java', 'MapReduce', 'Big Data']})"
      ]
     },
     "execution_count": 14,
     "metadata": {},
     "output_type": "execute_result"
    }
   ],
   "source": [
    "# User2Interest hashmap\n",
    "\n",
    "interests_by_user_id = defaultdict(list)\n",
    "\n",
    "for user_id, interest in interests:\n",
    "    interests_by_user_id[user_id].append(interest)\n",
    "\n",
    "interests_by_user_id"
   ]
  },
  {
   "cell_type": "code",
   "execution_count": 15,
   "id": "29fb8f60-dafb-463b-90c9-611c3df2506d",
   "metadata": {},
   "outputs": [
    {
     "data": {
      "text/plain": [
       "Counter({9: 3, 8: 1, 1: 1, 5: 1})"
      ]
     },
     "execution_count": 15,
     "metadata": {},
     "output_type": "execute_result"
    }
   ],
   "source": [
    "# Function of searching for the most common interests with the user\n",
    "\n",
    "def most_common_interests_with(user):\n",
    "    return Counter(\n",
    "        interested_user_id\n",
    "        for interest in interests_by_user_id[user[\"id\"]]\n",
    "        for interested_user_id in user_ids_by_interest[interest]\n",
    "        if interested_user_id != user[\"id\"]\n",
    "    )\n",
    "\n",
    "\n",
    "most_common_interests_with(users[0])"
   ]
  },
  {
   "cell_type": "code",
   "execution_count": 16,
   "id": "7e0f89c4-d1da-401c-a183-aea7ebb51e6b",
   "metadata": {
    "scrolled": true
   },
   "outputs": [
    {
     "data": {
      "text/plain": [
       "Counter({'big': 3,\n",
       "         'data': 3,\n",
       "         'java': 3,\n",
       "         'python': 3,\n",
       "         'learning': 3,\n",
       "         'hadoop': 2,\n",
       "         'hbase': 2,\n",
       "         'scikit-learn': 2,\n",
       "         'r': 2,\n",
       "         'statistics': 2,\n",
       "         'regression': 2,\n",
       "         'probability': 2,\n",
       "         'machine': 2,\n",
       "         'neural': 2,\n",
       "         'networks': 2,\n",
       "         'spark': 1,\n",
       "         'storm': 1,\n",
       "         'cassandra': 1,\n",
       "         'nosql': 1,\n",
       "         'mongodb': 1,\n",
       "         'postgres': 1,\n",
       "         'scipy': 1,\n",
       "         'numpy': 1,\n",
       "         'statsmodels': 1,\n",
       "         'pandas': 1,\n",
       "         'decision': 1,\n",
       "         'trees': 1,\n",
       "         'libsvm': 1,\n",
       "         'c++': 1,\n",
       "         'haskell': 1,\n",
       "         'programming': 1,\n",
       "         'languages': 1,\n",
       "         'mathematics': 1,\n",
       "         'theory': 1,\n",
       "         'mahout': 1,\n",
       "         'deep': 1,\n",
       "         'artificial': 1,\n",
       "         'intelligence': 1,\n",
       "         'mapreduce': 1})"
      ]
     },
     "execution_count": 16,
     "metadata": {},
     "output_type": "execute_result"
    }
   ],
   "source": [
    "# Analyzing the popularity of words in interests\n",
    "\n",
    "words_and_counts = Counter(\n",
    "    word\n",
    "    for user, interest in interests\n",
    "    for word in interest.lower().split()\n",
    ")\n",
    "\n",
    "words_and_counts"
   ]
  },
  {
   "cell_type": "markdown",
   "id": "2285a621-6716-4dad-a024-5531018e6054",
   "metadata": {},
   "source": [
    "## Analysis by salaries"
   ]
  },
  {
   "cell_type": "code",
   "execution_count": 17,
   "id": "dcd8a083-e89f-40ee-b99a-95e2f113db7a",
   "metadata": {},
   "outputs": [],
   "source": [
    "salaries_and_tenures = [\n",
    "    (83000, 8.7), (88000, 8.1),\n",
    "    (48000, 0.7), (76000, 6),\n",
    "    (69000, 6.5), (76000, 7.5),\n",
    "    (60000, 2.5), (83000, 10),\n",
    "    (48000, 1.9), (63000, 4.2),\n",
    "]"
   ]
  },
  {
   "cell_type": "code",
   "execution_count": 18,
   "id": "dbc16a61-c409-4ac6-ba90-55f587cd484c",
   "metadata": {},
   "outputs": [
    {
     "data": {
      "text/plain": [
       "defaultdict(list,\n",
       "            {8.7: [83000],\n",
       "             8.1: [88000],\n",
       "             0.7: [48000],\n",
       "             6: [76000],\n",
       "             6.5: [69000],\n",
       "             7.5: [76000],\n",
       "             2.5: [60000],\n",
       "             10: [83000],\n",
       "             1.9: [48000],\n",
       "             4.2: [63000]})"
      ]
     },
     "execution_count": 18,
     "metadata": {},
     "output_type": "execute_result"
    }
   ],
   "source": [
    "# Salary2Tenure hashmap\n",
    "\n",
    "salary_by_tenure = defaultdict(list)\n",
    "\n",
    "for salary, tenure in salaries_and_tenures:\n",
    "    salary_by_tenure[tenure].append(salary)\n",
    "\n",
    "salary_by_tenure"
   ]
  },
  {
   "cell_type": "code",
   "execution_count": 19,
   "id": "ab23dd60-b2da-434f-8bc6-aea5497e2355",
   "metadata": {},
   "outputs": [
    {
     "data": {
      "text/plain": [
       "{8.7: 83000.0,\n",
       " 8.1: 88000.0,\n",
       " 0.7: 48000.0,\n",
       " 6: 76000.0,\n",
       " 6.5: 69000.0,\n",
       " 7.5: 76000.0,\n",
       " 2.5: 60000.0,\n",
       " 10: 83000.0,\n",
       " 1.9: 48000.0,\n",
       " 4.2: 63000.0}"
      ]
     },
     "execution_count": 19,
     "metadata": {},
     "output_type": "execute_result"
    }
   ],
   "source": [
    "# Average salary depending on tenure\n",
    "\n",
    "average_salary_by_tenure = {\n",
    "    tenure: sum(salaries) / len(salaries)\n",
    "    for tenure, salaries in salary_by_tenure.items()\n",
    "}\n",
    "\n",
    "average_salary_by_tenure"
   ]
  },
  {
   "cell_type": "code",
   "execution_count": 20,
   "id": "a4ab8864-62fa-4e4c-9507-6af47674a105",
   "metadata": {},
   "outputs": [],
   "source": [
    "# Function for correlating experience and salary\n",
    "\n",
    "def tenure_bucket(tenure):\n",
    "    if tenure < 2:\n",
    "        return \"Less than two\"\n",
    "    elif tenure < 5:\n",
    "        return \"Between two and five\"\n",
    "    else:\n",
    "        return \"More than five\""
   ]
  },
  {
   "cell_type": "code",
   "execution_count": 21,
   "id": "d3e561a8-5719-4ddc-89ac-cb86a8ae516c",
   "metadata": {},
   "outputs": [
    {
     "data": {
      "text/plain": [
       "defaultdict(list,\n",
       "            {'More than five': [83000, 88000, 76000, 69000, 76000, 83000],\n",
       "             'Less than two': [48000, 48000],\n",
       "             'Between two and five': [60000, 63000]})"
      ]
     },
     "execution_count": 21,
     "metadata": {},
     "output_type": "execute_result"
    }
   ],
   "source": [
    "# Salary2Tenure hashmap\n",
    "\n",
    "salary_by_tenure_bucket = defaultdict(list)\n",
    "\n",
    "for salary, tenure in salaries_and_tenures:\n",
    "    bucket = tenure_bucket(tenure)\n",
    "    salary_by_tenure_bucket[bucket].append(salary)\n",
    "\n",
    "salary_by_tenure_bucket"
   ]
  },
  {
   "cell_type": "code",
   "execution_count": 22,
   "id": "612e2e6a-5f3a-4b66-9f0c-5bf0957429a0",
   "metadata": {},
   "outputs": [
    {
     "data": {
      "text/plain": [
       "{'More than five': 79166.66666666667,\n",
       " 'Less than two': 48000.0,\n",
       " 'Between two and five': 61500.0}"
      ]
     },
     "execution_count": 22,
     "metadata": {},
     "output_type": "execute_result"
    }
   ],
   "source": [
    "# Average salary depending on tenure\n",
    "\n",
    "average_salary_by_bucket = {\n",
    "    tenure_bucket: sum(salaries) / len(salaries)\n",
    "    for tenure_bucket, salaries in salary_by_tenure_bucket.items()\n",
    "}\n",
    "\n",
    "average_salary_by_bucket"
   ]
  },
  {
   "cell_type": "markdown",
   "id": "42fd307d-f0a9-4c0a-abb4-291f154beefa",
   "metadata": {},
   "source": [
    "## Analysis subscriptions"
   ]
  },
  {
   "cell_type": "code",
   "execution_count": 23,
   "id": "ca327493-5216-48cf-8cd4-e08a559f8162",
   "metadata": {},
   "outputs": [],
   "source": [
    "paid_subscription_status_by_tenure = [\n",
    "    (0.7, True), (1.9, False),\n",
    "    (2.5, True), (4.2, False),\n",
    "    (6, False), (6.5, False),\n",
    "    (7.5, False), (8.1, False),\n",
    "    (8.7, True), (10, True),\n",
    "]"
   ]
  },
  {
   "cell_type": "code",
   "execution_count": 24,
   "id": "be92269a-731d-4a65-96f7-cba75b53fc15",
   "metadata": {},
   "outputs": [],
   "source": [
    "# Function for predicting the purchase of a subscription\n",
    "\n",
    "def predict_paid_or_unpaid(years_experience):\n",
    "    if years_experience < 3.0:\n",
    "        return True\n",
    "    elif years_experience < 8.5:\n",
    "        return False\n",
    "    else:\n",
    "        return True"
   ]
  }
 ],
 "metadata": {
  "kernelspec": {
   "display_name": "Python 3 (ipykernel)",
   "language": "python",
   "name": "python3"
  },
  "language_info": {
   "codemirror_mode": {
    "name": "ipython",
    "version": 3
   },
   "file_extension": ".py",
   "mimetype": "text/x-python",
   "name": "python",
   "nbconvert_exporter": "python",
   "pygments_lexer": "ipython3",
   "version": "3.12.2"
  }
 },
 "nbformat": 4,
 "nbformat_minor": 5
}
