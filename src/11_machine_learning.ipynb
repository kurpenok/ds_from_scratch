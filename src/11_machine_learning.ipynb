{
 "cells": [
  {
   "cell_type": "markdown",
   "id": "b1bb72c2-54fd-4274-8760-3ee672eeead0",
   "metadata": {},
   "source": [
    "# 11. Machine Learning"
   ]
  },
  {
   "cell_type": "markdown",
   "id": "0c8c13c4-6902-46f1-bb5e-93aa0e0b97d5",
   "metadata": {},
   "source": [
    "## Imports"
   ]
  },
  {
   "cell_type": "code",
   "execution_count": 1,
   "id": "b49cae13-f63a-49fc-81f8-657664a317aa",
   "metadata": {},
   "outputs": [],
   "source": [
    "import random\n",
    "from typing import TypeVar"
   ]
  },
  {
   "cell_type": "markdown",
   "id": "d38e1e3a-19b4-4d75-a06a-d73e2442deb2",
   "metadata": {},
   "source": [
    "## General Information"
   ]
  },
  {
   "cell_type": "code",
   "execution_count": 2,
   "id": "0efbdbb4-f47c-4d76-9319-02aecff25718",
   "metadata": {},
   "outputs": [],
   "source": [
    "X = TypeVar(\"X\")\n",
    "Y = TypeVar(\"Y\")"
   ]
  },
  {
   "cell_type": "code",
   "execution_count": 3,
   "id": "c6fbdb04-c4b0-41c7-81b5-bfdfe6ae5c3f",
   "metadata": {},
   "outputs": [],
   "source": [
    "# Function splits data into fractions [prob, 1 - prob]\n",
    "\n",
    "\n",
    "def split_data(data: list[X], prob: float) -> tuple[list[X], list[X]]:\n",
    "    data = data[:]\n",
    "    random.shuffle(data)\n",
    "    cut = int(len(data) * prob)\n",
    "    return data[:cut], data[cut:]\n",
    "\n",
    "\n",
    "data = [n for n in range(1000)]\n",
    "train, test = split_data(data, 0.75)\n",
    "\n",
    "assert len(train) == 750\n",
    "assert len(test) == 250\n",
    "\n",
    "assert sorted(train + test) == data"
   ]
  },
  {
   "cell_type": "code",
   "execution_count": 4,
   "id": "5e305ce6-93bb-4c7b-ba8c-d2011002fc2d",
   "metadata": {},
   "outputs": [],
   "source": [
    "def train_test_split(\n",
    "    xs: list[X], ys: list[Y], test_pct: float\n",
    ") -> tuple[list[X], list[X], list[Y], list[Y]]:\n",
    "    train_idxs, test_idxs = split_data([i for i in range(len(xs))], 1 - test_pct)\n",
    "\n",
    "    return (\n",
    "        [xs[i] for i in train_idxs],\n",
    "        [xs[i] for i in test_idxs],\n",
    "        [ys[i] for i in train_idxs],\n",
    "        [ys[i] for i in test_idxs],\n",
    "    )\n",
    "\n",
    "\n",
    "xs = [x for x in range(1000)]\n",
    "ys = [2 * x for x in xs]\n",
    "x_train, x_test, y_train, y_test = train_test_split(xs, ys, 0.25)\n",
    "\n",
    "assert len(x_train) == len(y_train) == 750\n",
    "assert len(x_test) == len(y_test) == 250\n",
    "\n",
    "assert all(y == 2 * x for x, y in zip(x_train, y_train))\n",
    "assert all(y == 2 * x for x, y in zip(x_test, y_test))"
   ]
  },
  {
   "cell_type": "code",
   "execution_count": 5,
   "id": "1b9de518-e40c-4c5a-9ffb-929383427030",
   "metadata": {},
   "outputs": [],
   "source": [
    "# Accuracy - proportion of correct predictions\n",
    "\n",
    "\n",
    "def accuracy(tp: int, fp: int, fn: int, tn: int) -> float:\n",
    "    correct = tp + tn\n",
    "    total = tp + fp + fn + tn\n",
    "    return correct / total\n",
    "\n",
    "\n",
    "assert accuracy(70, 4930, 13930, 981070) == 0.98114"
   ]
  },
  {
   "cell_type": "code",
   "execution_count": 6,
   "id": "510b8d7b-4c29-4b64-a20d-8df981b7e1d5",
   "metadata": {},
   "outputs": [],
   "source": [
    "# Precision - how accurate were affirmative predictions\n",
    "\n",
    "\n",
    "def precision(tp: int, fp: int, fn: int, tn: int) -> float:\n",
    "    return tp / (tp + fp)\n",
    "\n",
    "\n",
    "assert precision(70, 4930, 13930, 981070) == 0.014"
   ]
  },
  {
   "cell_type": "code",
   "execution_count": 7,
   "id": "7e972466-992d-4880-b0cb-ba3e3c9570fd",
   "metadata": {},
   "outputs": [],
   "source": [
    "# Recall - proportion of affirmative predictions\n",
    "\n",
    "\n",
    "def recall(tp: int, fp: int, fn: int, tn: int) -> float:\n",
    "    return tp / (tp + fn)\n",
    "\n",
    "\n",
    "assert recall(70, 4930, 13930, 981070) == 0.005"
   ]
  },
  {
   "cell_type": "code",
   "execution_count": 8,
   "id": "66e6df78-8fd6-4982-9287-f2492846ce3f",
   "metadata": {},
   "outputs": [],
   "source": [
    "# Harmonic mean of precision and completeness\n",
    "\n",
    "\n",
    "def f1_score(tp: int, fp: int, fn: int, tn: int) -> float:\n",
    "    p = precision(tp, fp, fn, tn)\n",
    "    r = recall(tp, fp, fn, tn)\n",
    "\n",
    "    return 2 * p * r / (p + r)"
   ]
  }
 ],
 "metadata": {
  "kernelspec": {
   "display_name": "Python 3 (ipykernel)",
   "language": "python",
   "name": "python3"
  },
  "language_info": {
   "codemirror_mode": {
    "name": "ipython",
    "version": 3
   },
   "file_extension": ".py",
   "mimetype": "text/x-python",
   "name": "python",
   "nbconvert_exporter": "python",
   "pygments_lexer": "ipython3",
   "version": "3.12.5"
  }
 },
 "nbformat": 4,
 "nbformat_minor": 5
}
