{
 "cells": [
  {
   "cell_type": "markdown",
   "id": "135d9bd1-04ce-469f-83ca-f4207d292357",
   "metadata": {},
   "source": [
    "# 02. Python Nuances"
   ]
  },
  {
   "cell_type": "markdown",
   "id": "c47a3cdb-5f69-4547-b02d-f2f24a935565",
   "metadata": {},
   "source": [
    "## Imports"
   ]
  },
  {
   "cell_type": "code",
   "execution_count": 1,
   "id": "8e99158d-26da-44ab-8ebc-a1421eeceb33",
   "metadata": {},
   "outputs": [],
   "source": [
    "import datetime\n",
    "import random\n",
    "from collections import Counter, defaultdict, namedtuple\n",
    "from dataclasses import dataclass\n",
    "from typing import NamedTuple\n",
    "\n",
    "import tqdm"
   ]
  },
  {
   "cell_type": "markdown",
   "id": "66cede9e-e10f-4321-9cfe-3ce9181b4508",
   "metadata": {},
   "source": [
    "## Defaultdict"
   ]
  },
  {
   "cell_type": "markdown",
   "id": "da791085-5adf-48f3-a371-a81329419628",
   "metadata": {},
   "source": [
    "#### Without using defaultdict"
   ]
  },
  {
   "cell_type": "code",
   "execution_count": 2,
   "id": "ce772036-a9fd-4475-9270-6c75232df036",
   "metadata": {},
   "outputs": [],
   "source": [
    "word_counts = {}\n",
    "document = {}\n",
    "\n",
    "for word in document:\n",
    "    if word in word_counts:\n",
    "        word_counts[word] += 1\n",
    "    else:\n",
    "        word_counts[word] = 1"
   ]
  },
  {
   "cell_type": "code",
   "execution_count": 3,
   "id": "875da11e-aeb1-47c8-9dd6-e8ab9c68947f",
   "metadata": {},
   "outputs": [],
   "source": [
    "word_count = {}\n",
    "\n",
    "for word in document:\n",
    "    try:\n",
    "        word_counts[word] += 1\n",
    "    except KeyError:\n",
    "        word_counts[word] = 1"
   ]
  },
  {
   "cell_type": "code",
   "execution_count": 4,
   "id": "c3dfc4be-ce57-4da2-b722-b0c1bc1079e9",
   "metadata": {},
   "outputs": [],
   "source": [
    "word_counts = {}\n",
    "\n",
    "for word in document:\n",
    "    previous_count = word_counts.get(word, 0)\n",
    "    word_counts[word] = previous_count + 1"
   ]
  },
  {
   "cell_type": "markdown",
   "id": "8f82b752-42f4-4cf6-88f0-1753a6d3230a",
   "metadata": {},
   "source": [
    "#### Using defaultdict"
   ]
  },
  {
   "cell_type": "code",
   "execution_count": 5,
   "id": "906b7d38-8f0a-4f4f-a808-adc47711bf5d",
   "metadata": {},
   "outputs": [],
   "source": [
    "word_counts = defaultdict(int)\n",
    "\n",
    "for word in document:\n",
    "    word_counts[word] += 1"
   ]
  },
  {
   "cell_type": "code",
   "execution_count": 6,
   "id": "02a1db12-4970-4c0c-9386-67ac58d41920",
   "metadata": {},
   "outputs": [
    {
     "data": {
      "text/plain": [
       "defaultdict(list, {2: [1]})"
      ]
     },
     "execution_count": 6,
     "metadata": {},
     "output_type": "execute_result"
    }
   ],
   "source": [
    "dd_list = defaultdict(list)\n",
    "dd_list[2].append(1)\n",
    "\n",
    "dd_list"
   ]
  },
  {
   "cell_type": "markdown",
   "id": "5dcaab40-55e2-4c3f-ac86-d6bbb00e3366",
   "metadata": {},
   "source": [
    "## Counter"
   ]
  },
  {
   "cell_type": "code",
   "execution_count": 7,
   "id": "b7140c13-ac52-43e2-ac8b-e7739c18ff81",
   "metadata": {},
   "outputs": [
    {
     "data": {
      "text/plain": [
       "Counter({0: 2, 1: 1, 2: 1})"
      ]
     },
     "execution_count": 7,
     "metadata": {},
     "output_type": "execute_result"
    }
   ],
   "source": [
    "c = Counter([0, 1, 2, 0])\n",
    "\n",
    "c"
   ]
  },
  {
   "cell_type": "code",
   "execution_count": 8,
   "id": "2027cd73-dc5d-4ee6-830b-43378e1e45a8",
   "metadata": {},
   "outputs": [],
   "source": [
    "# Best way to count words\n",
    "\n",
    "word_counts = Counter(document)"
   ]
  },
  {
   "cell_type": "code",
   "execution_count": 9,
   "id": "7df8b6e2-9006-4cc6-af2d-0f9e69f9fa41",
   "metadata": {},
   "outputs": [],
   "source": [
    "# Get most common elements\n",
    "\n",
    "for word, count in word_counts.most_common(10):\n",
    "    print(word, count)"
   ]
  },
  {
   "cell_type": "markdown",
   "id": "56817cf2-dfee-4434-946a-94da5edd18d3",
   "metadata": {},
   "source": [
    "## List comprehension"
   ]
  },
  {
   "cell_type": "code",
   "execution_count": 10,
   "id": "4db471b6-f4cd-4fed-a406-e2c4d085a7f3",
   "metadata": {},
   "outputs": [
    {
     "data": {
      "text/plain": [
       "[0, 2, 4]"
      ]
     },
     "execution_count": 10,
     "metadata": {},
     "output_type": "execute_result"
    }
   ],
   "source": [
    "even_numbers = [x for x in range(5) if not (x % 2)]\n",
    "\n",
    "even_numbers"
   ]
  },
  {
   "cell_type": "code",
   "execution_count": 11,
   "id": "87f4811d-2520-4de3-bd8b-089085a25c78",
   "metadata": {},
   "outputs": [
    {
     "data": {
      "text/plain": [
       "[0, 1, 4, 9, 16]"
      ]
     },
     "execution_count": 11,
     "metadata": {},
     "output_type": "execute_result"
    }
   ],
   "source": [
    "squares = [x * x for x in range(5)]\n",
    "\n",
    "squares"
   ]
  },
  {
   "cell_type": "code",
   "execution_count": 12,
   "id": "796d2db6-63e3-4e50-aa35-31653b809583",
   "metadata": {},
   "outputs": [
    {
     "data": {
      "text/plain": [
       "{0: 0, 1: 1, 2: 4, 3: 9, 4: 16}"
      ]
     },
     "execution_count": 12,
     "metadata": {},
     "output_type": "execute_result"
    }
   ],
   "source": [
    "square_dict = {x: x * x for x in range(5)}\n",
    "\n",
    "square_dict"
   ]
  },
  {
   "cell_type": "markdown",
   "id": "768e5dc7-e1f8-4ad7-8cf5-0390a62dfe9c",
   "metadata": {},
   "source": [
    "## Testing"
   ]
  },
  {
   "cell_type": "code",
   "execution_count": 13,
   "id": "43bfd87b-d7f5-4b46-97f4-4a401d41f4e3",
   "metadata": {},
   "outputs": [],
   "source": [
    "assert 1 + 1 == 2"
   ]
  },
  {
   "cell_type": "code",
   "execution_count": 14,
   "id": "c501291a-5c99-4178-a2f1-982e564b556b",
   "metadata": {},
   "outputs": [],
   "source": [
    "assert 1 + 1 == 2, \"Assert with comment\""
   ]
  },
  {
   "cell_type": "markdown",
   "id": "501871d6-0f4a-4314-bfa4-2cb4ea6b8715",
   "metadata": {},
   "source": [
    "## Named Tuples (immutable)"
   ]
  },
  {
   "cell_type": "code",
   "execution_count": 15,
   "id": "abc45f2f-4ea4-49d3-9584-740c939ebced",
   "metadata": {},
   "outputs": [],
   "source": [
    "stock_price = {\n",
    "    \"closing_price\": 102.06,\n",
    "    \"date\": datetime.date(2024, 8, 29),\n",
    "    \"symbol\": \"AAPL\",\n",
    "}\n",
    "\n",
    "# Probability of misspell when writing code\n",
    "# stock_price[\"cosing_price\"] = 106.04"
   ]
  },
  {
   "cell_type": "code",
   "execution_count": 16,
   "id": "b2895ce9-33ba-41d8-a1b8-5b2b7b11bccc",
   "metadata": {},
   "outputs": [],
   "source": [
    "StockPrice = namedtuple(\"StockPrice\", [\"symbol\", \"date\", \"closing_price\"])\n",
    "price = StockPrice(\"MSFT\", datetime.date(2024, 8, 29), 106.03)\n",
    "\n",
    "assert price.symbol == \"MSFT\"\n",
    "assert price.closing_price == 106.03"
   ]
  },
  {
   "cell_type": "code",
   "execution_count": 17,
   "id": "d4bde248-3610-48ad-9775-2bf52cfd4e9f",
   "metadata": {},
   "outputs": [],
   "source": [
    "class StockPrice(NamedTuple):\n",
    "    symbol: str\n",
    "    date: datetime.date\n",
    "    closing_price: float\n",
    "\n",
    "    def is_high_tech(self) -> bool:\n",
    "        return self.symbol in [\"MSFT\", \"GOOG\", \"FB\", \"AMZN\", \"AAPL\"]\n",
    "\n",
    "\n",
    "price = StockPrice(\"MSFT\", datetime.date(2024, 8, 29), 106.03)\n",
    "\n",
    "assert price.symbol == \"MSFT\"\n",
    "assert price.closing_price == 106.03\n",
    "assert price.is_high_tech()"
   ]
  },
  {
   "cell_type": "markdown",
   "id": "541b6435-5604-4bc1-89d4-c060b59d690d",
   "metadata": {},
   "source": [
    "## Data Classes (mutable)"
   ]
  },
  {
   "cell_type": "code",
   "execution_count": 18,
   "id": "dcc342e5-a825-484e-b87b-8b6ddd27cf10",
   "metadata": {},
   "outputs": [],
   "source": [
    "@dataclass\n",
    "class StockPrice:\n",
    "    symbol: str\n",
    "    date: datetime.date\n",
    "    closing_price: float\n",
    "\n",
    "    def is_high_tech(self) -> bool:\n",
    "        return self.symbol in [\"MSFT\", \"GOOG\", \"FB\" \"AMZN\", \"AAPL\"]\n",
    "\n",
    "\n",
    "price = StockPrice(\"MSFT\", datetime.date(2024, 8, 29), 106.03)\n",
    "\n",
    "assert price.symbol == \"MSFT\"\n",
    "assert price.closing_price == 106.03\n",
    "assert price.is_high_tech()"
   ]
  },
  {
   "cell_type": "markdown",
   "id": "ffc8effa-5001-4378-9dc3-d9006a7b2698",
   "metadata": {},
   "source": [
    "## TQDM Library"
   ]
  },
  {
   "cell_type": "code",
   "execution_count": 19,
   "id": "fd3ce590-f60c-4928-9c5b-2ba0ea5c66dd",
   "metadata": {},
   "outputs": [
    {
     "name": "stderr",
     "output_type": "stream",
     "text": [
      "|██████████████████████████████████████████████████|\n"
     ]
    }
   ],
   "source": [
    "for i in tqdm.tqdm(range(100), bar_format=\"|{bar:50}|\"):\n",
    "    _ = [random.random() for _ in range(100_000)]"
   ]
  },
  {
   "cell_type": "code",
   "execution_count": 20,
   "id": "1da5887d-0c3a-41e2-9c43-f2abe1e1df37",
   "metadata": {},
   "outputs": [
    {
     "name": "stderr",
     "output_type": "stream",
     "text": [
      "168 primes: |██████████████████████████████████████████████████|\n"
     ]
    }
   ],
   "source": [
    "def primes_up_to(n: int) -> list[int]:\n",
    "    primes = [2]\n",
    "\n",
    "    with tqdm.trange(3, n, bar_format=\"{desc}|{bar:50}|\") as t:\n",
    "        for i in t:\n",
    "            i_is_prime = not any(i % p == 0 for p in primes)\n",
    "            if i_is_prime:\n",
    "                primes.append(i)\n",
    "            t.set_description(f\"{len(primes)} primes\")\n",
    "\n",
    "    return primes\n",
    "\n",
    "\n",
    "primes = primes_up_to(1_000)"
   ]
  }
 ],
 "metadata": {
  "kernelspec": {
   "display_name": "Python 3 (ipykernel)",
   "language": "python",
   "name": "python3"
  },
  "language_info": {
   "codemirror_mode": {
    "name": "ipython",
    "version": 3
   },
   "file_extension": ".py",
   "mimetype": "text/x-python",
   "name": "python",
   "nbconvert_exporter": "python",
   "pygments_lexer": "ipython3",
   "version": "3.12.5"
  }
 },
 "nbformat": 4,
 "nbformat_minor": 5
}
