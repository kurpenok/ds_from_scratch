{
 "cells": [
  {
   "cell_type": "markdown",
   "id": "6e16bb7a-3e80-40ba-b269-c3f1f4e83e4a",
   "metadata": {},
   "source": [
    "# 09. Getting Data"
   ]
  },
  {
   "cell_type": "markdown",
   "id": "8bbc5e6d-a56b-4dd3-8abb-c702ca3136cb",
   "metadata": {},
   "source": [
    "## Imports"
   ]
  },
  {
   "cell_type": "code",
   "execution_count": 1,
   "id": "ca457115-2fba-47a3-92c9-e3cec4109369",
   "metadata": {},
   "outputs": [],
   "source": [
    "import csv\n",
    "\n",
    "import requests\n",
    "from bs4 import BeautifulSoup"
   ]
  },
  {
   "cell_type": "markdown",
   "id": "0821eb2a-354b-46a4-8aec-bdb24c4bb46b",
   "metadata": {},
   "source": [
    "## STDIN and STDOUT Objects"
   ]
  },
  {
   "cell_type": "code",
   "execution_count": 2,
   "id": "8c6487f6-4486-4294-aa09-3012efbef39f",
   "metadata": {},
   "outputs": [
    {
     "name": "stdout",
     "output_type": "stream",
     "text": [
      "2\n"
     ]
    }
   ],
   "source": [
    "!cat ../data/file.txt | python3 ../support/egrep.py \"[0-9]\" | python3 ../support/line_count.py"
   ]
  },
  {
   "cell_type": "code",
   "execution_count": 3,
   "id": "592aa71d-2690-4648-8fea-b3e9cdf35f93",
   "metadata": {},
   "outputs": [
    {
     "name": "stdout",
     "output_type": "stream",
     "text": [
      "6\tis\n"
     ]
    }
   ],
   "source": [
    "!cat ../data/file.txt | python3 ../support/most_common_words.py 1"
   ]
  },
  {
   "cell_type": "markdown",
   "id": "04757338-da10-4b16-8686-9bb4330558c6",
   "metadata": {},
   "source": [
    "## Working with Files"
   ]
  },
  {
   "cell_type": "markdown",
   "id": "2f856c8f-241f-4640-9d32-d638c71b2bf8",
   "metadata": {},
   "source": [
    "#### Text files"
   ]
  },
  {
   "cell_type": "code",
   "execution_count": 4,
   "id": "87d9cc11-7f31-4dd2-bda4-a1b6cfe99175",
   "metadata": {},
   "outputs": [],
   "source": [
    "# Writing to file with pre-cleaning\n",
    "\n",
    "file_for_writing = open(\"../data/temp.txt\", \"w\")"
   ]
  },
  {
   "cell_type": "code",
   "execution_count": 5,
   "id": "3fba771e-eb71-4181-be2e-b19276e542b2",
   "metadata": {},
   "outputs": [],
   "source": [
    "# Opening file for reading\n",
    "\n",
    "file_for_reading1 = open(\"../data/temp.txt\")\n",
    "file_for_reading2 = open(\"../data/temp.txt\", \"r\")"
   ]
  },
  {
   "cell_type": "code",
   "execution_count": 6,
   "id": "fdfeba8b-e3ab-48e7-b6c6-692eb088bba6",
   "metadata": {},
   "outputs": [],
   "source": [
    "# Opening file for append data\n",
    "\n",
    "file_for_append = open(\"../data/temp.txt\", \"a\")"
   ]
  },
  {
   "cell_type": "code",
   "execution_count": 7,
   "id": "b9d23ef4-8d8b-458d-9366-666024e96850",
   "metadata": {},
   "outputs": [],
   "source": [
    "# When working with files, you need to close them to record changes\n",
    "\n",
    "file_for_append.close()\n",
    "file_for_reading2.close()\n",
    "file_for_reading1.close()\n",
    "file_for_writing.close()"
   ]
  },
  {
   "cell_type": "code",
   "execution_count": 8,
   "id": "4da34677-efbc-4c61-85d2-37673de2792e",
   "metadata": {},
   "outputs": [],
   "source": [
    "# `with-open` construction closes file automatically\n",
    "\n",
    "with open(\"../data/temp.txt\") as temp:\n",
    "    data = temp.read()"
   ]
  },
  {
   "cell_type": "markdown",
   "id": "829ecfdf-6808-44e1-8b0d-3748e851cd3b",
   "metadata": {},
   "source": [
    "#### Delimited files"
   ]
  },
  {
   "cell_type": "code",
   "execution_count": 9,
   "id": "6fee07d5-5636-4d2f-9684-8f1458029395",
   "metadata": {},
   "outputs": [
    {
     "name": "stdout",
     "output_type": "stream",
     "text": [
      "27.08.2024 magnit 5128.0\n"
     ]
    }
   ],
   "source": [
    "with open(\"../data/file.csv\") as file:\n",
    "    reader = csv.reader(file, delimiter=\",\")\n",
    "    for row in reader:\n",
    "        date = row[0]\n",
    "        company = row[1]\n",
    "        price = row[2]\n",
    "\n",
    "print(date, company, price)"
   ]
  },
  {
   "cell_type": "code",
   "execution_count": 10,
   "id": "e430f5d2-3041-45c0-8900-37c15c7b7228",
   "metadata": {},
   "outputs": [
    {
     "name": "stdout",
     "output_type": "stream",
     "text": [
      "27.08.2024 magnit 5128.0\n"
     ]
    }
   ],
   "source": [
    "with open(\"../data/file.csv\") as file:\n",
    "    reader = csv.DictReader(file, delimiter=\",\")\n",
    "    for row in reader:\n",
    "        data = row[\"date\"]\n",
    "        company = row[\"company\"]\n",
    "        price = row[\"price\"]\n",
    "\n",
    "print(date, company, price)"
   ]
  },
  {
   "cell_type": "code",
   "execution_count": 11,
   "id": "8e6c5a30-53c4-43e7-ab5a-1db50fb74f22",
   "metadata": {},
   "outputs": [],
   "source": [
    "prices = {\"key\": \"value\"}\n",
    "\n",
    "with open(\"../data/temp.csv\", \"w\") as file:\n",
    "    writer = csv.writer(file, delimiter=\",\")\n",
    "    for company, price in prices.items():\n",
    "        writer.writerow([company, price])"
   ]
  },
  {
   "cell_type": "markdown",
   "id": "92430af9-6eff-451a-bd20-fcf37ce4097d",
   "metadata": {},
   "source": [
    "## Getting Data from Internet"
   ]
  },
  {
   "cell_type": "code",
   "execution_count": 12,
   "id": "7156693c-df03-4f93-9585-1d6312ddc31f",
   "metadata": {},
   "outputs": [],
   "source": [
    "url = \"https://raw.githubusercontent.com/joelgrus/data/master/getting-data.html\"\n",
    "\n",
    "html = requests.get(url).text\n",
    "soup = BeautifulSoup(html, \"html5lib\")"
   ]
  },
  {
   "cell_type": "code",
   "execution_count": 13,
   "id": "62003986-592e-434c-8060-719112a1eb7b",
   "metadata": {},
   "outputs": [],
   "source": [
    "# First tag <p>\n",
    "\n",
    "first_paragraph = soup.find(\"p\")"
   ]
  },
  {
   "cell_type": "code",
   "execution_count": 14,
   "id": "84052895-715e-41e0-b468-13df3025f61d",
   "metadata": {},
   "outputs": [],
   "source": [
    "# Text of first tag <p>\n",
    "\n",
    "first_paragraph_text = soup.p.text"
   ]
  },
  {
   "cell_type": "code",
   "execution_count": 15,
   "id": "7de10064-05c3-4bf2-b43e-fde333f28564",
   "metadata": {},
   "outputs": [],
   "source": [
    "# Words from text of first tag <p>\n",
    "\n",
    "first_paragraph_words = soup.p.text.split()"
   ]
  },
  {
   "cell_type": "code",
   "execution_count": 16,
   "id": "c0cfaa9b-8e2e-4dbd-97eb-6edf2409db93",
   "metadata": {},
   "outputs": [],
   "source": [
    "# Tag with specific id\n",
    "\n",
    "first_paragraph_id = soup.p.get(\"id\")"
   ]
  },
  {
   "cell_type": "code",
   "execution_count": 17,
   "id": "c000a587-2aac-4d27-9f6a-fac3333fe27b",
   "metadata": {},
   "outputs": [],
   "source": [
    "# List with all tags <p>\n",
    "\n",
    "all_paragraphs = soup.find_all(\"p\")"
   ]
  },
  {
   "cell_type": "code",
   "execution_count": 18,
   "id": "31364d30-dccc-4db4-a189-0b0750c0836b",
   "metadata": {},
   "outputs": [],
   "source": [
    "# List with all tags <p> with specific ids\n",
    "\n",
    "paragraphs_with_ids = [p for p in soup(\"p\") if p.get(\"id\")]"
   ]
  },
  {
   "cell_type": "code",
   "execution_count": 19,
   "id": "eb5197b1-3bb2-455c-b31e-736abff073cb",
   "metadata": {},
   "outputs": [],
   "source": [
    "# List with all tags <p> with specific class\n",
    "\n",
    "important_paragraphs = soup(\"p\", {\"class\": \"important\"})\n",
    "important_paragraphs = soup(\"p\", \"important\")\n",
    "important_paragraphs = [p for p in soup(\"p\") if \"important\" in p.get(\"class\", [])]"
   ]
  },
  {
   "cell_type": "code",
   "execution_count": 20,
   "id": "a06b46ad-5792-4867-828c-ba7779387244",
   "metadata": {},
   "outputs": [],
   "source": [
    "# Search for nested tags\n",
    "\n",
    "spans_inside_divs = [span for div in soup(\"div\") for span in div(\"span\")]"
   ]
  }
 ],
 "metadata": {
  "kernelspec": {
   "display_name": "Python 3 (ipykernel)",
   "language": "python",
   "name": "python3"
  },
  "language_info": {
   "codemirror_mode": {
    "name": "ipython",
    "version": 3
   },
   "file_extension": ".py",
   "mimetype": "text/x-python",
   "name": "python",
   "nbconvert_exporter": "python",
   "pygments_lexer": "ipython3",
   "version": "3.12.6"
  }
 },
 "nbformat": 4,
 "nbformat_minor": 5
}
