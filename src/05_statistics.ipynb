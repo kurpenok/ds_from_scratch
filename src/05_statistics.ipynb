{
 "cells": [
  {
   "cell_type": "markdown",
   "id": "f84d8b20-91e7-4514-a8f1-1d3b175fb105",
   "metadata": {},
   "source": [
    "# 05. Statistics"
   ]
  },
  {
   "cell_type": "markdown",
   "id": "2d7c8d8a-7b22-428b-bf4b-0aab9fe1b856",
   "metadata": {},
   "source": [
    "## Imports"
   ]
  },
  {
   "cell_type": "code",
   "execution_count": 1,
   "id": "978bdc9c-0495-4aea-a14a-cfa6d2f170ec",
   "metadata": {},
   "outputs": [],
   "source": [
    "import math\n",
    "from collections import Counter"
   ]
  },
  {
   "cell_type": "code",
   "execution_count": 2,
   "id": "9aec723f-f653-445d-8a56-6e332349cf0d",
   "metadata": {},
   "outputs": [],
   "source": [
    "# Import functions from another notebook\n",
    "\n",
    "%run -i 04_linear_algebra.ipynb"
   ]
  },
  {
   "cell_type": "markdown",
   "id": "f4ef672c-fe23-431f-8ee9-dcddd542cd91",
   "metadata": {},
   "source": [
    "## Central Trends"
   ]
  },
  {
   "cell_type": "code",
   "execution_count": 3,
   "id": "8c34d7a2-ac56-42f8-adfe-8337f777f8cf",
   "metadata": {},
   "outputs": [],
   "source": [
    "# Arithmetic mean\n",
    "\n",
    "def mean(xs: list[float]) -> float:\n",
    "    return sum(xs) / len(xs)"
   ]
  },
  {
   "cell_type": "code",
   "execution_count": 4,
   "id": "7156178d-a2c6-47ac-904b-b692b4ccc254",
   "metadata": {},
   "outputs": [],
   "source": [
    "# Median - closest value to center\n",
    "\n",
    "def _median_odd(xs: list[float]) -> float:\n",
    "    return sorted(xs)[len(xs) // 2]\n",
    "\n",
    "\n",
    "def _median_even(xs: list[float]) -> float:\n",
    "    sorted_xs = sorted(xs)\n",
    "    hi_midpoint = len(xs) // 2\n",
    "    return (sorted_xs[hi_midpoint - 1] + sorted_xs[hi_midpoint]) / 2\n",
    "\n",
    "\n",
    "def median(v: list[float]) -> float:\n",
    "    return _median_odd(v) if len(v) % 2 else _median_even(v)\n",
    "\n",
    "\n",
    "assert median([1, 10, 2, 9, 5]) == 5\n",
    "assert median([1, 9, 2, 10]) == (2 + 9) / 2"
   ]
  },
  {
   "cell_type": "code",
   "execution_count": 5,
   "id": "ce32d39b-7618-41b7-a525-8049315b5a1e",
   "metadata": {},
   "outputs": [],
   "source": [
    "# Quantile - median on certain percentile of data\n",
    "\n",
    "def quantile(xs: list[float], p: float) -> float:\n",
    "    p_index = int(p * len(xs))\n",
    "    return sorted(x)[p_index]"
   ]
  },
  {
   "cell_type": "code",
   "execution_count": 6,
   "id": "9d7a5116-7482-4295-a27c-747b8088dccf",
   "metadata": {},
   "outputs": [],
   "source": [
    "# Mode - most common values\n",
    "\n",
    "def mode(xs: list[float]) -> list[float]:\n",
    "    counts = Counter(xs)\n",
    "    max_count = max(counts.values())\n",
    "    return [x_i for x_i, count in counts.items() if count == max_count]"
   ]
  },
  {
   "cell_type": "markdown",
   "id": "c495a8ac-b144-4448-bc15-f69a39c9fb82",
   "metadata": {},
   "source": [
    "## Variation"
   ]
  },
  {
   "cell_type": "code",
   "execution_count": 7,
   "id": "4c5607e6-659f-47ae-90e6-1f71f2462994",
   "metadata": {},
   "outputs": [],
   "source": [
    "# Range - difference between maximum and minimum values\n",
    "\n",
    "def data_range(xs: list[float]) -> float:\n",
    "    return max(xs) - min(xs)"
   ]
  },
  {
   "cell_type": "code",
   "execution_count": 8,
   "id": "f166b28e-9635-4ae9-89c7-18a4dc7f5baf",
   "metadata": {},
   "outputs": [],
   "source": [
    "# Function of subtracting value from mean\n",
    "\n",
    "def de_mean(xs: list[float]) -> list[float]:\n",
    "    x_bar = mean(xs)\n",
    "    return [x - x_bar for x in xs]"
   ]
  },
  {
   "cell_type": "code",
   "execution_count": 9,
   "id": "1c4c71ba-e2b9-4d5f-9452-67e67475e70f",
   "metadata": {},
   "outputs": [],
   "source": [
    "# Variance obtaining function\n",
    "\n",
    "def variance(xs: list[float]) -> float:\n",
    "    assert len(xs) >= 2, \"[-] Variance requires at least two elements!\"\n",
    "\n",
    "    n = len(xs)\n",
    "    deviations = de_mean(xs)\n",
    "    return sum_of_squares(deviations) / (n - 1)"
   ]
  },
  {
   "cell_type": "code",
   "execution_count": 10,
   "id": "5300ec0a-2da4-4c34-b4f9-920c40a38435",
   "metadata": {},
   "outputs": [],
   "source": [
    "# Standard deviation obtaining function\n",
    "\n",
    "def standard_deviation(xs: list[float]) -> float:\n",
    "    return math.sqrt(variance(xs))"
   ]
  },
  {
   "cell_type": "code",
   "execution_count": 11,
   "id": "1c036ec7-e4bc-4bb5-9557-27060b01808c",
   "metadata": {},
   "outputs": [],
   "source": [
    "# Interquartile range obtaining function\n",
    "\n",
    "def interquartile_range(xs: list[float]) -> float:\n",
    "    return quantile(xs, 0.75) - quantile(xs, 0.25)"
   ]
  },
  {
   "cell_type": "markdown",
   "id": "b21ec570-8a4a-44a1-8281-b793d87dbb84",
   "metadata": {},
   "source": [
    "## Correlation"
   ]
  },
  {
   "cell_type": "code",
   "execution_count": 12,
   "id": "c897f8ab-a573-4936-9cda-0e25f92a2f0f",
   "metadata": {},
   "outputs": [],
   "source": [
    "# Covariance - measures deviation of two variables\n",
    "\n",
    "def covariance(xs: list[float], ys: list[float]) -> float:\n",
    "    assert len(xs) == len(ys), \"[-] XS and YS must have same number of elements!\"\n",
    "    return dot(de_mean(xs), de_mean(ys)) / (len(xs) - 1)"
   ]
  },
  {
   "cell_type": "code",
   "execution_count": 13,
   "id": "19ae7dd7-f5bb-46d1-9c26-b8183635dc04",
   "metadata": {},
   "outputs": [],
   "source": [
    "# Correlation - dependence of one variable on another\n",
    "\n",
    "def correlation(xs: list[float], ys: list[float]) -> float:\n",
    "    stdev_x = standard_deviation(xs)\n",
    "    stdev_y = standard_deviation(ys)\n",
    "    if stdev_x > 0 and stdev_y > 0:\n",
    "        return covariance(xs, ys) / stdev_x / stdev_y\n",
    "    else:\n",
    "        return 0"
   ]
  }
 ],
 "metadata": {
  "kernelspec": {
   "display_name": "Python 3 (ipykernel)",
   "language": "python",
   "name": "python3"
  },
  "language_info": {
   "codemirror_mode": {
    "name": "ipython",
    "version": 3
   },
   "file_extension": ".py",
   "mimetype": "text/x-python",
   "name": "python",
   "nbconvert_exporter": "python",
   "pygments_lexer": "ipython3",
   "version": "3.12.6"
  }
 },
 "nbformat": 4,
 "nbformat_minor": 5
}
