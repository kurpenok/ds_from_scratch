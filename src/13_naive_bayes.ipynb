{
 "cells": [
  {
   "cell_type": "markdown",
   "id": "3f5c074f-376c-4c21-b48a-cea66d89b062",
   "metadata": {},
   "source": [
    "# 13. Naive Bayes"
   ]
  },
  {
   "cell_type": "markdown",
   "id": "e5254bd9-f797-4bbc-89c1-a99bfc8b882a",
   "metadata": {},
   "source": [
    "## Imports"
   ]
  },
  {
   "cell_type": "code",
   "execution_count": 1,
   "id": "b66d9fce-18ef-49d2-8c85-423fcffb9847",
   "metadata": {},
   "outputs": [],
   "source": [
    "import glob\n",
    "import math\n",
    "import random\n",
    "import re\n",
    "import tarfile\n",
    "import warnings\n",
    "from collections import Counter, defaultdict\n",
    "from io import BytesIO\n",
    "from typing import Iterable, NamedTuple\n",
    "\n",
    "import requests"
   ]
  },
  {
   "cell_type": "code",
   "execution_count": 2,
   "id": "a94909cd-fe0f-423a-abe1-10c1ea5b9bad",
   "metadata": {},
   "outputs": [],
   "source": [
    "random.seed(0)"
   ]
  },
  {
   "cell_type": "code",
   "execution_count": 3,
   "id": "a76b6fff-de1a-4260-b7e4-3c09c3c5af75",
   "metadata": {},
   "outputs": [],
   "source": [
    "warnings.filterwarnings(\"ignore\")"
   ]
  },
  {
   "cell_type": "code",
   "execution_count": 4,
   "id": "ba38d828-70dc-4b80-8e7c-a4960e9fb264",
   "metadata": {},
   "outputs": [],
   "source": [
    "# Importing functions from another notebook\n",
    "\n",
    "%run -i 11_machine_learning.ipynb"
   ]
  },
  {
   "cell_type": "markdown",
   "id": "64b815ee-53f3-4c4f-a7d0-55ab5239190e",
   "metadata": {},
   "source": [
    "## Spam Filter Implementation"
   ]
  },
  {
   "cell_type": "code",
   "execution_count": 5,
   "id": "926e94ee-f2a1-4032-8789-a589f92a5812",
   "metadata": {},
   "outputs": [],
   "source": [
    "# Function returns set of words from text\n",
    "\n",
    "def tokenize(text: str) -> set[str]:\n",
    "    text = text.lower()\n",
    "    all_words = re.findall(\"[a-z0-9']+\", text)\n",
    "    return set(all_words)\n",
    "\n",
    "\n",
    "assert tokenize(\"Data Science is science\") == {\"data\", \"science\", \"is\"}"
   ]
  },
  {
   "cell_type": "code",
   "execution_count": 6,
   "id": "9f175de1-63e5-4342-aa86-f7ceccfdf372",
   "metadata": {},
   "outputs": [],
   "source": [
    "class Message(NamedTuple):\n",
    "    text: str\n",
    "    is_spam: bool"
   ]
  },
  {
   "cell_type": "markdown",
   "id": "8d50cc09-0d64-4efa-b1de-85a19f239ff0",
   "metadata": {},
   "source": [
    "#### Naive Bayes classifier"
   ]
  },
  {
   "cell_type": "code",
   "execution_count": 7,
   "id": "b31b0184-96be-4421-90d5-5727cfb57f06",
   "metadata": {},
   "outputs": [],
   "source": [
    "class NaiveBayesClassifier:\n",
    "    def __init__(self, k: float = 0.5) -> None:\n",
    "        self.k = k\n",
    "        self.tokens: set[str] = set()\n",
    "        self.token_spam_counts: dict[str, int] = defaultdict(int)\n",
    "        self.token_ham_counts: dict[str, int] = defaultdict(int)\n",
    "        self.spam_messages = 0\n",
    "        self.ham_messages = 0\n",
    "\n",
    "    def train(self, messages: Iterable[Message]) -> None:\n",
    "        for message in messages:\n",
    "            if message.is_spam:\n",
    "                self.spam_messages += 1\n",
    "            else:\n",
    "                self.ham_messages += 1\n",
    "\n",
    "            for token in tokenize(message.text):\n",
    "                self.tokens.add(token)\n",
    "                if message.is_spam:\n",
    "                    self.token_spam_counts[token] += 1\n",
    "                else:\n",
    "                    self.token_ham_counts[token] += 1\n",
    "\n",
    "    def _probabilities(self, token: str) -> tuple[float, float]:\n",
    "        spam = self.token_spam_counts[token]\n",
    "        ham = self.token_ham_counts[token]\n",
    "\n",
    "        p_token_spam = (spam + self.k) / (self.spam_messages + 2 * self.k)\n",
    "        p_token_ham = (ham + self.k) / (self.ham_messages + 2 * self.k)\n",
    "\n",
    "        return p_token_spam, p_token_ham\n",
    "\n",
    "    def predict(self, text: str) -> float:\n",
    "        text_tokens = tokenize(text)\n",
    "        log_prob_if_spam = 0.0\n",
    "        log_prob_if_ham = 0.0\n",
    "\n",
    "        for token in self.tokens:\n",
    "            prob_if_spam, prob_if_ham = self._probabilities(token)\n",
    "            if token in text_tokens:\n",
    "                log_prob_if_spam += math.log(prob_if_spam)\n",
    "                log_prob_if_ham += math.log(prob_if_ham)\n",
    "            else:\n",
    "                log_prob_if_spam += math.log(1.0 - prob_if_spam)\n",
    "                log_prob_if_ham += math.log(1.0 - prob_if_ham)\n",
    "\n",
    "        prob_if_spam = math.exp(log_prob_if_spam)\n",
    "        prob_if_ham = math.exp(log_prob_if_ham)\n",
    "\n",
    "        return prob_if_spam / (prob_if_spam + prob_if_ham)"
   ]
  },
  {
   "cell_type": "markdown",
   "id": "bdff8331-903e-4f69-b829-9e686cedb4bf",
   "metadata": {},
   "source": [
    "#### Testing naive Bayes classifier"
   ]
  },
  {
   "cell_type": "code",
   "execution_count": 8,
   "id": "e616477f-3cc1-4639-bde4-927acff3750a",
   "metadata": {},
   "outputs": [],
   "source": [
    "messages = [\n",
    "    Message(\"spam rules\", is_spam=True),\n",
    "    Message(\"ham rules\", is_spam=False),\n",
    "    Message(\"hello ham\", is_spam=False),\n",
    "]"
   ]
  },
  {
   "cell_type": "code",
   "execution_count": 9,
   "id": "2ef360b9-6d76-41e9-a6ba-8a34190f82f4",
   "metadata": {},
   "outputs": [],
   "source": [
    "model = NaiveBayesClassifier(k=0.5)\n",
    "model.train(messages)"
   ]
  },
  {
   "cell_type": "code",
   "execution_count": 10,
   "id": "d6279fc5-bfa1-46e8-99fb-af17ba0ac2eb",
   "metadata": {},
   "outputs": [],
   "source": [
    "assert model.tokens == {\"spam\", \"ham\", \"rules\", \"hello\"}\n",
    "assert model.spam_messages == 1\n",
    "assert model.ham_messages == 2\n",
    "assert model.token_spam_counts == {\"spam\": 1, \"rules\": 1}\n",
    "assert model.token_ham_counts == {\"ham\": 2, \"rules\": 1, \"hello\": 1}"
   ]
  },
  {
   "cell_type": "code",
   "execution_count": 11,
   "id": "22bfa3f6-8ba2-4575-987c-8766fdab5060",
   "metadata": {},
   "outputs": [],
   "source": [
    "# Data for testing classifier\n",
    "\n",
    "text = \"hello spam\"\n",
    "\n",
    "probs_if_spam = [\n",
    "    (1 + 0.5) / (1 + 2 * 0.5),\n",
    "    1 - (0 + 0.5) / (1 + 2 * 0.5),\n",
    "    1 - (1 + 0.5) / (1 + 2 * 0.5),\n",
    "    (0 + 0.5) / (1 + 2 * 0.5),\n",
    "]\n",
    "\n",
    "probs_if_ham = [\n",
    "    (0 + 0.5) / (2 + 2 * 0.5),\n",
    "    1 - (2 + 0.5) / (2 + 2 * 0.5),\n",
    "    1 - (1 + 0.5) / (2 + 2 * 0.5),\n",
    "    (1 + 0.5) / (2 + 2 * 0.5),\n",
    "]\n",
    "\n",
    "p_if_spam = math.exp(sum(math.log(p) for p in probs_if_spam))\n",
    "p_if_ham = math.exp(sum(math.log(p) for p in probs_if_ham))"
   ]
  },
  {
   "cell_type": "code",
   "execution_count": 12,
   "id": "536bd1bc-aca8-49a9-8d4a-ec36b52fcadb",
   "metadata": {},
   "outputs": [],
   "source": [
    "assert model.predict(text) == p_if_spam / (p_if_spam + p_if_ham)"
   ]
  },
  {
   "cell_type": "markdown",
   "id": "ba24e94c-39fd-4e9d-ba93-16ca51ca069c",
   "metadata": {},
   "source": [
    "## Model Application"
   ]
  },
  {
   "cell_type": "code",
   "execution_count": 13,
   "id": "78a65f26-702d-4b55-ad63-594b42f5ea51",
   "metadata": {},
   "outputs": [],
   "source": [
    "BASE_URL = \"https://spamassassin.apache.org/old/publiccorpus\""
   ]
  },
  {
   "cell_type": "code",
   "execution_count": 14,
   "id": "318eafb3-ea46-40ba-adf5-334be6848bca",
   "metadata": {},
   "outputs": [],
   "source": [
    "FILES = [\n",
    "    \"20021010_easy_ham.tar.bz2\",\n",
    "    \"20021010_hard_ham.tar.bz2\",\n",
    "    \"20021010_spam.tar.bz2\",\n",
    "]"
   ]
  },
  {
   "cell_type": "code",
   "execution_count": 15,
   "id": "9857e8d9-dd4b-4c66-b0d6-7f20ee346088",
   "metadata": {},
   "outputs": [],
   "source": [
    "OUTPUT_DIR = \"../data/spam_data\""
   ]
  },
  {
   "cell_type": "code",
   "execution_count": 16,
   "id": "b45f4cd2-3c3c-40c7-9dd7-7467fde0a04f",
   "metadata": {},
   "outputs": [],
   "source": [
    "for filename in FILES:\n",
    "    content = requests.get(f\"{BASE_URL}/{filename}\").content\n",
    "\n",
    "    fin = BytesIO(content)\n",
    "\n",
    "    with tarfile.open(fileobj=fin, mode=\"r:bz2\") as tf:\n",
    "        tf.extractall(OUTPUT_DIR)"
   ]
  },
  {
   "cell_type": "code",
   "execution_count": 17,
   "id": "77e80b5f-f45e-481f-a2d3-f1e91bf1d9e3",
   "metadata": {},
   "outputs": [],
   "source": [
    "path = \"../data/spam_data/*/*\""
   ]
  },
  {
   "cell_type": "code",
   "execution_count": 18,
   "id": "7be2e619-8422-43ae-b48d-e65656b9e42d",
   "metadata": {},
   "outputs": [],
   "source": [
    "data: list[Message] = []"
   ]
  },
  {
   "cell_type": "code",
   "execution_count": 19,
   "id": "fda3653b-d9f7-4bdc-99da-610f8765aea0",
   "metadata": {},
   "outputs": [],
   "source": [
    "for filename in glob.glob(path):\n",
    "    is_spam = \"ham\" not in filename\n",
    "\n",
    "    with open(filename, errors=\"ignore\") as email_file:\n",
    "        for line in email_file:\n",
    "            if line.startswith(\"Subject:\"):\n",
    "                subject = line.lstrip(\"Subject: \")\n",
    "                data.append(Message(subject, is_spam))\n",
    "                break"
   ]
  },
  {
   "cell_type": "code",
   "execution_count": 20,
   "id": "f6c305ea-e476-4983-be05-5af2ba3fc4c5",
   "metadata": {},
   "outputs": [],
   "source": [
    "train_messages, test_messages = split_data(data, 0.75)"
   ]
  },
  {
   "cell_type": "code",
   "execution_count": 21,
   "id": "bf1fcdfb-da4b-43c4-ad4d-0e266350700a",
   "metadata": {},
   "outputs": [],
   "source": [
    "model = NaiveBayesClassifier()\n",
    "model.train(train_messages)"
   ]
  },
  {
   "cell_type": "code",
   "execution_count": 22,
   "id": "fe2d13a8-62f1-40f2-be82-2d5d974527e0",
   "metadata": {},
   "outputs": [],
   "source": [
    "predictions = [(message, model.predict(message.text)) for message in test_messages]"
   ]
  },
  {
   "cell_type": "code",
   "execution_count": 23,
   "id": "1fc49ba6-3a75-49b5-b4bf-708308a9462e",
   "metadata": {},
   "outputs": [],
   "source": [
    "confusion_matrix = Counter((message.is_spam, spam_probability > 0.5) for message, spam_probability in predictions)"
   ]
  },
  {
   "cell_type": "code",
   "execution_count": 24,
   "id": "5e2e23a8-5933-4565-9351-eeecfaded7ce",
   "metadata": {},
   "outputs": [
    {
     "name": "stdout",
     "output_type": "stream",
     "text": [
      "[+] Confusion matrix: Counter({(False, False): 686, (True, True): 79, (True, False): 36, (False, True): 24})\n"
     ]
    }
   ],
   "source": [
    "print(f\"[+] Confusion matrix: {confusion_matrix}\")"
   ]
  },
  {
   "cell_type": "code",
   "execution_count": 25,
   "id": "14f09137-8fe7-47d7-8f15-ebacdf924ac2",
   "metadata": {},
   "outputs": [],
   "source": [
    "def p_spam_given_token(token: str, model: NaiveBayesClassifier) -> float:\n",
    "    prob_if_spam, prob_if_ham = model._probabilities(token)\n",
    "    return prob_if_spam / (prob_if_spam + prob_if_ham)"
   ]
  },
  {
   "cell_type": "code",
   "execution_count": 26,
   "id": "4df6c451-d18e-47eb-8697-6813629ed2c4",
   "metadata": {},
   "outputs": [],
   "source": [
    "words = sorted(model.tokens, key=lambda t: p_spam_given_token(t, model))"
   ]
  },
  {
   "cell_type": "code",
   "execution_count": 27,
   "id": "ade44153-3762-4e61-9962-7b3876229afa",
   "metadata": {},
   "outputs": [
    {
     "name": "stdout",
     "output_type": "stream",
     "text": [
      "[+] Most spammy words: ['marketing', 'zzzz', 'clearance', '95', 'per', 'systemworks', 'sale', 'rates', 'money', 'adv']\n",
      "[+] Least spam words: ['spambayes', 'users', 'razor', 'zzzzteana', 'sadev', 'ouch', 'apt', 'bliss', 'selling', 'wedded']\n"
     ]
    }
   ],
   "source": [
    "print(f\"[+] Most spammy words: {words[-10:]}\")\n",
    "print(f\"[+] Least spam words: {words[:10]}\")"
   ]
  }
 ],
 "metadata": {
  "kernelspec": {
   "display_name": "Python 3 (ipykernel)",
   "language": "python",
   "name": "python3"
  },
  "language_info": {
   "codemirror_mode": {
    "name": "ipython",
    "version": 3
   },
   "file_extension": ".py",
   "mimetype": "text/x-python",
   "name": "python",
   "nbconvert_exporter": "python",
   "pygments_lexer": "ipython3",
   "version": "3.12.6"
  }
 },
 "nbformat": 4,
 "nbformat_minor": 5
}
